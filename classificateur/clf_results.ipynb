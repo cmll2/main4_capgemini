{
 "cells": [
  {
   "cell_type": "code",
   "execution_count": 37,
   "metadata": {},
   "outputs": [],
   "source": [
    "import matplotlib.pyplot as plt\n",
    "import pandas as pd\n",
    "import sklearn\n",
    "import seaborn as sns\n",
    "from sklearn.metrics import accuracy_score\n",
    "from sklearn import model_selection\n",
    "from sklearn.linear_model import LogisticRegression\n",
    "from sklearn.neural_network import MLPClassifier\n",
    "from sklearn.linear_model import SGDClassifier\n",
    "from sklearn.tree import DecisionTreeClassifier\n",
    "from sklearn.neighbors import KNeighborsClassifier\n",
    "from sklearn.discriminant_analysis import LinearDiscriminantAnalysis\n",
    "from sklearn.naive_bayes import GaussianNB\n",
    "from sklearn.svm import SVC\n",
    "from sklearn.model_selection import train_test_split\n",
    "from sklearn import datasets\n",
    "from sklearn.metrics import confusion_matrix\n",
    "import matplotlib.pyplot as plt\n",
    "from colorspacious import cspace_converter\n",
    "plt.style.use('ggplot')\n",
    "import datetime"
   ]
  },
  {
   "attachments": {},
   "cell_type": "markdown",
   "metadata": {},
   "source": [
    "## Définition des différentes métriques que nous allons tester :\n"
   ]
  },
  {
   "attachments": {},
   "cell_type": "markdown",
   "metadata": {},
   "source": [
    "Précision: c'est le nombre de vrais positifs divisé par le nombre total de positifs prédits. Elle mesure la proportion de résultats positifs corrects parmi tous les résultats positifs prédits.\n",
    "\n",
    "\n",
    "Rappel: c'est le nombre de vrais positifs divisé par le nombre total de vrais positifs. Elle mesure la proportion de résultats positifs corrects parmi tous les éléments qui sont réellement positifs.\n",
    "\n",
    "\n",
    "F1-score: c'est une métrique qui combine la précision et le rappel en un seul score. Elle est calculée en utilisant la formule suivante: F1-score = 2 * (précision * rappel) / (précision + rappel)\n",
    "\n",
    "\n",
    "AUC (Area Under the Curve): c'est une métrique couramment utilisée pour évaluer les modèles de classification binaires. Elle mesure l'aire sous la courbe ROC (Receiver Operating Characteristic). La courbe ROC est un graphique qui montre comment le taux de vrais positifs (sensibilité) change avec le taux de faux positifs (spécificité) en fonction de différents seuils de classification."
   ]
  },
  {
   "attachments": {},
   "cell_type": "markdown",
   "metadata": {},
   "source": [
    "## Test accuracy + matrice de confusion\n",
    "\n"
   ]
  },
  {
   "cell_type": "code",
   "execution_count": 38,
   "metadata": {},
   "outputs": [],
   "source": [
    "dataset = pd.read_csv('/home/portable014/Bureau/neelp_1/MAIN_4_PC/Projet/main4_capgemini/pre-traitement/données/stockage_csv_non_normalized/64_adresse_vouloir.csv')\n",
    "#le path est à changer en fonction de l'endroit où on a mis le fichier csv\n",
    "#ici, il prend un csv pré-enregistré avec 2 mots différents\n"
   ]
  },
  {
   "attachments": {},
   "cell_type": "markdown",
   "metadata": {},
   "source": [
    " Attention : paramètres à changer en fonction du csv"
   ]
  },
  {
   "cell_type": "code",
   "execution_count": 39,
   "metadata": {},
   "outputs": [],
   "source": [
    "nb_mots = 64 #nombre de classe de mots différents dans le csv"
   ]
  },
  {
   "cell_type": "code",
   "execution_count": 40,
   "metadata": {},
   "outputs": [],
   "source": [
    "dataset =dataset.fillna(0) #remplace les valeurs manquantes par 0\n",
    "\n",
    " \n",
    "\n",
    "y = dataset[['class']] # vecteur colonne contenant la classe (= le nom du mot)\n",
    "X = dataset.iloc[:, 1:6001] # matrice contenant toutes les coordonnées d'une vidéo \n",
    "\n",
    "#on split les données en données d'entrainements : X_train, y_train et en données de test : X_test et y_test\n",
    "X_train, X_test, y_train, y_test = train_test_split(X, y, test_size=0.20, random_state=27, stratify= y) #on séépare les données en 2 parties : 25% pour le test et 75% pour l'entrainement\n",
    "#strategy = y permet de garder la même proportion de chaque classe dans les données d'entrainement et de test\n",
    "\n"
   ]
  },
  {
   "cell_type": "code",
   "execution_count": 41,
   "metadata": {},
   "outputs": [],
   "source": [
    "## On va tester plusieurs modèles de classification\n",
    "models = []\n",
    "models.append(('LR', LogisticRegression(solver='sag', penalty='none', C=0.1)))\n",
    "models.append(('LDA', LinearDiscriminantAnalysis()))\n",
    "models.append(('KNN', KNeighborsClassifier(n_neighbors=1, weights='uniform', p=1)))\n",
    "models.append(('CART', DecisionTreeClassifier(splitter='random', min_samples_split=8, min_samples_leaf=1, max_depth=9, criterion='entropy')))\n",
    "models.append(('NB', GaussianNB(var_smoothing=0.0001)))\n",
    "models.append(('SVM', SVC(kernel='rbf', gamma='scale', degree=2, C=100.0)))\n",
    "models.append(('SGDC',SGDClassifier(loss=\"hinge\", penalty=\"l1\", max_iter=1000, alpha =0.0003890607098705632, l1_ratio = 0 )))\n",
    "models.append(('MPL',MLPClassifier(solver='lbfgs', alpha = 0.1, hidden_layer_sizes=(100,), random_state=1, activation='logistic')))\n",
    "\n"
   ]
  },
  {
   "cell_type": "code",
   "execution_count": 42,
   "metadata": {},
   "outputs": [
    {
     "name": "stdout",
     "output_type": "stream",
     "text": [
      "--------------------------------- LR ---------------------------------------------------\n"
     ]
    },
    {
     "name": "stderr",
     "output_type": "stream",
     "text": [
      "/home/portable014/.local/lib/python3.8/site-packages/sklearn/linear_model/_logistic.py:1113: UserWarning: Setting penalty='none' will ignore the C and l1_ratio parameters\n",
      "  warnings.warn(\n",
      "/home/portable014/.local/lib/python3.8/site-packages/sklearn/utils/validation.py:1111: DataConversionWarning: A column-vector y was passed when a 1d array was expected. Please change the shape of y to (n_samples, ), for example using ravel().\n",
      "  y = column_or_1d(y, warn=True)\n",
      "/home/portable014/.local/lib/python3.8/site-packages/sklearn/linear_model/_sag.py:350: ConvergenceWarning: The max_iter was reached which means the coef_ did not converge\n",
      "  warnings.warn(\n",
      "/home/portable014/.local/lib/python3.8/site-packages/sklearn/utils/validation.py:1111: DataConversionWarning: A column-vector y was passed when a 1d array was expected. Please change the shape of y to (n_samples, ), for example using ravel().\n",
      "  y = column_or_1d(y, warn=True)\n"
     ]
    },
    {
     "name": "stdout",
     "output_type": "stream",
     "text": [
      "--------------------------------- LDA ---------------------------------------------------\n",
      "--------------------------------- KNN ---------------------------------------------------\n"
     ]
    },
    {
     "name": "stderr",
     "output_type": "stream",
     "text": [
      "/home/portable014/.local/lib/python3.8/site-packages/sklearn/neighbors/_classification.py:207: DataConversionWarning: A column-vector y was passed when a 1d array was expected. Please change the shape of y to (n_samples,), for example using ravel().\n",
      "  return self._fit(X, y)\n"
     ]
    },
    {
     "name": "stdout",
     "output_type": "stream",
     "text": [
      "--------------------------------- CART ---------------------------------------------------\n",
      "--------------------------------- NB ---------------------------------------------------\n"
     ]
    },
    {
     "name": "stderr",
     "output_type": "stream",
     "text": [
      "/home/portable014/.local/lib/python3.8/site-packages/sklearn/utils/validation.py:1111: DataConversionWarning: A column-vector y was passed when a 1d array was expected. Please change the shape of y to (n_samples, ), for example using ravel().\n",
      "  y = column_or_1d(y, warn=True)\n"
     ]
    },
    {
     "name": "stdout",
     "output_type": "stream",
     "text": [
      "--------------------------------- SVM ---------------------------------------------------\n"
     ]
    },
    {
     "name": "stderr",
     "output_type": "stream",
     "text": [
      "/home/portable014/.local/lib/python3.8/site-packages/sklearn/utils/validation.py:1111: DataConversionWarning: A column-vector y was passed when a 1d array was expected. Please change the shape of y to (n_samples, ), for example using ravel().\n",
      "  y = column_or_1d(y, warn=True)\n"
     ]
    },
    {
     "name": "stdout",
     "output_type": "stream",
     "text": [
      "--------------------------------- SGDC ---------------------------------------------------\n"
     ]
    },
    {
     "name": "stderr",
     "output_type": "stream",
     "text": [
      "/home/portable014/.local/lib/python3.8/site-packages/sklearn/utils/validation.py:1111: DataConversionWarning: A column-vector y was passed when a 1d array was expected. Please change the shape of y to (n_samples, ), for example using ravel().\n",
      "  y = column_or_1d(y, warn=True)\n"
     ]
    },
    {
     "name": "stdout",
     "output_type": "stream",
     "text": [
      "--------------------------------- MPL ---------------------------------------------------\n"
     ]
    },
    {
     "name": "stderr",
     "output_type": "stream",
     "text": [
      "/home/portable014/.local/lib/python3.8/site-packages/sklearn/neural_network/_multilayer_perceptron.py:1118: DataConversionWarning: A column-vector y was passed when a 1d array was expected. Please change the shape of y to (n_samples, ), for example using ravel().\n",
      "  y = column_or_1d(y, warn=True)\n"
     ]
    },
    {
     "name": "stdout",
     "output_type": "stream",
     "text": [
      "[0.8875, 0.9666666666666667, 0.9458333333333333, 0.7541666666666667, 0.775, 0.9375, 0.7625, 0.8375] ['LR', 'LDA', 'KNN', 'CART', 'NB', 'SVM', 'SGDC', 'MPL']\n"
     ]
    },
    {
     "name": "stderr",
     "output_type": "stream",
     "text": [
      "/home/portable014/.local/lib/python3.8/site-packages/sklearn/neural_network/_multilayer_perceptron.py:559: ConvergenceWarning: lbfgs failed to converge (status=1):\n",
      "STOP: TOTAL NO. of ITERATIONS REACHED LIMIT.\n",
      "\n",
      "Increase the number of iterations (max_iter) or scale the data as shown in:\n",
      "    https://scikit-learn.org/stable/modules/preprocessing.html\n",
      "  self.n_iter_ = _check_optimize_result(\"lbfgs\", opt_res, self.max_iter)\n"
     ]
    }
   ],
   "source": [
    "results = []\n",
    "names = []\n",
    "scoring = 'accuracy' #on choisit de tester les modèles en fonction de leur précision \n",
    "#on pourrait tester : precision, recall, f1-score, auc, log-loss, ...\n",
    "\n",
    "for name, model in models:\n",
    "    print('---------------------------------', name, '---------------------------------------------------')\n",
    "    clf = model #on prend le modèle\n",
    "    clf.fit(X_train, y_train)  #on entraine le modèle\n",
    "    res = sklearn.metrics.accuracy_score(y_test, clf.predict(X_test)) #on teste le modèle\n",
    "    results.append(res) #on stocke le résultat\n",
    "    names.append(name) #on stocke le nom du modèle\n",
    "    msg = \"%s: %f (%f)\" % (name, res.mean(), res.std()) #on affiche le résultat\n",
    "\n",
    "    # cm = confusion_matrix(y_test, clf.predict(X_test))\n",
    "    # print(\"Matrice de confusion pour\", name)\n",
    "    # plt.figure(figsize=(5,5))\n",
    "    # plt.subplot(111)\n",
    "    # plt.suptitle('Confusion ' +str(name)+ ' nombre de mots = '+str(nb_mots))\n",
    "    # sns.heatmap(cm, annot=True, cmap=\"YlGnBu\")\n",
    "    # plt.show()\n",
    "    # plt.savefig(f'/home/portable014/Bureau/neelp_1/MAIN_4_PC/Projet/main4_capgemini/classificateur/resultats_plots/matrice_confusion/confusion_{name}_{nb_mots}_mots.png')\n",
    "\n",
    "\n",
    "    #print(msg)\n",
    "print(results,names)"
   ]
  },
  {
   "attachments": {},
   "cell_type": "markdown",
   "metadata": {},
   "source": [
    "## enregistrement du plot accuracy"
   ]
  },
  {
   "cell_type": "code",
   "execution_count": 43,
   "metadata": {},
   "outputs": [
    {
     "data": {
      "image/png": "[encoded data removed]",
      "text/plain": [
       "<Figure size 500x500 with 1 Axes>"
      ]
     },
     "metadata": {},
     "output_type": "display_data"
    }
   ],
   "source": [
    "plt.figure(figsize=(5,5))\n",
    "\n",
    "plt.subplot(111)\n",
    "plt.bar(names, results,color='C1')\n",
    "# plt.subplot(132)\n",
    "plt.scatter(names, results)\n",
    "plt.xlabel('Type de classifieur')\n",
    "plt.ylabel('Accuracy')\n",
    "# plt.plot(names, results)\n",
    "plt.suptitle('nombre de mots = '+str(nb_mots))\n",
    "# plt.show()\n",
    "\n",
    "\n",
    "# Enregistrer l'image du plot dans un fichier\n",
    "plt.savefig(f'/home/portable014/Bureau/neelp_1/MAIN_4_PC/Projet/main4_capgemini/classificateur/tests_metrics/accuracy/accuracy_{nb_mots}_mots.png')"
   ]
  },
  {
   "attachments": {},
   "cell_type": "markdown",
   "metadata": {},
   "source": [
    "On enregistre le plot dans un fichier\n"
   ]
  },
  {
   "attachments": {},
   "cell_type": "markdown",
   "metadata": {},
   "source": [
    "## test for other metrics\n"
   ]
  },
  {
   "cell_type": "code",
   "execution_count": 44,
   "metadata": {},
   "outputs": [],
   "source": [
    "# results = []\n",
    "# names = []\n",
    "# scoring = 'recall' #on choisit de tester les modèles en fonction de leur précision \n",
    "# #on pourrait tester : precision, recall, f1-score, auc, log-loss, ...\n",
    "\n",
    "# for name, model in models:\n",
    "#     print('---------------------------------', name, '---------------------------------------------------')\n",
    "#     clf = model #on prend le modèle\n",
    "#     clf.fit(X_train, y_train)  #on entraine le modèle\n",
    "#     res = sklearn.metrics.recall_score(y_test, clf.predict(X_test),average='micro' ) #on teste le modèle\n",
    "#     results.append(res) #on stocke le résultat\n",
    "#     names.append(name) #on stocke le nom du modèle\n",
    "#     msg = \"%s: %f (%f)\" % (name, res.mean(), res.std()) #on affiche le résultat\n",
    "#     #print(msg)\n",
    "# print(results,names)"
   ]
  },
  {
   "cell_type": "code",
   "execution_count": 45,
   "metadata": {},
   "outputs": [
    {
     "data": {
      "text/plain": [
       "Text(0.5, 0.98, 'nombre de mots = 64, métrique : accuracy')"
      ]
     },
     "execution_count": 45,
     "metadata": {},
     "output_type": "execute_result"
    },
    {
     "data": {
      "image/png": "[encoded data removed]",
      "text/plain": [
       "<Figure size 500x500 with 1 Axes>"
      ]
     },
     "metadata": {},
     "output_type": "display_data"
    }
   ],
   "source": [
    "plt.figure(figsize=(5,5))\n",
    "\n",
    "plt.subplot(111)\n",
    "plt.bar(names, results,color='C1')\n",
    "# plt.subplot(132)\n",
    "# plt.scatter(names, results)\n",
    "# plt.subplot(133)\n",
    "# plt.plot(names, results)\n",
    "plt.xlabel('Type de classifieur')\n",
    "plt.ylabel('recall')\n",
    "plt.suptitle('nombre de mots = '+str(nb_mots)+', métrique : '+str(scoring))\n",
    "# plt.show()\n",
    "\n",
    "# Enregistrer l'image du plot dans un fichier\n",
    "#plt.savefig(f'/home/portable014/Bureau/neelp_1/MAIN_4_PC/Projet/main4_capgemini/classificateur/resultats_plots/recall_classifier__{nb_mots}_mots.png')"
   ]
  }
 ],
 "metadata": {
  "kernelspec": {
   "display_name": "Python 3.8.10 64-bit",
   "language": "python",
   "name": "python3"
  },
  "language_info": {
   "codemirror_mode": {
    "name": "ipython",
    "version": 3
   },
   "file_extension": ".py",
   "mimetype": "text/x-python",
   "name": "python",
   "nbconvert_exporter": "python",
   "pygments_lexer": "ipython3",
   "version": "3.8.10 (default, Nov 14 2022, 12:59:47) \n[GCC 9.4.0]"
  },
  "orig_nbformat": 4,
  "vscode": {
   "interpreter": {
    "hash": "31f2aee4e71d21fbe5cf8b01ff0e069b9275f58929596ceb00d14d90e3e16cd6"
   }
  }
 },
 "nbformat": 4,
 "nbformat_minor": 2
}
