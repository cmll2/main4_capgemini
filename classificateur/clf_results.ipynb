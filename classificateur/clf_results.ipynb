{
 "cells": [
  {
   "cell_type": "code",
   "execution_count": 55,
   "metadata": {},
   "outputs": [],
   "source": [
    "import matplotlib.pyplot as plt\n",
    "import pandas as pd\n",
    "import sklearn\n",
    "from sklearn.metrics import accuracy_score\n",
    "from sklearn import model_selection\n",
    "from sklearn.linear_model import LogisticRegression\n",
    "from sklearn.neural_network import MLPClassifier\n",
    "from sklearn.linear_model import SGDClassifier\n",
    "from sklearn.tree import DecisionTreeClassifier\n",
    "from sklearn.neighbors import KNeighborsClassifier\n",
    "from sklearn.discriminant_analysis import LinearDiscriminantAnalysis\n",
    "from sklearn.naive_bayes import GaussianNB\n",
    "from sklearn.svm import SVC\n",
    "from sklearn.model_selection import train_test_split\n",
    "from sklearn import datasets\n",
    "import matplotlib.pyplot as plt\n",
    "from colorspacious import cspace_converter\n",
    "plt.style.use('ggplot')"
   ]
  },
  {
   "cell_type": "code",
   "execution_count": 56,
   "metadata": {},
   "outputs": [],
   "source": [
    "dataset = pd.read_csv('/home/portable014/Bureau/neelp_1/MAIN_4_PC/Projet/main4_capgemini/pre-traitement/données/stockage_csv/coords_13mots.csv')\n",
    "#le path est à changer en fonction de l'endroit où on a mis le fichier csv\n",
    "#ici, il prend un csv pré-enregistré avec 2 mots différents\n"
   ]
  },
  {
   "attachments": {},
   "cell_type": "markdown",
   "metadata": {},
   "source": [
    "# Attention : paramètres à changer en fonction du csv"
   ]
  },
  {
   "cell_type": "code",
   "execution_count": 57,
   "metadata": {},
   "outputs": [],
   "source": [
    "nb_mots = 13 #nombre de classe de mots différents dans le csv"
   ]
  },
  {
   "cell_type": "code",
   "execution_count": 58,
   "metadata": {},
   "outputs": [],
   "source": [
    "dataset =dataset.fillna(0) #remplace les valeurs manquantes par 0\n",
    "\n",
    " \n",
    "\n",
    "y = dataset[['class']] # vecteur colonne contenant la classe (= le nom du mot)\n",
    "X = dataset.iloc[:, 1:6001] # matrice contenant toutes les coordonnées d'une vidéo \n",
    "\n",
    "#on split les données en données d'entrainements : X_train, y_train et en données de test : X_test et y_test\n",
    "X_train, X_test, y_train, y_test = train_test_split(X, y, test_size=0.20, random_state=27) #on séépare les données en 2 parties : 25% pour le test et 75% pour l'entrainement\n",
    "\n",
    "\n"
   ]
  },
  {
   "cell_type": "code",
   "execution_count": 59,
   "metadata": {},
   "outputs": [],
   "source": [
    "## On va tester plusieurs modèles de classification\n",
    "models = []\n",
    "models.append(('LR', LogisticRegression()))\n",
    "models.append(('LDA', LinearDiscriminantAnalysis()))\n",
    "models.append(('KNN', KNeighborsClassifier(n_neighbors=nb_mots)))\n",
    "models.append(('CART', DecisionTreeClassifier()))\n",
    "models.append(('NB', GaussianNB()))\n",
    "models.append(('SVM', SVC()))\n",
    "models.append(('SGDC',SGDClassifier(loss=\"hinge\", penalty=\"l2\", max_iter=5)))\n",
    "models.append(('MPL',MLPClassifier(solver='lbfgs', alpha = 1e-5, hidden_layer_sizes=(15,), random_state=1)))"
   ]
  },
  {
   "cell_type": "code",
   "execution_count": 60,
   "metadata": {},
   "outputs": [
    {
     "name": "stdout",
     "output_type": "stream",
     "text": [
      "--------------------------------- LR ---------------------------------------------------\n"
     ]
    },
    {
     "name": "stderr",
     "output_type": "stream",
     "text": [
      "/home/portable014/.local/lib/python3.8/site-packages/sklearn/utils/validation.py:1111: DataConversionWarning: A column-vector y was passed when a 1d array was expected. Please change the shape of y to (n_samples, ), for example using ravel().\n",
      "  y = column_or_1d(y, warn=True)\n"
     ]
    }
   ],
   "source": [
    "results = []\n",
    "names = []\n",
    "scoring = 'accuracy' #on choisit de tester les modèles en fonction de leur précision \n",
    "#on pourrait tester : precision, recall, f1-score, auc, log-loss, ...\n",
    "\n",
    "for name, model in models:\n",
    "    print('---------------------------------', name, '---------------------------------------------------')\n",
    "    clf = model #on prend le modèle\n",
    "    clf.fit(X_train, y_train)  #on entraine le modèle\n",
    "    res = sklearn.metrics.accuracy_score(y_test, clf.predict(X_test)) #on teste le modèle\n",
    "    results.append(res) #on stocke le résultat\n",
    "    names.append(name) #on stocke le nom du modèle\n",
    "    msg = \"%s: %f (%f)\" % (name, res.mean(), res.std()) #on affiche le résultat\n",
    "    #print(msg)\n",
    "print(results,names)"
   ]
  },
  {
   "cell_type": "code",
   "execution_count": null,
   "metadata": {},
   "outputs": [
    {
     "name": "stdout",
     "output_type": "stream",
     "text": [
      "LR 0.9615384615384616\n",
      "LDA 0.9807692307692307\n",
      "KNN 0.6730769230769231\n",
      "CART 0.8461538461538461\n",
      "NB 0.75\n",
      "SVM 0.5384615384615384\n",
      "SGDC 0.34615384615384615\n",
      "MPL 0.7692307692307693\n"
     ]
    }
   ],
   "source": [
    "for i in range(len(results)):\n",
    "    print(names[i], results[i].mean())\n"
   ]
  },
  {
   "cell_type": "code",
   "execution_count": null,
   "metadata": {},
   "outputs": [
    {
     "data": {
      "text/plain": [
       "Text(0.5, 0.98, 'nombre de mots = 13')"
      ]
     },
     "execution_count": 53,
     "metadata": {},
     "output_type": "execute_result"
    },
    {
     "data": {
      "image/png": "[encoded data removed]",
      "text/plain": [
       "<Figure size 500x500 with 1 Axes>"
      ]
     },
     "metadata": {},
     "output_type": "display_data"
    }
   ],
   "source": [
    "plt.figure(figsize=(5,5))\n",
    "\n",
    "plt.subplot(111)\n",
    "plt.bar(names, results,color='C1')\n",
    "# plt.subplot(132)\n",
    "# plt.scatter(names, results)\n",
    "# plt.subplot(133)\n",
    "# plt.plot(names, results)\n",
    "plt.suptitle('nombre de mots = '+str(nb_mots))\n",
    "# plt.show()\n",
    "\n",
    "# Enregistrer l'image du plot dans un fichier\n",
    "plt.savefig('/home/portable014/Bureau/neelp_1/MAIN_4_PC/Projet/main4_capgemini/classificateur/resultats_plots/res_classifier.png')\n"
   ]
  },
  {
   "attachments": {},
   "cell_type": "markdown",
   "metadata": {},
   "source": [
    "On enregistre le plot dans un fichier\n"
   ]
  }
 ],
 "metadata": {
  "kernelspec": {
   "display_name": "Python 3.8.10 64-bit",
   "language": "python",
   "name": "python3"
  },
  "language_info": {
   "codemirror_mode": {
    "name": "ipython",
    "version": 3
   },
   "file_extension": ".py",
   "mimetype": "text/x-python",
   "name": "python",
   "nbconvert_exporter": "python",
   "pygments_lexer": "ipython3",
   "version": "3.8.10"
  },
  "orig_nbformat": 4,
  "vscode": {
   "interpreter": {
    "hash": "31f2aee4e71d21fbe5cf8b01ff0e069b9275f58929596ceb00d14d90e3e16cd6"
   }
  }
 },
 "nbformat": 4,
 "nbformat_minor": 2
}
