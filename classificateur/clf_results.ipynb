{
 "cells": [
  {
   "cell_type": "code",
   "execution_count": 62,
   "metadata": {},
   "outputs": [],
   "source": [
    "import matplotlib.pyplot as plt\n",
    "import pandas as pd\n",
    "import sklearn\n",
    "import seaborn as sns\n",
    "from sklearn.metrics import accuracy_score\n",
    "from sklearn import model_selection\n",
    "from sklearn.linear_model import LogisticRegression\n",
    "from sklearn.neural_network import MLPClassifier\n",
    "from sklearn.linear_model import SGDClassifier\n",
    "from sklearn.tree import DecisionTreeClassifier\n",
    "from sklearn.neighbors import KNeighborsClassifier\n",
    "from sklearn.discriminant_analysis import LinearDiscriminantAnalysis\n",
    "from sklearn.naive_bayes import GaussianNB\n",
    "from sklearn.svm import SVC\n",
    "from sklearn.model_selection import train_test_split\n",
    "from sklearn import datasets\n",
    "from sklearn.metrics import confusion_matrix\n",
    "import matplotlib.pyplot as plt\n",
    "from colorspacious import cspace_converter\n",
    "plt.style.use('ggplot')\n",
    "import datetime"
   ]
  },
  {
   "attachments": {},
   "cell_type": "markdown",
   "metadata": {},
   "source": [
    "## Définition des différentes métriques que nous allons tester :\n"
   ]
  },
  {
   "attachments": {},
   "cell_type": "markdown",
   "metadata": {},
   "source": [
    "Précision: c'est le nombre de vrais positifs divisé par le nombre total de positifs prédits. Elle mesure la proportion de résultats positifs corrects parmi tous les résultats positifs prédits.\n",
    "\n",
    "\n",
    "Rappel: c'est le nombre de vrais positifs divisé par le nombre total de vrais positifs. Elle mesure la proportion de résultats positifs corrects parmi tous les éléments qui sont réellement positifs.\n",
    "\n",
    "\n",
    "F1-score: c'est une métrique qui combine la précision et le rappel en un seul score. Elle est calculée en utilisant la formule suivante: F1-score = 2 * (précision * rappel) / (précision + rappel)\n",
    "\n",
    "\n",
    "AUC (Area Under the Curve): c'est une métrique couramment utilisée pour évaluer les modèles de classification binaires. Elle mesure l'aire sous la courbe ROC (Receiver Operating Characteristic). La courbe ROC est un graphique qui montre comment le taux de vrais positifs (sensibilité) change avec le taux de faux positifs (spécificité) en fonction de différents seuils de classification."
   ]
  },
  {
   "attachments": {},
   "cell_type": "markdown",
   "metadata": {},
   "source": [
    "## Test accuracy\n"
   ]
  },
  {
   "cell_type": "code",
   "execution_count": 63,
   "metadata": {},
   "outputs": [],
   "source": [
    "dataset = pd.read_csv('/home/portable014/Bureau/neelp_1/MAIN_4_PC/Projet/main4_capgemini/pre-traitement/données/stockage_csv/35_adresse_peu.csv')\n",
    "#le path est à changer en fonction de l'endroit où on a mis le fichier csv\n",
    "#ici, il prend un csv pré-enregistré avec 2 mots différents\n"
   ]
  },
  {
   "attachments": {},
   "cell_type": "markdown",
   "metadata": {},
   "source": [
    " Attention : paramètres à changer en fonction du csv"
   ]
  },
  {
   "cell_type": "code",
   "execution_count": 64,
   "metadata": {},
   "outputs": [],
   "source": [
    "nb_mots = 35 #nombre de classe de mots différents dans le csv"
   ]
  },
  {
   "cell_type": "code",
   "execution_count": 65,
   "metadata": {},
   "outputs": [],
   "source": [
    "dataset =dataset.fillna(0) #remplace les valeurs manquantes par 0\n",
    "\n",
    " \n",
    "\n",
    "y = dataset[['class']] # vecteur colonne contenant la classe (= le nom du mot)\n",
    "X = dataset.iloc[:, 1:6001] # matrice contenant toutes les coordonnées d'une vidéo \n",
    "\n",
    "#on split les données en données d'entrainements : X_train, y_train et en données de test : X_test et y_test\n",
    "X_train, X_test, y_train, y_test = train_test_split(X, y, test_size=0.20, random_state=27, stratify= y) #on séépare les données en 2 parties : 25% pour le test et 75% pour l'entrainement\n",
    "#strategy = y permet de garder la même proportion de chaque classe dans les données d'entrainement et de test\n",
    "\n"
   ]
  },
  {
   "cell_type": "code",
   "execution_count": 66,
   "metadata": {},
   "outputs": [],
   "source": [
    "## On va tester plusieurs modèles de classification\n",
    "models = []\n",
    "models.append(('LR', LogisticRegression()))\n",
    "models.append(('LDA', LinearDiscriminantAnalysis()))\n",
    "models.append(('KNN', KNeighborsClassifier(n_neighbors=nb_mots, leaf_size=1)))\n",
    "models.append(('CART', DecisionTreeClassifier()))\n",
    "models.append(('NB', GaussianNB()))\n",
    "models.append(('SVM', SVC()))\n",
    "models.append(('SGDC',SGDClassifier(loss=\"hinge\", penalty=\"l2\", max_iter=5)))\n",
    "models.append(('MPL',MLPClassifier(solver='lbfgs', alpha = 1e-5, hidden_layer_sizes=(15,), random_state=1)))"
   ]
  },
  {
   "cell_type": "code",
   "execution_count": 67,
   "metadata": {},
   "outputs": [
    {
     "name": "stdout",
     "output_type": "stream",
     "text": [
      "--------------------------------- LR ---------------------------------------------------\n"
     ]
    },
    {
     "name": "stderr",
     "output_type": "stream",
     "text": [
      "/home/portable014/.local/lib/python3.8/site-packages/sklearn/utils/validation.py:1111: DataConversionWarning: A column-vector y was passed when a 1d array was expected. Please change the shape of y to (n_samples, ), for example using ravel().\n",
      "  y = column_or_1d(y, warn=True)\n",
      "/home/portable014/.local/lib/python3.8/site-packages/sklearn/linear_model/_logistic.py:444: ConvergenceWarning: lbfgs failed to converge (status=1):\n",
      "STOP: TOTAL NO. of ITERATIONS REACHED LIMIT.\n",
      "\n",
      "Increase the number of iterations (max_iter) or scale the data as shown in:\n",
      "    https://scikit-learn.org/stable/modules/preprocessing.html\n",
      "Please also refer to the documentation for alternative solver options:\n",
      "    https://scikit-learn.org/stable/modules/linear_model.html#logistic-regression\n",
      "  n_iter_i = _check_optimize_result(\n"
     ]
    },
    {
     "name": "stdout",
     "output_type": "stream",
     "text": [
      "--------------------------------- LDA ---------------------------------------------------\n"
     ]
    },
    {
     "name": "stderr",
     "output_type": "stream",
     "text": [
      "/home/portable014/.local/lib/python3.8/site-packages/sklearn/utils/validation.py:1111: DataConversionWarning: A column-vector y was passed when a 1d array was expected. Please change the shape of y to (n_samples, ), for example using ravel().\n",
      "  y = column_or_1d(y, warn=True)\n"
     ]
    },
    {
     "name": "stdout",
     "output_type": "stream",
     "text": [
      "--------------------------------- KNN ---------------------------------------------------\n"
     ]
    },
    {
     "name": "stderr",
     "output_type": "stream",
     "text": [
      "/home/portable014/.local/lib/python3.8/site-packages/sklearn/neighbors/_classification.py:207: DataConversionWarning: A column-vector y was passed when a 1d array was expected. Please change the shape of y to (n_samples,), for example using ravel().\n",
      "  return self._fit(X, y)\n"
     ]
    },
    {
     "name": "stdout",
     "output_type": "stream",
     "text": [
      "--------------------------------- CART ---------------------------------------------------\n",
      "--------------------------------- NB ---------------------------------------------------\n"
     ]
    },
    {
     "name": "stderr",
     "output_type": "stream",
     "text": [
      "/home/portable014/.local/lib/python3.8/site-packages/sklearn/utils/validation.py:1111: DataConversionWarning: A column-vector y was passed when a 1d array was expected. Please change the shape of y to (n_samples, ), for example using ravel().\n",
      "  y = column_or_1d(y, warn=True)\n"
     ]
    },
    {
     "name": "stdout",
     "output_type": "stream",
     "text": [
      "--------------------------------- SVM ---------------------------------------------------\n"
     ]
    },
    {
     "name": "stderr",
     "output_type": "stream",
     "text": [
      "/home/portable014/.local/lib/python3.8/site-packages/sklearn/utils/validation.py:1111: DataConversionWarning: A column-vector y was passed when a 1d array was expected. Please change the shape of y to (n_samples, ), for example using ravel().\n",
      "  y = column_or_1d(y, warn=True)\n"
     ]
    },
    {
     "name": "stdout",
     "output_type": "stream",
     "text": [
      "--------------------------------- SGDC ---------------------------------------------------\n"
     ]
    },
    {
     "name": "stderr",
     "output_type": "stream",
     "text": [
      "/home/portable014/.local/lib/python3.8/site-packages/sklearn/utils/validation.py:1111: DataConversionWarning: A column-vector y was passed when a 1d array was expected. Please change the shape of y to (n_samples, ), for example using ravel().\n",
      "  y = column_or_1d(y, warn=True)\n",
      "/home/portable014/.local/lib/python3.8/site-packages/sklearn/linear_model/_stochastic_gradient.py:705: ConvergenceWarning: Maximum number of iteration reached before convergence. Consider increasing max_iter to improve the fit.\n",
      "  warnings.warn(\n"
     ]
    },
    {
     "name": "stdout",
     "output_type": "stream",
     "text": [
      "--------------------------------- MPL ---------------------------------------------------\n"
     ]
    },
    {
     "name": "stderr",
     "output_type": "stream",
     "text": [
      "/home/portable014/.local/lib/python3.8/site-packages/sklearn/neural_network/_multilayer_perceptron.py:1118: DataConversionWarning: A column-vector y was passed when a 1d array was expected. Please change the shape of y to (n_samples, ), for example using ravel().\n",
      "  y = column_or_1d(y, warn=True)\n"
     ]
    },
    {
     "name": "stdout",
     "output_type": "stream",
     "text": [
      "[0.7428571428571429, 0.8071428571428572, 0.4357142857142857, 0.5714285714285714, 0.5714285714285714, 0.5285714285714286, 0.5071428571428571, 0.22142857142857142] ['LR', 'LDA', 'KNN', 'CART', 'NB', 'SVM', 'SGDC', 'MPL']\n"
     ]
    },
    {
     "name": "stderr",
     "output_type": "stream",
     "text": [
      "/home/portable014/.local/lib/python3.8/site-packages/sklearn/neural_network/_multilayer_perceptron.py:559: ConvergenceWarning: lbfgs failed to converge (status=1):\n",
      "STOP: TOTAL NO. of ITERATIONS REACHED LIMIT.\n",
      "\n",
      "Increase the number of iterations (max_iter) or scale the data as shown in:\n",
      "    https://scikit-learn.org/stable/modules/preprocessing.html\n",
      "  self.n_iter_ = _check_optimize_result(\"lbfgs\", opt_res, self.max_iter)\n"
     ]
    }
   ],
   "source": [
    "results = []\n",
    "names = []\n",
    "scoring = 'accuracy' #on choisit de tester les modèles en fonction de leur précision \n",
    "#on pourrait tester : precision, recall, f1-score, auc, log-loss, ...\n",
    "\n",
    "for name, model in models:\n",
    "    print('---------------------------------', name, '---------------------------------------------------')\n",
    "    clf = model #on prend le modèle\n",
    "    clf.fit(X_train, y_train)  #on entraine le modèle\n",
    "    res = sklearn.metrics.accuracy_score(y_test, clf.predict(X_test)) #on teste le modèle\n",
    "    results.append(res) #on stocke le résultat\n",
    "    names.append(name) #on stocke le nom du modèle\n",
    "    msg = \"%s: %f (%f)\" % (name, res.mean(), res.std()) #on affiche le résultat\n",
    "\n",
    "    # cm = confusion_matrix(y_test, clf.predict(X_test))\n",
    "    # print(\"Matrice de confusion pour\", name)\n",
    "    # plt.figure(figsize=(5,5))\n",
    "    # plt.subplot(111)\n",
    "    # plt.suptitle('Confusion ' +str(name)+ ' nombre de mots = '+str(nb_mots))\n",
    "    # sns.heatmap(cm, annot=True, cmap=\"YlGnBu\")\n",
    "    # plt.show()\n",
    "    # plt.savefig(f'/home/portable014/Bureau/neelp_1/MAIN_4_PC/Projet/main4_capgemini/classificateur/resultats_plots/matrice_confusion/confusion_{name}_{nb_mots}_mots.png')\n",
    "\n",
    "\n",
    "    #print(msg)\n",
    "print(results,names)"
   ]
  },
  {
   "cell_type": "code",
   "execution_count": 68,
   "metadata": {},
   "outputs": [
    {
     "data": {
      "image/png": "[encoded data removed]",
      "text/plain": [
       "<Figure size 500x500 with 1 Axes>"
      ]
     },
     "metadata": {},
     "output_type": "display_data"
    }
   ],
   "source": [
    "plt.figure(figsize=(5,5))\n",
    "\n",
    "plt.subplot(111)\n",
    "plt.bar(names, results,color='C1')\n",
    "# plt.subplot(132)\n",
    "plt.scatter(names, results)\n",
    "plt.xlabel('Type de classifieur')\n",
    "plt.ylabel('Accuracy')\n",
    "# plt.plot(names, results)\n",
    "plt.suptitle('nombre de mots = '+str(nb_mots))\n",
    "# plt.show()\n",
    "\n",
    "\n",
    "# Enregistrer l'image du plot dans un fichier\n",
    "plt.savefig(f'/home/portable014/Bureau/neelp_1/MAIN_4_PC/Projet/main4_capgemini/classificateur/resultats_plots/accuracy/accuracy_{nb_mots}_mots.png')"
   ]
  },
  {
   "attachments": {},
   "cell_type": "markdown",
   "metadata": {},
   "source": [
    "On enregistre le plot dans un fichier\n"
   ]
  },
  {
   "attachments": {},
   "cell_type": "markdown",
   "metadata": {},
   "source": [
    "## test for other metrics\n"
   ]
  },
  {
   "cell_type": "code",
   "execution_count": 69,
   "metadata": {},
   "outputs": [],
   "source": [
    "# results = []\n",
    "# names = []\n",
    "# scoring = 'recall' #on choisit de tester les modèles en fonction de leur précision \n",
    "# #on pourrait tester : precision, recall, f1-score, auc, log-loss, ...\n",
    "\n",
    "# for name, model in models:\n",
    "#     print('---------------------------------', name, '---------------------------------------------------')\n",
    "#     clf = model #on prend le modèle\n",
    "#     clf.fit(X_train, y_train)  #on entraine le modèle\n",
    "#     res = sklearn.metrics.recall_score(y_test, clf.predict(X_test),average='micro' ) #on teste le modèle\n",
    "#     results.append(res) #on stocke le résultat\n",
    "#     names.append(name) #on stocke le nom du modèle\n",
    "#     msg = \"%s: %f (%f)\" % (name, res.mean(), res.std()) #on affiche le résultat\n",
    "#     #print(msg)\n",
    "# print(results,names)"
   ]
  },
  {
   "cell_type": "code",
   "execution_count": 70,
   "metadata": {},
   "outputs": [
    {
     "data": {
      "text/plain": [
       "Text(0.5, 0.98, 'nombre de mots = 35, métrique : accuracy')"
      ]
     },
     "execution_count": 70,
     "metadata": {},
     "output_type": "execute_result"
    },
    {
     "data": {
      "image/png": "[encoded data removed]",
      "text/plain": [
       "<Figure size 500x500 with 1 Axes>"
      ]
     },
     "metadata": {},
     "output_type": "display_data"
    }
   ],
   "source": [
    "plt.figure(figsize=(5,5))\n",
    "\n",
    "plt.subplot(111)\n",
    "plt.bar(names, results,color='C1')\n",
    "# plt.subplot(132)\n",
    "# plt.scatter(names, results)\n",
    "# plt.subplot(133)\n",
    "# plt.plot(names, results)\n",
    "plt.xlabel('Type de classifieur')\n",
    "plt.ylabel('recall')\n",
    "plt.suptitle('nombre de mots = '+str(nb_mots)+', métrique : '+str(scoring))\n",
    "# plt.show()\n",
    "\n",
    "# Enregistrer l'image du plot dans un fichier\n",
    "#plt.savefig(f'/home/portable014/Bureau/neelp_1/MAIN_4_PC/Projet/main4_capgemini/classificateur/resultats_plots/recall_classifier__{nb_mots}_mots.png')"
   ]
  },
  {
   "cell_type": "code",
   "execution_count": 71,
   "metadata": {},
   "outputs": [
    {
     "name": "stderr",
     "output_type": "stream",
     "text": [
      "/home/portable014/.local/lib/python3.8/site-packages/sklearn/neighbors/_classification.py:207: DataConversionWarning: A column-vector y was passed when a 1d array was expected. Please change the shape of y to (n_samples,), for example using ravel().\n",
      "  return self._fit(X, y)\n",
      "/home/portable014/.local/lib/python3.8/site-packages/sklearn/neighbors/_classification.py:207: DataConversionWarning: A column-vector y was passed when a 1d array was expected. Please change the shape of y to (n_samples,), for example using ravel().\n",
      "  return self._fit(X, y)\n",
      "/home/portable014/.local/lib/python3.8/site-packages/sklearn/neighbors/_classification.py:207: DataConversionWarning: A column-vector y was passed when a 1d array was expected. Please change the shape of y to (n_samples,), for example using ravel().\n",
      "  return self._fit(X, y)\n",
      "/home/portable014/.local/lib/python3.8/site-packages/sklearn/neighbors/_classification.py:207: DataConversionWarning: A column-vector y was passed when a 1d array was expected. Please change the shape of y to (n_samples,), for example using ravel().\n",
      "  return self._fit(X, y)\n",
      "/home/portable014/.local/lib/python3.8/site-packages/sklearn/neighbors/_classification.py:207: DataConversionWarning: A column-vector y was passed when a 1d array was expected. Please change the shape of y to (n_samples,), for example using ravel().\n",
      "  return self._fit(X, y)\n",
      "/home/portable014/.local/lib/python3.8/site-packages/sklearn/neighbors/_classification.py:207: DataConversionWarning: A column-vector y was passed when a 1d array was expected. Please change the shape of y to (n_samples,), for example using ravel().\n",
      "  return self._fit(X, y)\n"
     ]
    },
    {
     "name": "stdout",
     "output_type": "stream",
     "text": [
      "         x1_1      y1_1      z1_1      v1_1      x2_1      y2_1      z2_1  \\\n",
      "321  0.519894  0.291926 -0.748998  0.999875  0.537497  0.247694 -0.683006   \n",
      "108  0.549532  0.338151 -0.778026  0.999894  0.568576  0.296275 -0.712800   \n",
      "637  0.572240  0.298575 -0.828227  0.999253  0.589356  0.263905 -0.767660   \n",
      "295  0.546207  0.286986 -0.702231  0.999912  0.568138  0.243016 -0.642140   \n",
      "236  0.544440  0.301810 -0.740586  0.999913  0.562848  0.257828 -0.677664   \n",
      "..        ...       ...       ...       ...       ...       ...       ...   \n",
      "646  0.572608  0.276055 -0.727970  0.999891  0.593526  0.236576 -0.683059   \n",
      "320  0.537159  0.285424 -0.510985  0.999179  0.556715  0.243461 -0.460807   \n",
      "600  0.572078  0.268256 -0.663329  0.999738  0.587621  0.229152 -0.605278   \n",
      "353  0.487564  0.296415 -0.699259  0.999927  0.505054  0.251321 -0.664635   \n",
      "253  0.553503  0.334746 -0.689364  0.999736  0.567536  0.297001 -0.653930   \n",
      "\n",
      "         v2_1      x3_1      y3_1  ...  z73_20  v73_20  x74_20  y74_20  \\\n",
      "321  0.999773  0.550046  0.246186  ...     0.0     0.0     0.0     0.0   \n",
      "108  0.999841  0.578427  0.297189  ...     0.0     0.0     0.0     0.0   \n",
      "637  0.998923  0.601314  0.263498  ...     0.0     0.0     0.0     0.0   \n",
      "295  0.999852  0.581877  0.243100  ...     0.0     0.0     0.0     0.0   \n",
      "236  0.999869  0.574633  0.258799  ...     0.0     0.0     0.0     0.0   \n",
      "..        ...       ...       ...  ...     ...     ...     ...     ...   \n",
      "646  0.999833  0.607908  0.236660  ...     0.0     0.0     0.0     0.0   \n",
      "320  0.998597  0.571934  0.242260  ...     0.0     0.0     0.0     0.0   \n",
      "600  0.999588  0.599732  0.229677  ...     0.0     0.0     0.0     0.0   \n",
      "353  0.999857  0.516747  0.248814  ...     0.0     0.0     0.0     0.0   \n",
      "253  0.999599  0.578014  0.296165  ...     0.0     0.0     0.0     0.0   \n",
      "\n",
      "     z74_20  v74_20  x75_20  y75_20  z75_20  v75_20  \n",
      "321     0.0     0.0     0.0     0.0     0.0     0.0  \n",
      "108     0.0     0.0     0.0     0.0     0.0     0.0  \n",
      "637     0.0     0.0     0.0     0.0     0.0     0.0  \n",
      "295     0.0     0.0     0.0     0.0     0.0     0.0  \n",
      "236     0.0     0.0     0.0     0.0     0.0     0.0  \n",
      "..      ...     ...     ...     ...     ...     ...  \n",
      "646     0.0     0.0     0.0     0.0     0.0     0.0  \n",
      "320     0.0     0.0     0.0     0.0     0.0     0.0  \n",
      "600     0.0     0.0     0.0     0.0     0.0     0.0  \n",
      "353     0.0     0.0     0.0     0.0     0.0     0.0  \n",
      "253     0.0     0.0     0.0     0.0     0.0     0.0  \n",
      "\n",
      "[560 rows x 6000 columns]         class\n",
      "321     finir\n",
      "108  beaucoup\n",
      "637     payer\n",
      "295     faire\n",
      "236      donc\n",
      "..        ...\n",
      "646    penser\n",
      "320     finir\n",
      "600        ou\n",
      "353      gens\n",
      "253    dormir\n",
      "\n",
      "[560 rows x 1 columns]\n"
     ]
    },
    {
     "name": "stderr",
     "output_type": "stream",
     "text": [
      "/home/portable014/.local/lib/python3.8/site-packages/sklearn/neighbors/_classification.py:207: DataConversionWarning: A column-vector y was passed when a 1d array was expected. Please change the shape of y to (n_samples,), for example using ravel().\n",
      "  return self._fit(X, y)\n",
      "/home/portable014/.local/lib/python3.8/site-packages/sklearn/neighbors/_classification.py:207: DataConversionWarning: A column-vector y was passed when a 1d array was expected. Please change the shape of y to (n_samples,), for example using ravel().\n",
      "  return self._fit(X, y)\n",
      "/home/portable014/.local/lib/python3.8/site-packages/sklearn/neighbors/_classification.py:207: DataConversionWarning: A column-vector y was passed when a 1d array was expected. Please change the shape of y to (n_samples,), for example using ravel().\n",
      "  return self._fit(X, y)\n",
      "/home/portable014/.local/lib/python3.8/site-packages/sklearn/neighbors/_classification.py:207: DataConversionWarning: A column-vector y was passed when a 1d array was expected. Please change the shape of y to (n_samples,), for example using ravel().\n",
      "  return self._fit(X, y)\n"
     ]
    },
    {
     "name": "stdout",
     "output_type": "stream",
     "text": [
      "         x1_1      y1_1      z1_1      v1_1      x2_1      y2_1      z2_1  \\\n",
      "321  0.519894  0.291926 -0.748998  0.999875  0.537497  0.247694 -0.683006   \n",
      "108  0.549532  0.338151 -0.778026  0.999894  0.568576  0.296275 -0.712800   \n",
      "637  0.572240  0.298575 -0.828227  0.999253  0.589356  0.263905 -0.767660   \n",
      "295  0.546207  0.286986 -0.702231  0.999912  0.568138  0.243016 -0.642140   \n",
      "236  0.544440  0.301810 -0.740586  0.999913  0.562848  0.257828 -0.677664   \n",
      "..        ...       ...       ...       ...       ...       ...       ...   \n",
      "646  0.572608  0.276055 -0.727970  0.999891  0.593526  0.236576 -0.683059   \n",
      "320  0.537159  0.285424 -0.510985  0.999179  0.556715  0.243461 -0.460807   \n",
      "600  0.572078  0.268256 -0.663329  0.999738  0.587621  0.229152 -0.605278   \n",
      "353  0.487564  0.296415 -0.699259  0.999927  0.505054  0.251321 -0.664635   \n",
      "253  0.553503  0.334746 -0.689364  0.999736  0.567536  0.297001 -0.653930   \n",
      "\n",
      "         v2_1      x3_1      y3_1  ...  z73_20  v73_20  x74_20  y74_20  \\\n",
      "321  0.999773  0.550046  0.246186  ...     0.0     0.0     0.0     0.0   \n",
      "108  0.999841  0.578427  0.297189  ...     0.0     0.0     0.0     0.0   \n",
      "637  0.998923  0.601314  0.263498  ...     0.0     0.0     0.0     0.0   \n",
      "295  0.999852  0.581877  0.243100  ...     0.0     0.0     0.0     0.0   \n",
      "236  0.999869  0.574633  0.258799  ...     0.0     0.0     0.0     0.0   \n",
      "..        ...       ...       ...  ...     ...     ...     ...     ...   \n",
      "646  0.999833  0.607908  0.236660  ...     0.0     0.0     0.0     0.0   \n",
      "320  0.998597  0.571934  0.242260  ...     0.0     0.0     0.0     0.0   \n",
      "600  0.999588  0.599732  0.229677  ...     0.0     0.0     0.0     0.0   \n",
      "353  0.999857  0.516747  0.248814  ...     0.0     0.0     0.0     0.0   \n",
      "253  0.999599  0.578014  0.296165  ...     0.0     0.0     0.0     0.0   \n",
      "\n",
      "     z74_20  v74_20  x75_20  y75_20  z75_20  v75_20  \n",
      "321     0.0     0.0     0.0     0.0     0.0     0.0  \n",
      "108     0.0     0.0     0.0     0.0     0.0     0.0  \n",
      "637     0.0     0.0     0.0     0.0     0.0     0.0  \n",
      "295     0.0     0.0     0.0     0.0     0.0     0.0  \n",
      "236     0.0     0.0     0.0     0.0     0.0     0.0  \n",
      "..      ...     ...     ...     ...     ...     ...  \n",
      "646     0.0     0.0     0.0     0.0     0.0     0.0  \n",
      "320     0.0     0.0     0.0     0.0     0.0     0.0  \n",
      "600     0.0     0.0     0.0     0.0     0.0     0.0  \n",
      "353     0.0     0.0     0.0     0.0     0.0     0.0  \n",
      "253     0.0     0.0     0.0     0.0     0.0     0.0  \n",
      "\n",
      "[560 rows x 6000 columns]         class\n",
      "321     finir\n",
      "108  beaucoup\n",
      "637     payer\n",
      "295     faire\n",
      "236      donc\n",
      "..        ...\n",
      "646    penser\n",
      "320     finir\n",
      "600        ou\n",
      "353      gens\n",
      "253    dormir\n",
      "\n",
      "[560 rows x 1 columns]\n"
     ]
    },
    {
     "name": "stderr",
     "output_type": "stream",
     "text": [
      "/home/portable014/.local/lib/python3.8/site-packages/sklearn/neighbors/_classification.py:207: DataConversionWarning: A column-vector y was passed when a 1d array was expected. Please change the shape of y to (n_samples,), for example using ravel().\n",
      "  return self._fit(X, y)\n",
      "/home/portable014/.local/lib/python3.8/site-packages/sklearn/neighbors/_classification.py:207: DataConversionWarning: A column-vector y was passed when a 1d array was expected. Please change the shape of y to (n_samples,), for example using ravel().\n",
      "  return self._fit(X, y)\n",
      "/home/portable014/.local/lib/python3.8/site-packages/sklearn/neighbors/_classification.py:207: DataConversionWarning: A column-vector y was passed when a 1d array was expected. Please change the shape of y to (n_samples,), for example using ravel().\n",
      "  return self._fit(X, y)\n",
      "/home/portable014/.local/lib/python3.8/site-packages/sklearn/neighbors/_classification.py:207: DataConversionWarning: A column-vector y was passed when a 1d array was expected. Please change the shape of y to (n_samples,), for example using ravel().\n",
      "  return self._fit(X, y)\n",
      "/home/portable014/.local/lib/python3.8/site-packages/sklearn/neighbors/_classification.py:207: DataConversionWarning: A column-vector y was passed when a 1d array was expected. Please change the shape of y to (n_samples,), for example using ravel().\n",
      "  return self._fit(X, y)\n",
      "/home/portable014/.local/lib/python3.8/site-packages/sklearn/neighbors/_classification.py:207: DataConversionWarning: A column-vector y was passed when a 1d array was expected. Please change the shape of y to (n_samples,), for example using ravel().\n",
      "  return self._fit(X, y)\n"
     ]
    },
    {
     "name": "stdout",
     "output_type": "stream",
     "text": [
      "         x1_1      y1_1      z1_1      v1_1      x2_1      y2_1      z2_1  \\\n",
      "321  0.519894  0.291926 -0.748998  0.999875  0.537497  0.247694 -0.683006   \n",
      "108  0.549532  0.338151 -0.778026  0.999894  0.568576  0.296275 -0.712800   \n",
      "637  0.572240  0.298575 -0.828227  0.999253  0.589356  0.263905 -0.767660   \n",
      "295  0.546207  0.286986 -0.702231  0.999912  0.568138  0.243016 -0.642140   \n",
      "236  0.544440  0.301810 -0.740586  0.999913  0.562848  0.257828 -0.677664   \n",
      "..        ...       ...       ...       ...       ...       ...       ...   \n",
      "646  0.572608  0.276055 -0.727970  0.999891  0.593526  0.236576 -0.683059   \n",
      "320  0.537159  0.285424 -0.510985  0.999179  0.556715  0.243461 -0.460807   \n",
      "600  0.572078  0.268256 -0.663329  0.999738  0.587621  0.229152 -0.605278   \n",
      "353  0.487564  0.296415 -0.699259  0.999927  0.505054  0.251321 -0.664635   \n",
      "253  0.553503  0.334746 -0.689364  0.999736  0.567536  0.297001 -0.653930   \n",
      "\n",
      "         v2_1      x3_1      y3_1  ...  z73_20  v73_20  x74_20  y74_20  \\\n",
      "321  0.999773  0.550046  0.246186  ...     0.0     0.0     0.0     0.0   \n",
      "108  0.999841  0.578427  0.297189  ...     0.0     0.0     0.0     0.0   \n",
      "637  0.998923  0.601314  0.263498  ...     0.0     0.0     0.0     0.0   \n",
      "295  0.999852  0.581877  0.243100  ...     0.0     0.0     0.0     0.0   \n",
      "236  0.999869  0.574633  0.258799  ...     0.0     0.0     0.0     0.0   \n",
      "..        ...       ...       ...  ...     ...     ...     ...     ...   \n",
      "646  0.999833  0.607908  0.236660  ...     0.0     0.0     0.0     0.0   \n",
      "320  0.998597  0.571934  0.242260  ...     0.0     0.0     0.0     0.0   \n",
      "600  0.999588  0.599732  0.229677  ...     0.0     0.0     0.0     0.0   \n",
      "353  0.999857  0.516747  0.248814  ...     0.0     0.0     0.0     0.0   \n",
      "253  0.999599  0.578014  0.296165  ...     0.0     0.0     0.0     0.0   \n",
      "\n",
      "     z74_20  v74_20  x75_20  y75_20  z75_20  v75_20  \n",
      "321     0.0     0.0     0.0     0.0     0.0     0.0  \n",
      "108     0.0     0.0     0.0     0.0     0.0     0.0  \n",
      "637     0.0     0.0     0.0     0.0     0.0     0.0  \n",
      "295     0.0     0.0     0.0     0.0     0.0     0.0  \n",
      "236     0.0     0.0     0.0     0.0     0.0     0.0  \n",
      "..      ...     ...     ...     ...     ...     ...  \n",
      "646     0.0     0.0     0.0     0.0     0.0     0.0  \n",
      "320     0.0     0.0     0.0     0.0     0.0     0.0  \n",
      "600     0.0     0.0     0.0     0.0     0.0     0.0  \n",
      "353     0.0     0.0     0.0     0.0     0.0     0.0  \n",
      "253     0.0     0.0     0.0     0.0     0.0     0.0  \n",
      "\n",
      "[560 rows x 6000 columns]         class\n",
      "321     finir\n",
      "108  beaucoup\n",
      "637     payer\n",
      "295     faire\n",
      "236      donc\n",
      "..        ...\n",
      "646    penser\n",
      "320     finir\n",
      "600        ou\n",
      "353      gens\n",
      "253    dormir\n",
      "\n",
      "[560 rows x 1 columns]\n"
     ]
    },
    {
     "name": "stderr",
     "output_type": "stream",
     "text": [
      "/home/portable014/.local/lib/python3.8/site-packages/sklearn/neighbors/_classification.py:207: DataConversionWarning: A column-vector y was passed when a 1d array was expected. Please change the shape of y to (n_samples,), for example using ravel().\n",
      "  return self._fit(X, y)\n",
      "/home/portable014/.local/lib/python3.8/site-packages/sklearn/neighbors/_classification.py:207: DataConversionWarning: A column-vector y was passed when a 1d array was expected. Please change the shape of y to (n_samples,), for example using ravel().\n",
      "  return self._fit(X, y)\n",
      "/home/portable014/.local/lib/python3.8/site-packages/sklearn/neighbors/_classification.py:207: DataConversionWarning: A column-vector y was passed when a 1d array was expected. Please change the shape of y to (n_samples,), for example using ravel().\n",
      "  return self._fit(X, y)\n",
      "/home/portable014/.local/lib/python3.8/site-packages/sklearn/neighbors/_classification.py:207: DataConversionWarning: A column-vector y was passed when a 1d array was expected. Please change the shape of y to (n_samples,), for example using ravel().\n",
      "  return self._fit(X, y)\n"
     ]
    },
    {
     "name": "stdout",
     "output_type": "stream",
     "text": [
      "         x1_1      y1_1      z1_1      v1_1      x2_1      y2_1      z2_1  \\\n",
      "321  0.519894  0.291926 -0.748998  0.999875  0.537497  0.247694 -0.683006   \n",
      "108  0.549532  0.338151 -0.778026  0.999894  0.568576  0.296275 -0.712800   \n",
      "637  0.572240  0.298575 -0.828227  0.999253  0.589356  0.263905 -0.767660   \n",
      "295  0.546207  0.286986 -0.702231  0.999912  0.568138  0.243016 -0.642140   \n",
      "236  0.544440  0.301810 -0.740586  0.999913  0.562848  0.257828 -0.677664   \n",
      "..        ...       ...       ...       ...       ...       ...       ...   \n",
      "646  0.572608  0.276055 -0.727970  0.999891  0.593526  0.236576 -0.683059   \n",
      "320  0.537159  0.285424 -0.510985  0.999179  0.556715  0.243461 -0.460807   \n",
      "600  0.572078  0.268256 -0.663329  0.999738  0.587621  0.229152 -0.605278   \n",
      "353  0.487564  0.296415 -0.699259  0.999927  0.505054  0.251321 -0.664635   \n",
      "253  0.553503  0.334746 -0.689364  0.999736  0.567536  0.297001 -0.653930   \n",
      "\n",
      "         v2_1      x3_1      y3_1  ...  z73_20  v73_20  x74_20  y74_20  \\\n",
      "321  0.999773  0.550046  0.246186  ...     0.0     0.0     0.0     0.0   \n",
      "108  0.999841  0.578427  0.297189  ...     0.0     0.0     0.0     0.0   \n",
      "637  0.998923  0.601314  0.263498  ...     0.0     0.0     0.0     0.0   \n",
      "295  0.999852  0.581877  0.243100  ...     0.0     0.0     0.0     0.0   \n",
      "236  0.999869  0.574633  0.258799  ...     0.0     0.0     0.0     0.0   \n",
      "..        ...       ...       ...  ...     ...     ...     ...     ...   \n",
      "646  0.999833  0.607908  0.236660  ...     0.0     0.0     0.0     0.0   \n",
      "320  0.998597  0.571934  0.242260  ...     0.0     0.0     0.0     0.0   \n",
      "600  0.999588  0.599732  0.229677  ...     0.0     0.0     0.0     0.0   \n",
      "353  0.999857  0.516747  0.248814  ...     0.0     0.0     0.0     0.0   \n",
      "253  0.999599  0.578014  0.296165  ...     0.0     0.0     0.0     0.0   \n",
      "\n",
      "     z74_20  v74_20  x75_20  y75_20  z75_20  v75_20  \n",
      "321     0.0     0.0     0.0     0.0     0.0     0.0  \n",
      "108     0.0     0.0     0.0     0.0     0.0     0.0  \n",
      "637     0.0     0.0     0.0     0.0     0.0     0.0  \n",
      "295     0.0     0.0     0.0     0.0     0.0     0.0  \n",
      "236     0.0     0.0     0.0     0.0     0.0     0.0  \n",
      "..      ...     ...     ...     ...     ...     ...  \n",
      "646     0.0     0.0     0.0     0.0     0.0     0.0  \n",
      "320     0.0     0.0     0.0     0.0     0.0     0.0  \n",
      "600     0.0     0.0     0.0     0.0     0.0     0.0  \n",
      "353     0.0     0.0     0.0     0.0     0.0     0.0  \n",
      "253     0.0     0.0     0.0     0.0     0.0     0.0  \n",
      "\n",
      "[560 rows x 6000 columns]         class\n",
      "321     finir\n",
      "108  beaucoup\n",
      "637     payer\n",
      "295     faire\n",
      "236      donc\n",
      "..        ...\n",
      "646    penser\n",
      "320     finir\n",
      "600        ou\n",
      "353      gens\n",
      "253    dormir\n",
      "\n",
      "[560 rows x 1 columns]\n"
     ]
    },
    {
     "name": "stderr",
     "output_type": "stream",
     "text": [
      "/home/portable014/.local/lib/python3.8/site-packages/sklearn/neighbors/_classification.py:207: DataConversionWarning: A column-vector y was passed when a 1d array was expected. Please change the shape of y to (n_samples,), for example using ravel().\n",
      "  return self._fit(X, y)\n",
      "/home/portable014/.local/lib/python3.8/site-packages/sklearn/neighbors/_classification.py:207: DataConversionWarning: A column-vector y was passed when a 1d array was expected. Please change the shape of y to (n_samples,), for example using ravel().\n",
      "  return self._fit(X, y)\n",
      "/home/portable014/.local/lib/python3.8/site-packages/sklearn/neighbors/_classification.py:207: DataConversionWarning: A column-vector y was passed when a 1d array was expected. Please change the shape of y to (n_samples,), for example using ravel().\n",
      "  return self._fit(X, y)\n",
      "/home/portable014/.local/lib/python3.8/site-packages/sklearn/neighbors/_classification.py:207: DataConversionWarning: A column-vector y was passed when a 1d array was expected. Please change the shape of y to (n_samples,), for example using ravel().\n",
      "  return self._fit(X, y)\n",
      "/home/portable014/.local/lib/python3.8/site-packages/sklearn/neighbors/_classification.py:207: DataConversionWarning: A column-vector y was passed when a 1d array was expected. Please change the shape of y to (n_samples,), for example using ravel().\n",
      "  return self._fit(X, y)\n"
     ]
    },
    {
     "name": "stdout",
     "output_type": "stream",
     "text": [
      "         x1_1      y1_1      z1_1      v1_1      x2_1      y2_1      z2_1  \\\n",
      "321  0.519894  0.291926 -0.748998  0.999875  0.537497  0.247694 -0.683006   \n",
      "108  0.549532  0.338151 -0.778026  0.999894  0.568576  0.296275 -0.712800   \n",
      "637  0.572240  0.298575 -0.828227  0.999253  0.589356  0.263905 -0.767660   \n",
      "295  0.546207  0.286986 -0.702231  0.999912  0.568138  0.243016 -0.642140   \n",
      "236  0.544440  0.301810 -0.740586  0.999913  0.562848  0.257828 -0.677664   \n",
      "..        ...       ...       ...       ...       ...       ...       ...   \n",
      "646  0.572608  0.276055 -0.727970  0.999891  0.593526  0.236576 -0.683059   \n",
      "320  0.537159  0.285424 -0.510985  0.999179  0.556715  0.243461 -0.460807   \n",
      "600  0.572078  0.268256 -0.663329  0.999738  0.587621  0.229152 -0.605278   \n",
      "353  0.487564  0.296415 -0.699259  0.999927  0.505054  0.251321 -0.664635   \n",
      "253  0.553503  0.334746 -0.689364  0.999736  0.567536  0.297001 -0.653930   \n",
      "\n",
      "         v2_1      x3_1      y3_1  ...  z73_20  v73_20  x74_20  y74_20  \\\n",
      "321  0.999773  0.550046  0.246186  ...     0.0     0.0     0.0     0.0   \n",
      "108  0.999841  0.578427  0.297189  ...     0.0     0.0     0.0     0.0   \n",
      "637  0.998923  0.601314  0.263498  ...     0.0     0.0     0.0     0.0   \n",
      "295  0.999852  0.581877  0.243100  ...     0.0     0.0     0.0     0.0   \n",
      "236  0.999869  0.574633  0.258799  ...     0.0     0.0     0.0     0.0   \n",
      "..        ...       ...       ...  ...     ...     ...     ...     ...   \n",
      "646  0.999833  0.607908  0.236660  ...     0.0     0.0     0.0     0.0   \n",
      "320  0.998597  0.571934  0.242260  ...     0.0     0.0     0.0     0.0   \n",
      "600  0.999588  0.599732  0.229677  ...     0.0     0.0     0.0     0.0   \n",
      "353  0.999857  0.516747  0.248814  ...     0.0     0.0     0.0     0.0   \n",
      "253  0.999599  0.578014  0.296165  ...     0.0     0.0     0.0     0.0   \n",
      "\n",
      "     z74_20  v74_20  x75_20  y75_20  z75_20  v75_20  \n",
      "321     0.0     0.0     0.0     0.0     0.0     0.0  \n",
      "108     0.0     0.0     0.0     0.0     0.0     0.0  \n",
      "637     0.0     0.0     0.0     0.0     0.0     0.0  \n",
      "295     0.0     0.0     0.0     0.0     0.0     0.0  \n",
      "236     0.0     0.0     0.0     0.0     0.0     0.0  \n",
      "..      ...     ...     ...     ...     ...     ...  \n",
      "646     0.0     0.0     0.0     0.0     0.0     0.0  \n",
      "320     0.0     0.0     0.0     0.0     0.0     0.0  \n",
      "600     0.0     0.0     0.0     0.0     0.0     0.0  \n",
      "353     0.0     0.0     0.0     0.0     0.0     0.0  \n",
      "253     0.0     0.0     0.0     0.0     0.0     0.0  \n",
      "\n",
      "[560 rows x 6000 columns]         class\n",
      "321     finir\n",
      "108  beaucoup\n",
      "637     payer\n",
      "295     faire\n",
      "236      donc\n",
      "..        ...\n",
      "646    penser\n",
      "320     finir\n",
      "600        ou\n",
      "353      gens\n",
      "253    dormir\n",
      "\n",
      "[560 rows x 1 columns]\n"
     ]
    },
    {
     "name": "stderr",
     "output_type": "stream",
     "text": [
      "/home/portable014/.local/lib/python3.8/site-packages/sklearn/neighbors/_classification.py:207: DataConversionWarning: A column-vector y was passed when a 1d array was expected. Please change the shape of y to (n_samples,), for example using ravel().\n",
      "  return self._fit(X, y)\n",
      "/home/portable014/.local/lib/python3.8/site-packages/sklearn/neighbors/_classification.py:207: DataConversionWarning: A column-vector y was passed when a 1d array was expected. Please change the shape of y to (n_samples,), for example using ravel().\n",
      "  return self._fit(X, y)\n",
      "/home/portable014/.local/lib/python3.8/site-packages/sklearn/neighbors/_classification.py:207: DataConversionWarning: A column-vector y was passed when a 1d array was expected. Please change the shape of y to (n_samples,), for example using ravel().\n",
      "  return self._fit(X, y)\n",
      "/home/portable014/.local/lib/python3.8/site-packages/sklearn/neighbors/_classification.py:207: DataConversionWarning: A column-vector y was passed when a 1d array was expected. Please change the shape of y to (n_samples,), for example using ravel().\n",
      "  return self._fit(X, y)\n",
      "/home/portable014/.local/lib/python3.8/site-packages/sklearn/neighbors/_classification.py:207: DataConversionWarning: A column-vector y was passed when a 1d array was expected. Please change the shape of y to (n_samples,), for example using ravel().\n",
      "  return self._fit(X, y)\n"
     ]
    },
    {
     "name": "stdout",
     "output_type": "stream",
     "text": [
      "         x1_1      y1_1      z1_1      v1_1      x2_1      y2_1      z2_1  \\\n",
      "321  0.519894  0.291926 -0.748998  0.999875  0.537497  0.247694 -0.683006   \n",
      "108  0.549532  0.338151 -0.778026  0.999894  0.568576  0.296275 -0.712800   \n",
      "637  0.572240  0.298575 -0.828227  0.999253  0.589356  0.263905 -0.767660   \n",
      "295  0.546207  0.286986 -0.702231  0.999912  0.568138  0.243016 -0.642140   \n",
      "236  0.544440  0.301810 -0.740586  0.999913  0.562848  0.257828 -0.677664   \n",
      "..        ...       ...       ...       ...       ...       ...       ...   \n",
      "646  0.572608  0.276055 -0.727970  0.999891  0.593526  0.236576 -0.683059   \n",
      "320  0.537159  0.285424 -0.510985  0.999179  0.556715  0.243461 -0.460807   \n",
      "600  0.572078  0.268256 -0.663329  0.999738  0.587621  0.229152 -0.605278   \n",
      "353  0.487564  0.296415 -0.699259  0.999927  0.505054  0.251321 -0.664635   \n",
      "253  0.553503  0.334746 -0.689364  0.999736  0.567536  0.297001 -0.653930   \n",
      "\n",
      "         v2_1      x3_1      y3_1  ...  z73_20  v73_20  x74_20  y74_20  \\\n",
      "321  0.999773  0.550046  0.246186  ...     0.0     0.0     0.0     0.0   \n",
      "108  0.999841  0.578427  0.297189  ...     0.0     0.0     0.0     0.0   \n",
      "637  0.998923  0.601314  0.263498  ...     0.0     0.0     0.0     0.0   \n",
      "295  0.999852  0.581877  0.243100  ...     0.0     0.0     0.0     0.0   \n",
      "236  0.999869  0.574633  0.258799  ...     0.0     0.0     0.0     0.0   \n",
      "..        ...       ...       ...  ...     ...     ...     ...     ...   \n",
      "646  0.999833  0.607908  0.236660  ...     0.0     0.0     0.0     0.0   \n",
      "320  0.998597  0.571934  0.242260  ...     0.0     0.0     0.0     0.0   \n",
      "600  0.999588  0.599732  0.229677  ...     0.0     0.0     0.0     0.0   \n",
      "353  0.999857  0.516747  0.248814  ...     0.0     0.0     0.0     0.0   \n",
      "253  0.999599  0.578014  0.296165  ...     0.0     0.0     0.0     0.0   \n",
      "\n",
      "     z74_20  v74_20  x75_20  y75_20  z75_20  v75_20  \n",
      "321     0.0     0.0     0.0     0.0     0.0     0.0  \n",
      "108     0.0     0.0     0.0     0.0     0.0     0.0  \n",
      "637     0.0     0.0     0.0     0.0     0.0     0.0  \n",
      "295     0.0     0.0     0.0     0.0     0.0     0.0  \n",
      "236     0.0     0.0     0.0     0.0     0.0     0.0  \n",
      "..      ...     ...     ...     ...     ...     ...  \n",
      "646     0.0     0.0     0.0     0.0     0.0     0.0  \n",
      "320     0.0     0.0     0.0     0.0     0.0     0.0  \n",
      "600     0.0     0.0     0.0     0.0     0.0     0.0  \n",
      "353     0.0     0.0     0.0     0.0     0.0     0.0  \n",
      "253     0.0     0.0     0.0     0.0     0.0     0.0  \n",
      "\n",
      "[560 rows x 6000 columns]         class\n",
      "321     finir\n",
      "108  beaucoup\n",
      "637     payer\n",
      "295     faire\n",
      "236      donc\n",
      "..        ...\n",
      "646    penser\n",
      "320     finir\n",
      "600        ou\n",
      "353      gens\n",
      "253    dormir\n",
      "\n",
      "[560 rows x 1 columns]\n"
     ]
    },
    {
     "name": "stderr",
     "output_type": "stream",
     "text": [
      "/home/portable014/.local/lib/python3.8/site-packages/sklearn/neighbors/_classification.py:207: DataConversionWarning: A column-vector y was passed when a 1d array was expected. Please change the shape of y to (n_samples,), for example using ravel().\n",
      "  return self._fit(X, y)\n",
      "/home/portable014/.local/lib/python3.8/site-packages/sklearn/neighbors/_classification.py:207: DataConversionWarning: A column-vector y was passed when a 1d array was expected. Please change the shape of y to (n_samples,), for example using ravel().\n",
      "  return self._fit(X, y)\n",
      "/home/portable014/.local/lib/python3.8/site-packages/sklearn/neighbors/_classification.py:207: DataConversionWarning: A column-vector y was passed when a 1d array was expected. Please change the shape of y to (n_samples,), for example using ravel().\n",
      "  return self._fit(X, y)\n",
      "/home/portable014/.local/lib/python3.8/site-packages/sklearn/neighbors/_classification.py:207: DataConversionWarning: A column-vector y was passed when a 1d array was expected. Please change the shape of y to (n_samples,), for example using ravel().\n",
      "  return self._fit(X, y)\n",
      "/home/portable014/.local/lib/python3.8/site-packages/sklearn/neighbors/_classification.py:207: DataConversionWarning: A column-vector y was passed when a 1d array was expected. Please change the shape of y to (n_samples,), for example using ravel().\n",
      "  return self._fit(X, y)\n",
      "/home/portable014/.local/lib/python3.8/site-packages/sklearn/neighbors/_classification.py:207: DataConversionWarning: A column-vector y was passed when a 1d array was expected. Please change the shape of y to (n_samples,), for example using ravel().\n",
      "  return self._fit(X, y)\n"
     ]
    },
    {
     "name": "stdout",
     "output_type": "stream",
     "text": [
      "         x1_1      y1_1      z1_1      v1_1      x2_1      y2_1      z2_1  \\\n",
      "321  0.519894  0.291926 -0.748998  0.999875  0.537497  0.247694 -0.683006   \n",
      "108  0.549532  0.338151 -0.778026  0.999894  0.568576  0.296275 -0.712800   \n",
      "637  0.572240  0.298575 -0.828227  0.999253  0.589356  0.263905 -0.767660   \n",
      "295  0.546207  0.286986 -0.702231  0.999912  0.568138  0.243016 -0.642140   \n",
      "236  0.544440  0.301810 -0.740586  0.999913  0.562848  0.257828 -0.677664   \n",
      "..        ...       ...       ...       ...       ...       ...       ...   \n",
      "646  0.572608  0.276055 -0.727970  0.999891  0.593526  0.236576 -0.683059   \n",
      "320  0.537159  0.285424 -0.510985  0.999179  0.556715  0.243461 -0.460807   \n",
      "600  0.572078  0.268256 -0.663329  0.999738  0.587621  0.229152 -0.605278   \n",
      "353  0.487564  0.296415 -0.699259  0.999927  0.505054  0.251321 -0.664635   \n",
      "253  0.553503  0.334746 -0.689364  0.999736  0.567536  0.297001 -0.653930   \n",
      "\n",
      "         v2_1      x3_1      y3_1  ...  z73_20  v73_20  x74_20  y74_20  \\\n",
      "321  0.999773  0.550046  0.246186  ...     0.0     0.0     0.0     0.0   \n",
      "108  0.999841  0.578427  0.297189  ...     0.0     0.0     0.0     0.0   \n",
      "637  0.998923  0.601314  0.263498  ...     0.0     0.0     0.0     0.0   \n",
      "295  0.999852  0.581877  0.243100  ...     0.0     0.0     0.0     0.0   \n",
      "236  0.999869  0.574633  0.258799  ...     0.0     0.0     0.0     0.0   \n",
      "..        ...       ...       ...  ...     ...     ...     ...     ...   \n",
      "646  0.999833  0.607908  0.236660  ...     0.0     0.0     0.0     0.0   \n",
      "320  0.998597  0.571934  0.242260  ...     0.0     0.0     0.0     0.0   \n",
      "600  0.999588  0.599732  0.229677  ...     0.0     0.0     0.0     0.0   \n",
      "353  0.999857  0.516747  0.248814  ...     0.0     0.0     0.0     0.0   \n",
      "253  0.999599  0.578014  0.296165  ...     0.0     0.0     0.0     0.0   \n",
      "\n",
      "     z74_20  v74_20  x75_20  y75_20  z75_20  v75_20  \n",
      "321     0.0     0.0     0.0     0.0     0.0     0.0  \n",
      "108     0.0     0.0     0.0     0.0     0.0     0.0  \n",
      "637     0.0     0.0     0.0     0.0     0.0     0.0  \n",
      "295     0.0     0.0     0.0     0.0     0.0     0.0  \n",
      "236     0.0     0.0     0.0     0.0     0.0     0.0  \n",
      "..      ...     ...     ...     ...     ...     ...  \n",
      "646     0.0     0.0     0.0     0.0     0.0     0.0  \n",
      "320     0.0     0.0     0.0     0.0     0.0     0.0  \n",
      "600     0.0     0.0     0.0     0.0     0.0     0.0  \n",
      "353     0.0     0.0     0.0     0.0     0.0     0.0  \n",
      "253     0.0     0.0     0.0     0.0     0.0     0.0  \n",
      "\n",
      "[560 rows x 6000 columns]         class\n",
      "321     finir\n",
      "108  beaucoup\n",
      "637     payer\n",
      "295     faire\n",
      "236      donc\n",
      "..        ...\n",
      "646    penser\n",
      "320     finir\n",
      "600        ou\n",
      "353      gens\n",
      "253    dormir\n",
      "\n",
      "[560 rows x 1 columns]\n"
     ]
    },
    {
     "name": "stderr",
     "output_type": "stream",
     "text": [
      "/home/portable014/.local/lib/python3.8/site-packages/sklearn/neighbors/_classification.py:207: DataConversionWarning: A column-vector y was passed when a 1d array was expected. Please change the shape of y to (n_samples,), for example using ravel().\n",
      "  return self._fit(X, y)\n",
      "/home/portable014/.local/lib/python3.8/site-packages/sklearn/neighbors/_classification.py:207: DataConversionWarning: A column-vector y was passed when a 1d array was expected. Please change the shape of y to (n_samples,), for example using ravel().\n",
      "  return self._fit(X, y)\n",
      "/home/portable014/.local/lib/python3.8/site-packages/sklearn/neighbors/_classification.py:207: DataConversionWarning: A column-vector y was passed when a 1d array was expected. Please change the shape of y to (n_samples,), for example using ravel().\n",
      "  return self._fit(X, y)\n",
      "/home/portable014/.local/lib/python3.8/site-packages/sklearn/neighbors/_classification.py:207: DataConversionWarning: A column-vector y was passed when a 1d array was expected. Please change the shape of y to (n_samples,), for example using ravel().\n",
      "  return self._fit(X, y)\n"
     ]
    },
    {
     "name": "stdout",
     "output_type": "stream",
     "text": [
      "         x1_1      y1_1      z1_1      v1_1      x2_1      y2_1      z2_1  \\\n",
      "321  0.519894  0.291926 -0.748998  0.999875  0.537497  0.247694 -0.683006   \n",
      "108  0.549532  0.338151 -0.778026  0.999894  0.568576  0.296275 -0.712800   \n",
      "637  0.572240  0.298575 -0.828227  0.999253  0.589356  0.263905 -0.767660   \n",
      "295  0.546207  0.286986 -0.702231  0.999912  0.568138  0.243016 -0.642140   \n",
      "236  0.544440  0.301810 -0.740586  0.999913  0.562848  0.257828 -0.677664   \n",
      "..        ...       ...       ...       ...       ...       ...       ...   \n",
      "646  0.572608  0.276055 -0.727970  0.999891  0.593526  0.236576 -0.683059   \n",
      "320  0.537159  0.285424 -0.510985  0.999179  0.556715  0.243461 -0.460807   \n",
      "600  0.572078  0.268256 -0.663329  0.999738  0.587621  0.229152 -0.605278   \n",
      "353  0.487564  0.296415 -0.699259  0.999927  0.505054  0.251321 -0.664635   \n",
      "253  0.553503  0.334746 -0.689364  0.999736  0.567536  0.297001 -0.653930   \n",
      "\n",
      "         v2_1      x3_1      y3_1  ...  z73_20  v73_20  x74_20  y74_20  \\\n",
      "321  0.999773  0.550046  0.246186  ...     0.0     0.0     0.0     0.0   \n",
      "108  0.999841  0.578427  0.297189  ...     0.0     0.0     0.0     0.0   \n",
      "637  0.998923  0.601314  0.263498  ...     0.0     0.0     0.0     0.0   \n",
      "295  0.999852  0.581877  0.243100  ...     0.0     0.0     0.0     0.0   \n",
      "236  0.999869  0.574633  0.258799  ...     0.0     0.0     0.0     0.0   \n",
      "..        ...       ...       ...  ...     ...     ...     ...     ...   \n",
      "646  0.999833  0.607908  0.236660  ...     0.0     0.0     0.0     0.0   \n",
      "320  0.998597  0.571934  0.242260  ...     0.0     0.0     0.0     0.0   \n",
      "600  0.999588  0.599732  0.229677  ...     0.0     0.0     0.0     0.0   \n",
      "353  0.999857  0.516747  0.248814  ...     0.0     0.0     0.0     0.0   \n",
      "253  0.999599  0.578014  0.296165  ...     0.0     0.0     0.0     0.0   \n",
      "\n",
      "     z74_20  v74_20  x75_20  y75_20  z75_20  v75_20  \n",
      "321     0.0     0.0     0.0     0.0     0.0     0.0  \n",
      "108     0.0     0.0     0.0     0.0     0.0     0.0  \n",
      "637     0.0     0.0     0.0     0.0     0.0     0.0  \n",
      "295     0.0     0.0     0.0     0.0     0.0     0.0  \n",
      "236     0.0     0.0     0.0     0.0     0.0     0.0  \n",
      "..      ...     ...     ...     ...     ...     ...  \n",
      "646     0.0     0.0     0.0     0.0     0.0     0.0  \n",
      "320     0.0     0.0     0.0     0.0     0.0     0.0  \n",
      "600     0.0     0.0     0.0     0.0     0.0     0.0  \n",
      "353     0.0     0.0     0.0     0.0     0.0     0.0  \n",
      "253     0.0     0.0     0.0     0.0     0.0     0.0  \n",
      "\n",
      "[560 rows x 6000 columns]         class\n",
      "321     finir\n",
      "108  beaucoup\n",
      "637     payer\n",
      "295     faire\n",
      "236      donc\n",
      "..        ...\n",
      "646    penser\n",
      "320     finir\n",
      "600        ou\n",
      "353      gens\n",
      "253    dormir\n",
      "\n",
      "[560 rows x 1 columns]\n"
     ]
    },
    {
     "name": "stderr",
     "output_type": "stream",
     "text": [
      "/home/portable014/.local/lib/python3.8/site-packages/sklearn/neighbors/_classification.py:207: DataConversionWarning: A column-vector y was passed when a 1d array was expected. Please change the shape of y to (n_samples,), for example using ravel().\n",
      "  return self._fit(X, y)\n",
      "/home/portable014/.local/lib/python3.8/site-packages/sklearn/neighbors/_classification.py:207: DataConversionWarning: A column-vector y was passed when a 1d array was expected. Please change the shape of y to (n_samples,), for example using ravel().\n",
      "  return self._fit(X, y)\n",
      "/home/portable014/.local/lib/python3.8/site-packages/sklearn/neighbors/_classification.py:207: DataConversionWarning: A column-vector y was passed when a 1d array was expected. Please change the shape of y to (n_samples,), for example using ravel().\n",
      "  return self._fit(X, y)\n",
      "/home/portable014/.local/lib/python3.8/site-packages/sklearn/neighbors/_classification.py:207: DataConversionWarning: A column-vector y was passed when a 1d array was expected. Please change the shape of y to (n_samples,), for example using ravel().\n",
      "  return self._fit(X, y)\n",
      "/home/portable014/.local/lib/python3.8/site-packages/sklearn/neighbors/_classification.py:207: DataConversionWarning: A column-vector y was passed when a 1d array was expected. Please change the shape of y to (n_samples,), for example using ravel().\n",
      "  return self._fit(X, y)\n"
     ]
    },
    {
     "name": "stdout",
     "output_type": "stream",
     "text": [
      "         x1_1      y1_1      z1_1      v1_1      x2_1      y2_1      z2_1  \\\n",
      "321  0.519894  0.291926 -0.748998  0.999875  0.537497  0.247694 -0.683006   \n",
      "108  0.549532  0.338151 -0.778026  0.999894  0.568576  0.296275 -0.712800   \n",
      "637  0.572240  0.298575 -0.828227  0.999253  0.589356  0.263905 -0.767660   \n",
      "295  0.546207  0.286986 -0.702231  0.999912  0.568138  0.243016 -0.642140   \n",
      "236  0.544440  0.301810 -0.740586  0.999913  0.562848  0.257828 -0.677664   \n",
      "..        ...       ...       ...       ...       ...       ...       ...   \n",
      "646  0.572608  0.276055 -0.727970  0.999891  0.593526  0.236576 -0.683059   \n",
      "320  0.537159  0.285424 -0.510985  0.999179  0.556715  0.243461 -0.460807   \n",
      "600  0.572078  0.268256 -0.663329  0.999738  0.587621  0.229152 -0.605278   \n",
      "353  0.487564  0.296415 -0.699259  0.999927  0.505054  0.251321 -0.664635   \n",
      "253  0.553503  0.334746 -0.689364  0.999736  0.567536  0.297001 -0.653930   \n",
      "\n",
      "         v2_1      x3_1      y3_1  ...  z73_20  v73_20  x74_20  y74_20  \\\n",
      "321  0.999773  0.550046  0.246186  ...     0.0     0.0     0.0     0.0   \n",
      "108  0.999841  0.578427  0.297189  ...     0.0     0.0     0.0     0.0   \n",
      "637  0.998923  0.601314  0.263498  ...     0.0     0.0     0.0     0.0   \n",
      "295  0.999852  0.581877  0.243100  ...     0.0     0.0     0.0     0.0   \n",
      "236  0.999869  0.574633  0.258799  ...     0.0     0.0     0.0     0.0   \n",
      "..        ...       ...       ...  ...     ...     ...     ...     ...   \n",
      "646  0.999833  0.607908  0.236660  ...     0.0     0.0     0.0     0.0   \n",
      "320  0.998597  0.571934  0.242260  ...     0.0     0.0     0.0     0.0   \n",
      "600  0.999588  0.599732  0.229677  ...     0.0     0.0     0.0     0.0   \n",
      "353  0.999857  0.516747  0.248814  ...     0.0     0.0     0.0     0.0   \n",
      "253  0.999599  0.578014  0.296165  ...     0.0     0.0     0.0     0.0   \n",
      "\n",
      "     z74_20  v74_20  x75_20  y75_20  z75_20  v75_20  \n",
      "321     0.0     0.0     0.0     0.0     0.0     0.0  \n",
      "108     0.0     0.0     0.0     0.0     0.0     0.0  \n",
      "637     0.0     0.0     0.0     0.0     0.0     0.0  \n",
      "295     0.0     0.0     0.0     0.0     0.0     0.0  \n",
      "236     0.0     0.0     0.0     0.0     0.0     0.0  \n",
      "..      ...     ...     ...     ...     ...     ...  \n",
      "646     0.0     0.0     0.0     0.0     0.0     0.0  \n",
      "320     0.0     0.0     0.0     0.0     0.0     0.0  \n",
      "600     0.0     0.0     0.0     0.0     0.0     0.0  \n",
      "353     0.0     0.0     0.0     0.0     0.0     0.0  \n",
      "253     0.0     0.0     0.0     0.0     0.0     0.0  \n",
      "\n",
      "[560 rows x 6000 columns]         class\n",
      "321     finir\n",
      "108  beaucoup\n",
      "637     payer\n",
      "295     faire\n",
      "236      donc\n",
      "..        ...\n",
      "646    penser\n",
      "320     finir\n",
      "600        ou\n",
      "353      gens\n",
      "253    dormir\n",
      "\n",
      "[560 rows x 1 columns]\n",
      "Le meilleur leaf_size est: 1\n",
      "La meilleure précision est: 0.6410714285714285\n"
     ]
    }
   ],
   "source": [
    "import numpy as np\n",
    "from sklearn.neighbors import KNeighborsClassifier\n",
    "from sklearn.model_selection import cross_val_score\n",
    "\n",
    "# Liste de différentes valeurs de leaf_size à tester\n",
    "leaf_sizes = [1, 5, 10, 15, 20, 25, 30, 40, 50]\n",
    "\n",
    "# Tableau pour stocker les précisions pour chaque valeur de leaf_size\n",
    "scores = []\n",
    "\n",
    "for leaf_size in leaf_sizes:\n",
    "    knn = KNeighborsClassifier(leaf_size=leaf_size)\n",
    "    score = np.mean(cross_val_score(knn, X_train, y_train, cv=5, scoring='accuracy'))\n",
    "    scores.append(score)\n",
    "\n",
    "# Recherche de la meilleure précision et de son index correspondant\n",
    "best_index = np.argmax(scores)\n",
    "best_leaf_size = leaf_sizes[best_index]\n",
    "best_score = scores[best_index]\n",
    "\n",
    "print(\"Le meilleur leaf_size est:\", best_leaf_size)\n",
    "print(\"La meilleure précision est:\", best_score)\n",
    "\n"
   ]
  }
 ],
 "metadata": {
  "kernelspec": {
   "display_name": "Python 3.8.10 64-bit",
   "language": "python",
   "name": "python3"
  },
  "language_info": {
   "codemirror_mode": {
    "name": "ipython",
    "version": 3
   },
   "file_extension": ".py",
   "mimetype": "text/x-python",
   "name": "python",
   "nbconvert_exporter": "python",
   "pygments_lexer": "ipython3",
   "version": "3.10.6"
  },
  "orig_nbformat": 4,
  "vscode": {
   "interpreter": {
    "hash": "31f2aee4e71d21fbe5cf8b01ff0e069b9275f58929596ceb00d14d90e3e16cd6"
   }
  }
 },
 "nbformat": 4,
 "nbformat_minor": 2
}
