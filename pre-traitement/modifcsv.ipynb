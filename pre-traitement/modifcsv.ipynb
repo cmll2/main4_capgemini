{
 "cells": [
  {
   "cell_type": "code",
   "execution_count": 46,
   "metadata": {},
   "outputs": [],
   "source": [
    "import mediapipe as mp  # Import mediapipe\n",
    "import cv2  # Import opencv\n",
    "import csv\n",
    "import os\n",
    "import numpy as np\n",
    "import sklearn\n",
    "import pandas as pd\n",
    "import csv "
   ]
  },
  {
   "cell_type": "code",
   "execution_count": 47,
   "metadata": {},
   "outputs": [
    {
     "name": "stdout",
     "output_type": "stream",
     "text": [
      "\n",
      "longueur du tableau :  0\n"
     ]
    }
   ],
   "source": [
    "#Création d'un fichier à partir de la liste tableau\n",
    "with open('modif.csv','w',newline='') as f: \n",
    "    tableau=[]                                #Ouverture du fichier CSV en écriture\n",
    "    ecrire=csv.writer(f)                        # préparation à l'écriture\n",
    "    for i in tableau:                           # Pour chaque ligne du tableau...  \n",
    "        ecrire.writerow(i)                # Mettre dans la variable ecrire cette nouvelle ligne      \n",
    "print('',end='\\n')\n",
    "print('longueur du tableau : ',len(tableau))\n",
    "\n"
   ]
  },
  {
   "cell_type": "code",
   "execution_count": 50,
   "metadata": {},
   "outputs": [],
   "source": [
    "#Ajout d'une ligne\n",
    "\n",
    "liste = []\n",
    "with open('modif.csv','w',newline='') as f:       #Ajout d'une ligne dans le fichier csv\n",
    "    ecrire=csv.writer(f) \n",
    "    for i in range(1,76):\n",
    "        for j in range (1,24):\n",
    "            mot='x' + str (i) + '_' + str(j)\n",
    "            liste.append(mot ) \n",
    "        \n",
    "        for j in range (1,24):\n",
    "            mot2='y' + str (i) + '_' + str(j)\n",
    "            liste.append(mot2 ) \n",
    "        \n",
    "        for j in range (1,24):\n",
    "            mot3='z' + str (i) + '_' + str(j)\n",
    "            liste.append(mot3 )\n",
    "        \n",
    "        for j in range (1,24):\n",
    "            mot4='v' + str (i) + '_' + str(j)\n",
    "            liste.append(mot4 )\n",
    "\n",
    "\n",
    "with open('modif.csv','w',newline='') as f:       #Ajout d'une ligne dans le fichier csv\n",
    "    ecrire=csv.writer(f)                             # préparation à l'écriture   \n",
    "    ecrire.writerow(['label', 'class' ]+ liste) \n",
    "\n",
    "#print(liste)\n",
    "\n",
    "\n"
   ]
  },
  {
   "cell_type": "code",
   "execution_count": 49,
   "metadata": {},
   "outputs": [
    {
     "ename": "ValueError",
     "evalue": "I/O operation on closed file.",
     "output_type": "error",
     "traceback": [
      "\u001b[0;31m---------------------------------------------------------------------------\u001b[0m",
      "\u001b[0;31mValueError\u001b[0m                                Traceback (most recent call last)",
      "\u001b[0;32m/var/folders/mw/_8h79zz516g1027m_j1npv2m0000gn/T/ipykernel_45249/726433441.py\u001b[0m in \u001b[0;36m<module>\u001b[0;34m\u001b[0m\n\u001b[1;32m      5\u001b[0m         \u001b[0;32mfor\u001b[0m \u001b[0mi\u001b[0m \u001b[0;32min\u001b[0m \u001b[0mrange\u001b[0m\u001b[0;34m(\u001b[0m\u001b[0;36m1\u001b[0m\u001b[0;34m,\u001b[0m\u001b[0mlen\u001b[0m\u001b[0;34m(\u001b[0m\u001b[0mtab\u001b[0m\u001b[0;34m)\u001b[0m\u001b[0;34m)\u001b[0m\u001b[0;34m:\u001b[0m\u001b[0;34m\u001b[0m\u001b[0;34m\u001b[0m\u001b[0m\n\u001b[1;32m      6\u001b[0m             \u001b[0;32mwith\u001b[0m \u001b[0mopen\u001b[0m\u001b[0;34m(\u001b[0m\u001b[0;34m'modif.csv'\u001b[0m\u001b[0;34m,\u001b[0m\u001b[0;34m'w'\u001b[0m\u001b[0;34m)\u001b[0m \u001b[0;32mas\u001b[0m \u001b[0mf\u001b[0m\u001b[0;34m:\u001b[0m\u001b[0;34m\u001b[0m\u001b[0;34m\u001b[0m\u001b[0m\n\u001b[0;32m----> 7\u001b[0;31m                 \u001b[0mecrire\u001b[0m\u001b[0;34m.\u001b[0m\u001b[0mwriterow\u001b[0m\u001b[0;34m(\u001b[0m\u001b[0mtab\u001b[0m\u001b[0;34m[\u001b[0m\u001b[0mi\u001b[0m\u001b[0;34m]\u001b[0m\u001b[0;34m)\u001b[0m\u001b[0;34m\u001b[0m\u001b[0;34m\u001b[0m\u001b[0m\n\u001b[0m",
      "\u001b[0;31mValueError\u001b[0m: I/O operation on closed file."
     ]
    }
   ],
   "source": [
    "\n",
    "with open('coords.csv', newline='') as csvfile:\n",
    "    reader = csv.DictReader(csvfile)\n",
    "    for row in reader:\n",
    "        tab=row['x1']\n",
    "        for i in range(1,len(tab)):\n",
    "            with open('modif.csv','w') as f:\n",
    "                ecrire.writerow(tab[i])  "
   ]
  },
  {
   "cell_type": "code",
   "execution_count": null,
   "metadata": {},
   "outputs": [],
   "source": [
    "import pandas\n",
    "\n",
    "my_file = pandas.read_csv(\"/home/portable014/Bureau/neelp_1/MAIN_4_PC/CapGemini_perso/coords.csv\", sep=\",\")\n",
    "my_columns = pandas.read_csv(\"/home/portable014/Bureau/neelp_1/MAIN_4_PC/CapGemini_perso/modif.csv\", sep=\",\")\n",
    "\n",
    "header = list(my_columns.head())\n",
    "\n",
    "list_x1 = list(my_file['x1'][:20])\n",
    "list_x2 = list(my_file['x2'][:20])\n",
    "\n",
    "header\n",
    "## Création d'une grande liste \n",
    "data = list_x1+list_x2\n",
    "print(data)\n",
    "## Création d'une dataframe pandas.Dataframe() \n",
    "\n",
    "#df = pandas.DataFrame(data, columns=header[:len(data)])\n",
    "df = pd.DataFrame(columns=header[:len(data)], index=['1'])\n",
    "df.loc['1'] = data\n",
    "## Enregistrer csv\n",
    "df\n",
    "#df.to_csv(\"\", sep = \",\")\n",
    "\n",
    "\n"
   ]
  }
 ],
 "metadata": {
  "kernelspec": {
   "display_name": "Python 3.9.6 64-bit",
   "language": "python",
   "name": "python3"
  },
  "language_info": {
   "codemirror_mode": {
    "name": "ipython",
    "version": 3
   },
   "file_extension": ".py",
   "mimetype": "text/x-python",
   "name": "python",
   "nbconvert_exporter": "python",
   "pygments_lexer": "ipython3",
   "version": "3.9.6"
  },
  "orig_nbformat": 4,
  "vscode": {
   "interpreter": {
    "hash": "31f2aee4e71d21fbe5cf8b01ff0e069b9275f58929596ceb00d14d90e3e16cd6"
   }
  }
 },
 "nbformat": 4,
 "nbformat_minor": 2
}
