{
 "cells": [
  {
   "cell_type": "markdown",
   "metadata": {},
   "source": [
    "# Code pour reformater les vidéos au même nombre de frames pour faciliter l'extraction et le traitement"
   ]
  },
  {
   "cell_type": "markdown",
   "metadata": {},
   "source": [
    "# 1. Imports"
   ]
  },
  {
   "cell_type": "code",
   "execution_count": 19,
   "metadata": {},
   "outputs": [],
   "source": [
    "import cv2\n",
    "import os\n",
    "import numpy as np\n",
    "from os.path import isfile, join\n",
    "from moviepy.editor import VideoFileClip\n",
    "import csv\n",
    "import mediapipe as mp \n",
    "\n",
    "mp_drawing = mp.solutions.drawing_utils  # Drawing helpers\n",
    "mp_holistic = mp.solutions.holistic  # Mediapipe Solutions"
   ]
  },
  {
   "cell_type": "markdown",
   "metadata": {},
   "source": [
    "# 2. Paramétrer les dossiers"
   ]
  },
  {
   "cell_type": "markdown",
   "metadata": {},
   "source": [
    "Paramètres de bases"
   ]
  },
  {
   "cell_type": "code",
   "execution_count": 20,
   "metadata": {},
   "outputs": [],
   "source": [
    "path = 'données/datas_mots/' #path vers le dossier des mots\n",
    "data_path = 'output/coords_csv'\n",
    "mots=np.array(['adresse','affaire','aller','ami_amie','autre','beaucoup','bonjour','chocolat','comprendre','demander','dieu','donc','dormir','enceinte','faire','famille','finir','gens','heure','ils_elles','interdire','jamais','jour','laisser','lentement','marcher_marche','merci','mourir_mort','nous_on','nuit','ou','payer','penser','personne','peu','pleuvoir_pluie','portugal','pour','prendre','question','quoi','raison_connaissance','rencontrer_rencontre','rester','rien','rue_route','sac','soeur_nonne','soleil','surprendre_surprise','temps','toujours','travail','trop','trouver']) #choix des mots\n",
    "nb_videos=20 #nb de vidéos par mot\n",
    "\n",
    "#'adresse','affaire','aller','ami_amie','autre','beaucoup','bonjour','chocolat','comprendre','demander','dieu','donc','dormir','enceinte','faire','famille','finir','gens','heure','ils_elles','interdire','jamais','jour','laisser','lentement','marcher_marche','merci','mourir_mort','nous_on','nuit','ou','payer','penser','personne','peu','pleuvoir_pluie','portugal','pour','prendre','question','quoi','raison_connaissance','rencontrer_rencontre','rester','rien','rue_route','sac','soeur_nonne','soleil','surprendre_surprise','temps','toujours','travail','trop','trouver','turquie','vache','vivre_vie','voir','vouloir'"
   ]
  },
  {
   "cell_type": "code",
   "execution_count": 21,
   "metadata": {},
   "outputs": [
    {
     "data": {
      "text/plain": [
       "55"
      ]
     },
     "execution_count": 21,
     "metadata": {},
     "output_type": "execute_result"
    }
   ],
   "source": [
    "len(mots)"
   ]
  },
  {
   "cell_type": "markdown",
   "metadata": {},
   "source": [
    "Calculer le nombre d'images moyen par vidéo pour avoir la référence"
   ]
  },
  {
   "cell_type": "code",
   "execution_count": 22,
   "metadata": {},
   "outputs": [
    {
     "name": "stdout",
     "output_type": "stream",
     "text": [
      "17\n"
     ]
    }
   ],
   "source": [
    "count=0\n",
    "fichier =list([])\n",
    "for mot in mots:\n",
    "    fichier1=[]\n",
    "    i=0\n",
    "    for f in os.listdir(path):\n",
    "        if i<nb_videos:\n",
    "            file_name, file_ext = os.path.splitext(f)\n",
    "            testmot = file_name.split('-')\n",
    "            if (testmot[0]==mot):\n",
    "                fichier1 += [path + file_name + file_ext]\n",
    "                i+=1\n",
    "    fichier.append(fichier1)\n",
    "rang_mot=0\n",
    "for mot in mots:\n",
    "    for f in fichier[rang_mot]:\n",
    "        cap = cv2.VideoCapture(f)\n",
    "        length = int(cap.get(cv2.CAP_PROP_FRAME_COUNT))\n",
    "        count=count+length\n",
    "    rang_mot+=1\n",
    "moy=count/(len(fichier)*nb_videos)\n",
    "nb_frame=int(moy)#nombre d'images par vidéos\n",
    "print(nb_frame)"
   ]
  },
  {
   "cell_type": "code",
   "execution_count": 23,
   "metadata": {},
   "outputs": [
    {
     "name": "stdout",
     "output_type": "stream",
     "text": [
      "[['données/datas_mots/adresse-00.mp4', 'données/datas_mots/adresse-01.mp4', 'données/datas_mots/adresse-02.mp4', 'données/datas_mots/adresse-03.mp4', 'données/datas_mots/adresse-04.mp4', 'données/datas_mots/adresse-05.mp4', 'données/datas_mots/adresse-06.mp4', 'données/datas_mots/adresse-07.mp4', 'données/datas_mots/adresse-08.mp4', 'données/datas_mots/adresse-09.mp4', 'données/datas_mots/adresse-10.mp4', 'données/datas_mots/adresse-11.mp4', 'données/datas_mots/adresse-12.mp4', 'données/datas_mots/adresse-13.mp4', 'données/datas_mots/adresse-14.mp4', 'données/datas_mots/adresse-15.mp4', 'données/datas_mots/adresse-16.mp4', 'données/datas_mots/adresse-17.mp4', 'données/datas_mots/adresse-18.mp4', 'données/datas_mots/adresse-19.mp4'], ['données/datas_mots/affaire-00.mp4', 'données/datas_mots/affaire-01.mp4', 'données/datas_mots/affaire-02.mp4', 'données/datas_mots/affaire-03.mp4', 'données/datas_mots/affaire-04.mp4', 'données/datas_mots/affaire-05.mp4', 'données/datas_mots/affaire-06.mp4', 'données/datas_mots/affaire-07.mp4', 'données/datas_mots/affaire-08.mp4', 'données/datas_mots/affaire-09.mp4', 'données/datas_mots/affaire-10.mp4', 'données/datas_mots/affaire-11.mp4', 'données/datas_mots/affaire-12.mp4', 'données/datas_mots/affaire-13.mp4', 'données/datas_mots/affaire-14.mp4', 'données/datas_mots/affaire-15.mp4', 'données/datas_mots/affaire-16.mp4', 'données/datas_mots/affaire-17.mp4', 'données/datas_mots/affaire-18.mp4', 'données/datas_mots/affaire-19.mp4'], ['données/datas_mots/aller-00.mp4', 'données/datas_mots/aller-01.mp4', 'données/datas_mots/aller-02.mp4', 'données/datas_mots/aller-03.mp4', 'données/datas_mots/aller-04.mp4', 'données/datas_mots/aller-05.mp4', 'données/datas_mots/aller-06.mp4', 'données/datas_mots/aller-07.mp4', 'données/datas_mots/aller-08.mp4', 'données/datas_mots/aller-09.mp4', 'données/datas_mots/aller-10.mp4', 'données/datas_mots/aller-11.mp4', 'données/datas_mots/aller-12.mp4', 'données/datas_mots/aller-13.mp4', 'données/datas_mots/aller-14.mp4', 'données/datas_mots/aller-15.mp4', 'données/datas_mots/aller-16.mp4', 'données/datas_mots/aller-17.mp4', 'données/datas_mots/aller-18.mp4', 'données/datas_mots/aller-19.mp4'], ['données/datas_mots/ami_amie-00.mp4', 'données/datas_mots/ami_amie-01.mp4', 'données/datas_mots/ami_amie-02.mp4', 'données/datas_mots/ami_amie-03.mp4', 'données/datas_mots/ami_amie-04.mp4', 'données/datas_mots/ami_amie-05.mp4', 'données/datas_mots/ami_amie-06.mp4', 'données/datas_mots/ami_amie-07.mp4', 'données/datas_mots/ami_amie-08.mp4', 'données/datas_mots/ami_amie-09.mp4', 'données/datas_mots/ami_amie-10.mp4', 'données/datas_mots/ami_amie-11.mp4', 'données/datas_mots/ami_amie-12.mp4', 'données/datas_mots/ami_amie-13.mp4', 'données/datas_mots/ami_amie-14.mp4', 'données/datas_mots/ami_amie-15.mp4', 'données/datas_mots/ami_amie-16.mp4', 'données/datas_mots/ami_amie-17.mp4', 'données/datas_mots/ami_amie-18.mp4', 'données/datas_mots/ami_amie-19.mp4'], ['données/datas_mots/autre-00.mp4', 'données/datas_mots/autre-01.mp4', 'données/datas_mots/autre-02.mp4', 'données/datas_mots/autre-03.mp4', 'données/datas_mots/autre-04.mp4', 'données/datas_mots/autre-05.mp4', 'données/datas_mots/autre-06.mp4', 'données/datas_mots/autre-07.mp4', 'données/datas_mots/autre-08.mp4', 'données/datas_mots/autre-09.mp4', 'données/datas_mots/autre-10.mp4', 'données/datas_mots/autre-11.mp4', 'données/datas_mots/autre-12.mp4', 'données/datas_mots/autre-13.mp4', 'données/datas_mots/autre-14.mp4', 'données/datas_mots/autre-15.mp4', 'données/datas_mots/autre-16.mp4', 'données/datas_mots/autre-17.mp4', 'données/datas_mots/autre-18.mp4', 'données/datas_mots/autre-19.mp4'], ['données/datas_mots/beaucoup-00.mp4', 'données/datas_mots/beaucoup-01.mp4', 'données/datas_mots/beaucoup-02.mp4', 'données/datas_mots/beaucoup-03.mp4', 'données/datas_mots/beaucoup-04.mp4', 'données/datas_mots/beaucoup-05.mp4', 'données/datas_mots/beaucoup-06.mp4', 'données/datas_mots/beaucoup-07.mp4', 'données/datas_mots/beaucoup-08.mp4', 'données/datas_mots/beaucoup-09.mp4', 'données/datas_mots/beaucoup-10.mp4', 'données/datas_mots/beaucoup-11.mp4', 'données/datas_mots/beaucoup-12.mp4', 'données/datas_mots/beaucoup-13.mp4', 'données/datas_mots/beaucoup-14.mp4', 'données/datas_mots/beaucoup-15.mp4', 'données/datas_mots/beaucoup-16.mp4', 'données/datas_mots/beaucoup-17.mp4', 'données/datas_mots/beaucoup-18.mp4', 'données/datas_mots/beaucoup-19.mp4'], ['données/datas_mots/bonjour-00.mp4', 'données/datas_mots/bonjour-01.mp4', 'données/datas_mots/bonjour-02.mp4', 'données/datas_mots/bonjour-03.mp4', 'données/datas_mots/bonjour-04.mp4', 'données/datas_mots/bonjour-05.mp4', 'données/datas_mots/bonjour-06.mp4', 'données/datas_mots/bonjour-07.mp4', 'données/datas_mots/bonjour-08.mp4', 'données/datas_mots/bonjour-09.mp4', 'données/datas_mots/bonjour-10.mp4', 'données/datas_mots/bonjour-11.mp4', 'données/datas_mots/bonjour-12.mp4', 'données/datas_mots/bonjour-13.mp4', 'données/datas_mots/bonjour-14.mp4', 'données/datas_mots/bonjour-15.mp4', 'données/datas_mots/bonjour-16.mp4', 'données/datas_mots/bonjour-17.mp4', 'données/datas_mots/bonjour-18.mp4', 'données/datas_mots/bonjour-19.mp4'], ['données/datas_mots/chocolat-00.mp4', 'données/datas_mots/chocolat-01.mp4', 'données/datas_mots/chocolat-02.mp4', 'données/datas_mots/chocolat-03.mp4', 'données/datas_mots/chocolat-04.mp4', 'données/datas_mots/chocolat-05.mp4', 'données/datas_mots/chocolat-06.mp4', 'données/datas_mots/chocolat-07.mp4', 'données/datas_mots/chocolat-08.mp4', 'données/datas_mots/chocolat-09.mp4', 'données/datas_mots/chocolat-10.mp4', 'données/datas_mots/chocolat-11.mp4', 'données/datas_mots/chocolat-12.mp4', 'données/datas_mots/chocolat-13.mp4', 'données/datas_mots/chocolat-14.mp4', 'données/datas_mots/chocolat-15.mp4', 'données/datas_mots/chocolat-16.mp4', 'données/datas_mots/chocolat-17.mp4', 'données/datas_mots/chocolat-18.mp4', 'données/datas_mots/chocolat-19.mp4'], ['données/datas_mots/comprendre-00.mp4', 'données/datas_mots/comprendre-01.mp4', 'données/datas_mots/comprendre-02.mp4', 'données/datas_mots/comprendre-03.mp4', 'données/datas_mots/comprendre-04.mp4', 'données/datas_mots/comprendre-05.mp4', 'données/datas_mots/comprendre-06.mp4', 'données/datas_mots/comprendre-07.mp4', 'données/datas_mots/comprendre-08.mp4', 'données/datas_mots/comprendre-09.mp4', 'données/datas_mots/comprendre-10.mp4', 'données/datas_mots/comprendre-11.mp4', 'données/datas_mots/comprendre-12.mp4', 'données/datas_mots/comprendre-13.mp4', 'données/datas_mots/comprendre-14.mp4', 'données/datas_mots/comprendre-15.mp4', 'données/datas_mots/comprendre-16.mp4', 'données/datas_mots/comprendre-17.mp4', 'données/datas_mots/comprendre-18.mp4', 'données/datas_mots/comprendre-19.mp4'], ['données/datas_mots/demander-00.mp4', 'données/datas_mots/demander-01.mp4', 'données/datas_mots/demander-02.mp4', 'données/datas_mots/demander-03.mp4', 'données/datas_mots/demander-04.mp4', 'données/datas_mots/demander-05.mp4', 'données/datas_mots/demander-06.mp4', 'données/datas_mots/demander-07.mp4', 'données/datas_mots/demander-08.mp4', 'données/datas_mots/demander-09.mp4', 'données/datas_mots/demander-10.mp4', 'données/datas_mots/demander-11.mp4', 'données/datas_mots/demander-12.mp4', 'données/datas_mots/demander-13.mp4', 'données/datas_mots/demander-14.mp4', 'données/datas_mots/demander-15.mp4', 'données/datas_mots/demander-16.mp4', 'données/datas_mots/demander-17.mp4', 'données/datas_mots/demander-18.mp4', 'données/datas_mots/demander-19.mp4'], ['données/datas_mots/dieu-00.mp4', 'données/datas_mots/dieu-01.mp4', 'données/datas_mots/dieu-02.mp4', 'données/datas_mots/dieu-03.mp4', 'données/datas_mots/dieu-04.mp4', 'données/datas_mots/dieu-05.mp4', 'données/datas_mots/dieu-06.mp4', 'données/datas_mots/dieu-07.mp4', 'données/datas_mots/dieu-08.mp4', 'données/datas_mots/dieu-09.mp4', 'données/datas_mots/dieu-10.mp4', 'données/datas_mots/dieu-11.mp4', 'données/datas_mots/dieu-12.mp4', 'données/datas_mots/dieu-13.mp4', 'données/datas_mots/dieu-14.mp4', 'données/datas_mots/dieu-15.mp4', 'données/datas_mots/dieu-16.mp4', 'données/datas_mots/dieu-17.mp4', 'données/datas_mots/dieu-18.mp4', 'données/datas_mots/dieu-19.mp4'], ['données/datas_mots/donc-00.mp4', 'données/datas_mots/donc-01.mp4', 'données/datas_mots/donc-02.mp4', 'données/datas_mots/donc-03.mp4', 'données/datas_mots/donc-04.mp4', 'données/datas_mots/donc-05.mp4', 'données/datas_mots/donc-06.mp4', 'données/datas_mots/donc-07.mp4', 'données/datas_mots/donc-08.mp4', 'données/datas_mots/donc-09.mp4', 'données/datas_mots/donc-10.mp4', 'données/datas_mots/donc-11.mp4', 'données/datas_mots/donc-12.mp4', 'données/datas_mots/donc-13.mp4', 'données/datas_mots/donc-14.mp4', 'données/datas_mots/donc-15.mp4', 'données/datas_mots/donc-16.mp4', 'données/datas_mots/donc-17.mp4', 'données/datas_mots/donc-18.mp4', 'données/datas_mots/donc-19.mp4'], ['données/datas_mots/dormir-00.mp4', 'données/datas_mots/dormir-01.mp4', 'données/datas_mots/dormir-02.mp4', 'données/datas_mots/dormir-03.mp4', 'données/datas_mots/dormir-04.mp4', 'données/datas_mots/dormir-05.mp4', 'données/datas_mots/dormir-06.mp4', 'données/datas_mots/dormir-07.mp4', 'données/datas_mots/dormir-08.mp4', 'données/datas_mots/dormir-09.mp4', 'données/datas_mots/dormir-10.mp4', 'données/datas_mots/dormir-11.mp4', 'données/datas_mots/dormir-12.mp4', 'données/datas_mots/dormir-13.mp4', 'données/datas_mots/dormir-14.mp4', 'données/datas_mots/dormir-15.mp4', 'données/datas_mots/dormir-16.mp4', 'données/datas_mots/dormir-17.mp4', 'données/datas_mots/dormir-18.mp4', 'données/datas_mots/dormir-19.mp4'], ['données/datas_mots/enceinte-00.mp4', 'données/datas_mots/enceinte-01.mp4', 'données/datas_mots/enceinte-02.mp4', 'données/datas_mots/enceinte-03.mp4', 'données/datas_mots/enceinte-04.mp4', 'données/datas_mots/enceinte-05.mp4', 'données/datas_mots/enceinte-06.mp4', 'données/datas_mots/enceinte-07.mp4', 'données/datas_mots/enceinte-08.mp4', 'données/datas_mots/enceinte-09.mp4', 'données/datas_mots/enceinte-10.mp4', 'données/datas_mots/enceinte-11.mp4', 'données/datas_mots/enceinte-12.mp4', 'données/datas_mots/enceinte-13.mp4', 'données/datas_mots/enceinte-14.mp4', 'données/datas_mots/enceinte-15.mp4', 'données/datas_mots/enceinte-16.mp4', 'données/datas_mots/enceinte-17.mp4', 'données/datas_mots/enceinte-18.mp4', 'données/datas_mots/enceinte-19.mp4'], ['données/datas_mots/faire-00.mp4', 'données/datas_mots/faire-01.mp4', 'données/datas_mots/faire-02.mp4', 'données/datas_mots/faire-03.mp4', 'données/datas_mots/faire-04.mp4', 'données/datas_mots/faire-05.mp4', 'données/datas_mots/faire-06.mp4', 'données/datas_mots/faire-07.mp4', 'données/datas_mots/faire-08.mp4', 'données/datas_mots/faire-09.mp4', 'données/datas_mots/faire-10.mp4', 'données/datas_mots/faire-11.mp4', 'données/datas_mots/faire-12.mp4', 'données/datas_mots/faire-13.mp4', 'données/datas_mots/faire-14.mp4', 'données/datas_mots/faire-15.mp4', 'données/datas_mots/faire-16.mp4', 'données/datas_mots/faire-17.mp4', 'données/datas_mots/faire-18.mp4', 'données/datas_mots/faire-19.mp4'], ['données/datas_mots/famille-00.mp4', 'données/datas_mots/famille-01.mp4', 'données/datas_mots/famille-02.mp4', 'données/datas_mots/famille-03.mp4', 'données/datas_mots/famille-04.mp4', 'données/datas_mots/famille-05.mp4', 'données/datas_mots/famille-06.mp4', 'données/datas_mots/famille-07.mp4', 'données/datas_mots/famille-08.mp4', 'données/datas_mots/famille-09.mp4', 'données/datas_mots/famille-10.mp4', 'données/datas_mots/famille-11.mp4', 'données/datas_mots/famille-12.mp4', 'données/datas_mots/famille-13.mp4', 'données/datas_mots/famille-14.mp4', 'données/datas_mots/famille-15.mp4', 'données/datas_mots/famille-16.mp4', 'données/datas_mots/famille-17.mp4', 'données/datas_mots/famille-18.mp4', 'données/datas_mots/famille-19.mp4'], ['données/datas_mots/finir-00.mp4', 'données/datas_mots/finir-01.mp4', 'données/datas_mots/finir-02.mp4', 'données/datas_mots/finir-03.mp4', 'données/datas_mots/finir-04.mp4', 'données/datas_mots/finir-05.mp4', 'données/datas_mots/finir-06.mp4', 'données/datas_mots/finir-07.mp4', 'données/datas_mots/finir-08.mp4', 'données/datas_mots/finir-09.mp4', 'données/datas_mots/finir-10.mp4', 'données/datas_mots/finir-11.mp4', 'données/datas_mots/finir-12.mp4', 'données/datas_mots/finir-13.mp4', 'données/datas_mots/finir-14.mp4', 'données/datas_mots/finir-15.mp4', 'données/datas_mots/finir-16.mp4', 'données/datas_mots/finir-17.mp4', 'données/datas_mots/finir-18.mp4', 'données/datas_mots/finir-19.mp4'], ['données/datas_mots/gens-00.mp4', 'données/datas_mots/gens-01.mp4', 'données/datas_mots/gens-02.mp4', 'données/datas_mots/gens-03.mp4', 'données/datas_mots/gens-04.mp4', 'données/datas_mots/gens-05.mp4', 'données/datas_mots/gens-06.mp4', 'données/datas_mots/gens-07.mp4', 'données/datas_mots/gens-08.mp4', 'données/datas_mots/gens-09.mp4', 'données/datas_mots/gens-10.mp4', 'données/datas_mots/gens-11.mp4', 'données/datas_mots/gens-12.mp4', 'données/datas_mots/gens-13.mp4', 'données/datas_mots/gens-14.mp4', 'données/datas_mots/gens-15.mp4', 'données/datas_mots/gens-16.mp4', 'données/datas_mots/gens-17.mp4', 'données/datas_mots/gens-18.mp4', 'données/datas_mots/gens-19.mp4'], ['données/datas_mots/heure-00.mp4', 'données/datas_mots/heure-01.mp4', 'données/datas_mots/heure-02.mp4', 'données/datas_mots/heure-03.mp4', 'données/datas_mots/heure-04.mp4', 'données/datas_mots/heure-05.mp4', 'données/datas_mots/heure-06.mp4', 'données/datas_mots/heure-07.mp4', 'données/datas_mots/heure-08.mp4', 'données/datas_mots/heure-09.mp4', 'données/datas_mots/heure-10.mp4', 'données/datas_mots/heure-11.mp4', 'données/datas_mots/heure-12.mp4', 'données/datas_mots/heure-13.mp4', 'données/datas_mots/heure-14.mp4', 'données/datas_mots/heure-15.mp4', 'données/datas_mots/heure-16.mp4', 'données/datas_mots/heure-17.mp4', 'données/datas_mots/heure-18.mp4', 'données/datas_mots/heure-19.mp4'], ['données/datas_mots/ils_elles-00.mp4', 'données/datas_mots/ils_elles-01.mp4', 'données/datas_mots/ils_elles-02.mp4', 'données/datas_mots/ils_elles-03.mp4', 'données/datas_mots/ils_elles-04.mp4', 'données/datas_mots/ils_elles-05.mp4', 'données/datas_mots/ils_elles-06.mp4', 'données/datas_mots/ils_elles-07.mp4', 'données/datas_mots/ils_elles-08.mp4', 'données/datas_mots/ils_elles-09.mp4', 'données/datas_mots/ils_elles-10.mp4', 'données/datas_mots/ils_elles-11.mp4', 'données/datas_mots/ils_elles-12.mp4', 'données/datas_mots/ils_elles-13.mp4', 'données/datas_mots/ils_elles-14.mp4', 'données/datas_mots/ils_elles-15.mp4', 'données/datas_mots/ils_elles-16.mp4', 'données/datas_mots/ils_elles-17.mp4', 'données/datas_mots/ils_elles-18.mp4', 'données/datas_mots/ils_elles-19.mp4'], ['données/datas_mots/interdire-00.mp4', 'données/datas_mots/interdire-01.mp4', 'données/datas_mots/interdire-02.mp4', 'données/datas_mots/interdire-03.mp4', 'données/datas_mots/interdire-04.mp4', 'données/datas_mots/interdire-05.mp4', 'données/datas_mots/interdire-06.mp4', 'données/datas_mots/interdire-07.mp4', 'données/datas_mots/interdire-08.mp4', 'données/datas_mots/interdire-09.mp4', 'données/datas_mots/interdire-10.mp4', 'données/datas_mots/interdire-11.mp4', 'données/datas_mots/interdire-12.mp4', 'données/datas_mots/interdire-13.mp4', 'données/datas_mots/interdire-14.mp4', 'données/datas_mots/interdire-15.mp4', 'données/datas_mots/interdire-16.mp4', 'données/datas_mots/interdire-17.mp4', 'données/datas_mots/interdire-18.mp4', 'données/datas_mots/interdire-19.mp4'], ['données/datas_mots/jamais-00.mp4', 'données/datas_mots/jamais-01.mp4', 'données/datas_mots/jamais-02.mp4', 'données/datas_mots/jamais-03.mp4', 'données/datas_mots/jamais-04.mp4', 'données/datas_mots/jamais-05.mp4', 'données/datas_mots/jamais-06.mp4', 'données/datas_mots/jamais-07.mp4', 'données/datas_mots/jamais-08.mp4', 'données/datas_mots/jamais-09.mp4', 'données/datas_mots/jamais-10.mp4', 'données/datas_mots/jamais-11.mp4', 'données/datas_mots/jamais-12.mp4', 'données/datas_mots/jamais-13.mp4', 'données/datas_mots/jamais-14.mp4', 'données/datas_mots/jamais-15.mp4', 'données/datas_mots/jamais-16.mp4', 'données/datas_mots/jamais-17.mp4', 'données/datas_mots/jamais-18.mp4', 'données/datas_mots/jamais-19.mp4'], ['données/datas_mots/jour-00.mp4', 'données/datas_mots/jour-01.mp4', 'données/datas_mots/jour-02.mp4', 'données/datas_mots/jour-03.mp4', 'données/datas_mots/jour-04.mp4', 'données/datas_mots/jour-05.mp4', 'données/datas_mots/jour-06.mp4', 'données/datas_mots/jour-07.mp4', 'données/datas_mots/jour-08.mp4', 'données/datas_mots/jour-09.mp4', 'données/datas_mots/jour-10.mp4', 'données/datas_mots/jour-11.mp4', 'données/datas_mots/jour-12.mp4', 'données/datas_mots/jour-13.mp4', 'données/datas_mots/jour-14.mp4', 'données/datas_mots/jour-15.mp4', 'données/datas_mots/jour-16.mp4', 'données/datas_mots/jour-17.mp4', 'données/datas_mots/jour-18.mp4', 'données/datas_mots/jour-19.mp4'], ['données/datas_mots/laisser-00.mp4', 'données/datas_mots/laisser-01.mp4', 'données/datas_mots/laisser-02.mp4', 'données/datas_mots/laisser-03.mp4', 'données/datas_mots/laisser-04.mp4', 'données/datas_mots/laisser-05.mp4', 'données/datas_mots/laisser-06.mp4', 'données/datas_mots/laisser-07.mp4', 'données/datas_mots/laisser-08.mp4', 'données/datas_mots/laisser-09.mp4', 'données/datas_mots/laisser-10.mp4', 'données/datas_mots/laisser-11.mp4', 'données/datas_mots/laisser-12.mp4', 'données/datas_mots/laisser-13.mp4', 'données/datas_mots/laisser-14.mp4', 'données/datas_mots/laisser-15.mp4', 'données/datas_mots/laisser-16.mp4', 'données/datas_mots/laisser-17.mp4', 'données/datas_mots/laisser-18.mp4', 'données/datas_mots/laisser-19.mp4'], ['données/datas_mots/lentement-00.mp4', 'données/datas_mots/lentement-01.mp4', 'données/datas_mots/lentement-02.mp4', 'données/datas_mots/lentement-03.mp4', 'données/datas_mots/lentement-04.mp4', 'données/datas_mots/lentement-05.mp4', 'données/datas_mots/lentement-06.mp4', 'données/datas_mots/lentement-07.mp4', 'données/datas_mots/lentement-08.mp4', 'données/datas_mots/lentement-09.mp4', 'données/datas_mots/lentement-10.mp4', 'données/datas_mots/lentement-11.mp4', 'données/datas_mots/lentement-12.mp4', 'données/datas_mots/lentement-13.mp4', 'données/datas_mots/lentement-14.mp4', 'données/datas_mots/lentement-15.mp4', 'données/datas_mots/lentement-16.mp4', 'données/datas_mots/lentement-17.mp4', 'données/datas_mots/lentement-18.mp4', 'données/datas_mots/lentement-19.mp4'], ['données/datas_mots/marcher_marche-00.mp4', 'données/datas_mots/marcher_marche-01.mp4', 'données/datas_mots/marcher_marche-02.mp4', 'données/datas_mots/marcher_marche-03.mp4', 'données/datas_mots/marcher_marche-04.mp4', 'données/datas_mots/marcher_marche-05.mp4', 'données/datas_mots/marcher_marche-06.mp4', 'données/datas_mots/marcher_marche-07.mp4', 'données/datas_mots/marcher_marche-08.mp4', 'données/datas_mots/marcher_marche-09.mp4', 'données/datas_mots/marcher_marche-10.mp4', 'données/datas_mots/marcher_marche-11.mp4', 'données/datas_mots/marcher_marche-12.mp4', 'données/datas_mots/marcher_marche-13.mp4', 'données/datas_mots/marcher_marche-14.mp4', 'données/datas_mots/marcher_marche-15.mp4', 'données/datas_mots/marcher_marche-16.mp4', 'données/datas_mots/marcher_marche-17.mp4', 'données/datas_mots/marcher_marche-18.mp4', 'données/datas_mots/marcher_marche-19.mp4'], ['données/datas_mots/merci-00.mp4', 'données/datas_mots/merci-01.mp4', 'données/datas_mots/merci-02.mp4', 'données/datas_mots/merci-03.mp4', 'données/datas_mots/merci-04.mp4', 'données/datas_mots/merci-05.mp4', 'données/datas_mots/merci-06.mp4', 'données/datas_mots/merci-07.mp4', 'données/datas_mots/merci-08.mp4', 'données/datas_mots/merci-09.mp4', 'données/datas_mots/merci-10.mp4', 'données/datas_mots/merci-11.mp4', 'données/datas_mots/merci-12.mp4', 'données/datas_mots/merci-13.mp4', 'données/datas_mots/merci-14.mp4', 'données/datas_mots/merci-15.mp4', 'données/datas_mots/merci-16.mp4', 'données/datas_mots/merci-17.mp4', 'données/datas_mots/merci-18.mp4', 'données/datas_mots/merci-19.mp4'], ['données/datas_mots/mourir_mort-00.mp4', 'données/datas_mots/mourir_mort-01.mp4', 'données/datas_mots/mourir_mort-02.mp4', 'données/datas_mots/mourir_mort-03.mp4', 'données/datas_mots/mourir_mort-04.mp4', 'données/datas_mots/mourir_mort-05.mp4', 'données/datas_mots/mourir_mort-06.mp4', 'données/datas_mots/mourir_mort-07.mp4', 'données/datas_mots/mourir_mort-08.mp4', 'données/datas_mots/mourir_mort-09.mp4', 'données/datas_mots/mourir_mort-10.mp4', 'données/datas_mots/mourir_mort-11.mp4', 'données/datas_mots/mourir_mort-12.mp4', 'données/datas_mots/mourir_mort-13.mp4', 'données/datas_mots/mourir_mort-14.mp4', 'données/datas_mots/mourir_mort-15.mp4', 'données/datas_mots/mourir_mort-16.mp4', 'données/datas_mots/mourir_mort-17.mp4', 'données/datas_mots/mourir_mort-18.mp4', 'données/datas_mots/mourir_mort-19.mp4'], ['données/datas_mots/nous_on-00.mp4', 'données/datas_mots/nous_on-01.mp4', 'données/datas_mots/nous_on-02.mp4', 'données/datas_mots/nous_on-03.mp4', 'données/datas_mots/nous_on-04.mp4', 'données/datas_mots/nous_on-05.mp4', 'données/datas_mots/nous_on-06.mp4', 'données/datas_mots/nous_on-07.mp4', 'données/datas_mots/nous_on-08.mp4', 'données/datas_mots/nous_on-09.mp4', 'données/datas_mots/nous_on-10.mp4', 'données/datas_mots/nous_on-11.mp4', 'données/datas_mots/nous_on-12.mp4', 'données/datas_mots/nous_on-13.mp4', 'données/datas_mots/nous_on-14.mp4', 'données/datas_mots/nous_on-15.mp4', 'données/datas_mots/nous_on-16.mp4', 'données/datas_mots/nous_on-17.mp4', 'données/datas_mots/nous_on-18.mp4', 'données/datas_mots/nous_on-19.mp4'], ['données/datas_mots/nuit-00.mp4', 'données/datas_mots/nuit-01.mp4', 'données/datas_mots/nuit-02.mp4', 'données/datas_mots/nuit-03.mp4', 'données/datas_mots/nuit-04.mp4', 'données/datas_mots/nuit-05.mp4', 'données/datas_mots/nuit-06.mp4', 'données/datas_mots/nuit-07.mp4', 'données/datas_mots/nuit-08.mp4', 'données/datas_mots/nuit-09.mp4', 'données/datas_mots/nuit-10.mp4', 'données/datas_mots/nuit-11.mp4', 'données/datas_mots/nuit-12.mp4', 'données/datas_mots/nuit-13.mp4', 'données/datas_mots/nuit-14.mp4', 'données/datas_mots/nuit-15.mp4', 'données/datas_mots/nuit-16.mp4', 'données/datas_mots/nuit-17.mp4', 'données/datas_mots/nuit-18.mp4', 'données/datas_mots/nuit-19.mp4'], ['données/datas_mots/ou-00.mp4', 'données/datas_mots/ou-01.mp4', 'données/datas_mots/ou-02.mp4', 'données/datas_mots/ou-03.mp4', 'données/datas_mots/ou-04.mp4', 'données/datas_mots/ou-05.mp4', 'données/datas_mots/ou-06.mp4', 'données/datas_mots/ou-07.mp4', 'données/datas_mots/ou-08.mp4', 'données/datas_mots/ou-09.mp4', 'données/datas_mots/ou-10.mp4', 'données/datas_mots/ou-11.mp4', 'données/datas_mots/ou-12.mp4', 'données/datas_mots/ou-13.mp4', 'données/datas_mots/ou-14.mp4', 'données/datas_mots/ou-15.mp4', 'données/datas_mots/ou-16.mp4', 'données/datas_mots/ou-17.mp4', 'données/datas_mots/ou-18.mp4', 'données/datas_mots/ou-19.mp4'], ['données/datas_mots/payer-00.mp4', 'données/datas_mots/payer-01.mp4', 'données/datas_mots/payer-02.mp4', 'données/datas_mots/payer-03.mp4', 'données/datas_mots/payer-04.mp4', 'données/datas_mots/payer-05.mp4', 'données/datas_mots/payer-06.mp4', 'données/datas_mots/payer-07.mp4', 'données/datas_mots/payer-08.mp4', 'données/datas_mots/payer-09.mp4', 'données/datas_mots/payer-10.mp4', 'données/datas_mots/payer-11.mp4', 'données/datas_mots/payer-12.mp4', 'données/datas_mots/payer-13.mp4', 'données/datas_mots/payer-14.mp4', 'données/datas_mots/payer-15.mp4', 'données/datas_mots/payer-16.mp4', 'données/datas_mots/payer-17.mp4', 'données/datas_mots/payer-18.mp4', 'données/datas_mots/payer-19.mp4'], ['données/datas_mots/penser-00.mp4', 'données/datas_mots/penser-01.mp4', 'données/datas_mots/penser-02.mp4', 'données/datas_mots/penser-03.mp4', 'données/datas_mots/penser-04.mp4', 'données/datas_mots/penser-05.mp4', 'données/datas_mots/penser-06.mp4', 'données/datas_mots/penser-07.mp4', 'données/datas_mots/penser-08.mp4', 'données/datas_mots/penser-09.mp4', 'données/datas_mots/penser-10.mp4', 'données/datas_mots/penser-11.mp4', 'données/datas_mots/penser-12.mp4', 'données/datas_mots/penser-13.mp4', 'données/datas_mots/penser-14.mp4', 'données/datas_mots/penser-15.mp4', 'données/datas_mots/penser-16.mp4', 'données/datas_mots/penser-17.mp4', 'données/datas_mots/penser-18.mp4', 'données/datas_mots/penser-19.mp4'], ['données/datas_mots/personne-00.mp4', 'données/datas_mots/personne-01.mp4', 'données/datas_mots/personne-02.mp4', 'données/datas_mots/personne-03.mp4', 'données/datas_mots/personne-04.mp4', 'données/datas_mots/personne-05.mp4', 'données/datas_mots/personne-06.mp4', 'données/datas_mots/personne-07.mp4', 'données/datas_mots/personne-08.mp4', 'données/datas_mots/personne-09.mp4', 'données/datas_mots/personne-10.mp4', 'données/datas_mots/personne-11.mp4', 'données/datas_mots/personne-12.mp4', 'données/datas_mots/personne-13.mp4', 'données/datas_mots/personne-14.mp4', 'données/datas_mots/personne-15.mp4', 'données/datas_mots/personne-16.mp4', 'données/datas_mots/personne-17.mp4', 'données/datas_mots/personne-18.mp4', 'données/datas_mots/personne-19.mp4'], ['données/datas_mots/peu-00.mp4', 'données/datas_mots/peu-01.mp4', 'données/datas_mots/peu-02.mp4', 'données/datas_mots/peu-03.mp4', 'données/datas_mots/peu-04.mp4', 'données/datas_mots/peu-05.mp4', 'données/datas_mots/peu-06.mp4', 'données/datas_mots/peu-07.mp4', 'données/datas_mots/peu-08.mp4', 'données/datas_mots/peu-09.mp4', 'données/datas_mots/peu-10.mp4', 'données/datas_mots/peu-11.mp4', 'données/datas_mots/peu-12.mp4', 'données/datas_mots/peu-13.mp4', 'données/datas_mots/peu-14.mp4', 'données/datas_mots/peu-15.mp4', 'données/datas_mots/peu-16.mp4', 'données/datas_mots/peu-17.mp4', 'données/datas_mots/peu-18.mp4', 'données/datas_mots/peu-19.mp4'], ['données/datas_mots/pleuvoir_pluie-00.mp4', 'données/datas_mots/pleuvoir_pluie-01.mp4', 'données/datas_mots/pleuvoir_pluie-02.mp4', 'données/datas_mots/pleuvoir_pluie-03.mp4', 'données/datas_mots/pleuvoir_pluie-04.mp4', 'données/datas_mots/pleuvoir_pluie-05.mp4', 'données/datas_mots/pleuvoir_pluie-06.mp4', 'données/datas_mots/pleuvoir_pluie-07.mp4', 'données/datas_mots/pleuvoir_pluie-08.mp4', 'données/datas_mots/pleuvoir_pluie-09.mp4', 'données/datas_mots/pleuvoir_pluie-10.mp4', 'données/datas_mots/pleuvoir_pluie-11.mp4', 'données/datas_mots/pleuvoir_pluie-12.mp4', 'données/datas_mots/pleuvoir_pluie-13.mp4', 'données/datas_mots/pleuvoir_pluie-14.mp4', 'données/datas_mots/pleuvoir_pluie-15.mp4', 'données/datas_mots/pleuvoir_pluie-16.mp4', 'données/datas_mots/pleuvoir_pluie-17.mp4', 'données/datas_mots/pleuvoir_pluie-18.mp4', 'données/datas_mots/pleuvoir_pluie-19.mp4'], ['données/datas_mots/portugal-00.mp4', 'données/datas_mots/portugal-01.mp4', 'données/datas_mots/portugal-02.mp4', 'données/datas_mots/portugal-03.mp4', 'données/datas_mots/portugal-04.mp4', 'données/datas_mots/portugal-05.mp4', 'données/datas_mots/portugal-06.mp4', 'données/datas_mots/portugal-07.mp4', 'données/datas_mots/portugal-08.mp4', 'données/datas_mots/portugal-09.mp4', 'données/datas_mots/portugal-10.mp4', 'données/datas_mots/portugal-11.mp4', 'données/datas_mots/portugal-12.mp4', 'données/datas_mots/portugal-13.mp4', 'données/datas_mots/portugal-14.mp4', 'données/datas_mots/portugal-15.mp4', 'données/datas_mots/portugal-16.mp4', 'données/datas_mots/portugal-17.mp4', 'données/datas_mots/portugal-18.mp4', 'données/datas_mots/portugal-19.mp4'], ['données/datas_mots/pour-00.mp4', 'données/datas_mots/pour-01.mp4', 'données/datas_mots/pour-02.mp4', 'données/datas_mots/pour-03.mp4', 'données/datas_mots/pour-04.mp4', 'données/datas_mots/pour-05.mp4', 'données/datas_mots/pour-06.mp4', 'données/datas_mots/pour-07.mp4', 'données/datas_mots/pour-08.mp4', 'données/datas_mots/pour-09.mp4', 'données/datas_mots/pour-10.mp4', 'données/datas_mots/pour-11.mp4', 'données/datas_mots/pour-12.mp4', 'données/datas_mots/pour-13.mp4', 'données/datas_mots/pour-14.mp4', 'données/datas_mots/pour-15.mp4', 'données/datas_mots/pour-16.mp4', 'données/datas_mots/pour-17.mp4', 'données/datas_mots/pour-18.mp4', 'données/datas_mots/pour-19.mp4'], ['données/datas_mots/prendre-00.mp4', 'données/datas_mots/prendre-01.mp4', 'données/datas_mots/prendre-02.mp4', 'données/datas_mots/prendre-03.mp4', 'données/datas_mots/prendre-04.mp4', 'données/datas_mots/prendre-05.mp4', 'données/datas_mots/prendre-06.mp4', 'données/datas_mots/prendre-07.mp4', 'données/datas_mots/prendre-08.mp4', 'données/datas_mots/prendre-09.mp4', 'données/datas_mots/prendre-10.mp4', 'données/datas_mots/prendre-11.mp4', 'données/datas_mots/prendre-12.mp4', 'données/datas_mots/prendre-13.mp4', 'données/datas_mots/prendre-14.mp4', 'données/datas_mots/prendre-15.mp4', 'données/datas_mots/prendre-16.mp4', 'données/datas_mots/prendre-17.mp4', 'données/datas_mots/prendre-18.mp4', 'données/datas_mots/prendre-19.mp4'], ['données/datas_mots/question-00.mp4', 'données/datas_mots/question-01.mp4', 'données/datas_mots/question-02.mp4', 'données/datas_mots/question-03.mp4', 'données/datas_mots/question-04.mp4', 'données/datas_mots/question-05.mp4', 'données/datas_mots/question-06.mp4', 'données/datas_mots/question-07.mp4', 'données/datas_mots/question-08.mp4', 'données/datas_mots/question-09.mp4', 'données/datas_mots/question-10.mp4', 'données/datas_mots/question-11.mp4', 'données/datas_mots/question-12.mp4', 'données/datas_mots/question-13.mp4', 'données/datas_mots/question-14.mp4', 'données/datas_mots/question-15.mp4', 'données/datas_mots/question-16.mp4', 'données/datas_mots/question-17.mp4', 'données/datas_mots/question-18.mp4', 'données/datas_mots/question-19.mp4'], ['données/datas_mots/quoi-00.mp4', 'données/datas_mots/quoi-01.mp4', 'données/datas_mots/quoi-02.mp4', 'données/datas_mots/quoi-03.mp4', 'données/datas_mots/quoi-04.mp4', 'données/datas_mots/quoi-05.mp4', 'données/datas_mots/quoi-06.mp4', 'données/datas_mots/quoi-07.mp4', 'données/datas_mots/quoi-08.mp4', 'données/datas_mots/quoi-09.mp4', 'données/datas_mots/quoi-10.mp4', 'données/datas_mots/quoi-11.mp4', 'données/datas_mots/quoi-12.mp4', 'données/datas_mots/quoi-13.mp4', 'données/datas_mots/quoi-14.mp4', 'données/datas_mots/quoi-15.mp4', 'données/datas_mots/quoi-16.mp4', 'données/datas_mots/quoi-17.mp4', 'données/datas_mots/quoi-18.mp4', 'données/datas_mots/quoi-19.mp4'], ['données/datas_mots/raison_connaissance-00.mp4', 'données/datas_mots/raison_connaissance-01.mp4', 'données/datas_mots/raison_connaissance-02.mp4', 'données/datas_mots/raison_connaissance-03.mp4', 'données/datas_mots/raison_connaissance-04.mp4', 'données/datas_mots/raison_connaissance-05.mp4', 'données/datas_mots/raison_connaissance-06.mp4', 'données/datas_mots/raison_connaissance-07.mp4', 'données/datas_mots/raison_connaissance-08.mp4', 'données/datas_mots/raison_connaissance-09.mp4', 'données/datas_mots/raison_connaissance-10.mp4', 'données/datas_mots/raison_connaissance-11.mp4', 'données/datas_mots/raison_connaissance-12.mp4', 'données/datas_mots/raison_connaissance-13.mp4', 'données/datas_mots/raison_connaissance-14.mp4', 'données/datas_mots/raison_connaissance-15.mp4', 'données/datas_mots/raison_connaissance-16.mp4', 'données/datas_mots/raison_connaissance-17.mp4', 'données/datas_mots/raison_connaissance-18.mp4', 'données/datas_mots/raison_connaissance-19.mp4'], ['données/datas_mots/rencontrer_rencontre-00.mp4', 'données/datas_mots/rencontrer_rencontre-01.mp4', 'données/datas_mots/rencontrer_rencontre-02.mp4', 'données/datas_mots/rencontrer_rencontre-03.mp4', 'données/datas_mots/rencontrer_rencontre-04.mp4', 'données/datas_mots/rencontrer_rencontre-05.mp4', 'données/datas_mots/rencontrer_rencontre-06.mp4', 'données/datas_mots/rencontrer_rencontre-07.mp4', 'données/datas_mots/rencontrer_rencontre-08.mp4', 'données/datas_mots/rencontrer_rencontre-09.mp4', 'données/datas_mots/rencontrer_rencontre-10.mp4', 'données/datas_mots/rencontrer_rencontre-11.mp4', 'données/datas_mots/rencontrer_rencontre-12.mp4', 'données/datas_mots/rencontrer_rencontre-13.mp4', 'données/datas_mots/rencontrer_rencontre-14.mp4', 'données/datas_mots/rencontrer_rencontre-15.mp4', 'données/datas_mots/rencontrer_rencontre-16.mp4', 'données/datas_mots/rencontrer_rencontre-17.mp4', 'données/datas_mots/rencontrer_rencontre-18.mp4', 'données/datas_mots/rencontrer_rencontre-19.mp4'], ['données/datas_mots/rester-00.mp4', 'données/datas_mots/rester-01.mp4', 'données/datas_mots/rester-02.mp4', 'données/datas_mots/rester-03.mp4', 'données/datas_mots/rester-04.mp4', 'données/datas_mots/rester-05.mp4', 'données/datas_mots/rester-06.mp4', 'données/datas_mots/rester-07.mp4', 'données/datas_mots/rester-08.mp4', 'données/datas_mots/rester-09.mp4', 'données/datas_mots/rester-10.mp4', 'données/datas_mots/rester-11.mp4', 'données/datas_mots/rester-12.mp4', 'données/datas_mots/rester-13.mp4', 'données/datas_mots/rester-14.mp4', 'données/datas_mots/rester-15.mp4', 'données/datas_mots/rester-16.mp4', 'données/datas_mots/rester-17.mp4', 'données/datas_mots/rester-18.mp4', 'données/datas_mots/rester-19.mp4'], ['données/datas_mots/rien-00.mp4', 'données/datas_mots/rien-01.mp4', 'données/datas_mots/rien-02.mp4', 'données/datas_mots/rien-03.mp4', 'données/datas_mots/rien-04.mp4', 'données/datas_mots/rien-05.mp4', 'données/datas_mots/rien-06.mp4', 'données/datas_mots/rien-07.mp4', 'données/datas_mots/rien-08.mp4', 'données/datas_mots/rien-09.mp4', 'données/datas_mots/rien-10.mp4', 'données/datas_mots/rien-11.mp4', 'données/datas_mots/rien-12.mp4', 'données/datas_mots/rien-13.mp4', 'données/datas_mots/rien-14.mp4', 'données/datas_mots/rien-15.mp4', 'données/datas_mots/rien-16.mp4', 'données/datas_mots/rien-17.mp4', 'données/datas_mots/rien-18.mp4', 'données/datas_mots/rien-19.mp4'], ['données/datas_mots/rue_route-00.mp4', 'données/datas_mots/rue_route-01.mp4', 'données/datas_mots/rue_route-02.mp4', 'données/datas_mots/rue_route-03.mp4', 'données/datas_mots/rue_route-04.mp4', 'données/datas_mots/rue_route-05.mp4', 'données/datas_mots/rue_route-06.mp4', 'données/datas_mots/rue_route-07.mp4', 'données/datas_mots/rue_route-08.mp4', 'données/datas_mots/rue_route-09.mp4', 'données/datas_mots/rue_route-10.mp4', 'données/datas_mots/rue_route-11.mp4', 'données/datas_mots/rue_route-12.mp4', 'données/datas_mots/rue_route-13.mp4', 'données/datas_mots/rue_route-14.mp4', 'données/datas_mots/rue_route-15.mp4', 'données/datas_mots/rue_route-16.mp4', 'données/datas_mots/rue_route-17.mp4', 'données/datas_mots/rue_route-18.mp4', 'données/datas_mots/rue_route-19.mp4'], ['données/datas_mots/sac-00.mp4', 'données/datas_mots/sac-01.mp4', 'données/datas_mots/sac-02.mp4', 'données/datas_mots/sac-03.mp4', 'données/datas_mots/sac-04.mp4', 'données/datas_mots/sac-05.mp4', 'données/datas_mots/sac-06.mp4', 'données/datas_mots/sac-07.mp4', 'données/datas_mots/sac-08.mp4', 'données/datas_mots/sac-09.mp4', 'données/datas_mots/sac-10.mp4', 'données/datas_mots/sac-11.mp4', 'données/datas_mots/sac-12.mp4', 'données/datas_mots/sac-13.mp4', 'données/datas_mots/sac-14.mp4', 'données/datas_mots/sac-15.mp4', 'données/datas_mots/sac-16.mp4', 'données/datas_mots/sac-17.mp4', 'données/datas_mots/sac-18.mp4', 'données/datas_mots/sac-19.mp4'], ['données/datas_mots/soeur_nonne-00.mp4', 'données/datas_mots/soeur_nonne-01.mp4', 'données/datas_mots/soeur_nonne-02.mp4', 'données/datas_mots/soeur_nonne-03.mp4', 'données/datas_mots/soeur_nonne-04.mp4', 'données/datas_mots/soeur_nonne-05.mp4', 'données/datas_mots/soeur_nonne-06.mp4', 'données/datas_mots/soeur_nonne-07.mp4', 'données/datas_mots/soeur_nonne-08.mp4', 'données/datas_mots/soeur_nonne-09.mp4', 'données/datas_mots/soeur_nonne-10.mp4', 'données/datas_mots/soeur_nonne-11.mp4', 'données/datas_mots/soeur_nonne-12.mp4', 'données/datas_mots/soeur_nonne-13.mp4', 'données/datas_mots/soeur_nonne-14.mp4', 'données/datas_mots/soeur_nonne-15.mp4', 'données/datas_mots/soeur_nonne-16.mp4', 'données/datas_mots/soeur_nonne-17.mp4', 'données/datas_mots/soeur_nonne-18.mp4', 'données/datas_mots/soeur_nonne-19.mp4'], ['données/datas_mots/soleil-00.mp4', 'données/datas_mots/soleil-01.mp4', 'données/datas_mots/soleil-02.mp4', 'données/datas_mots/soleil-03.mp4', 'données/datas_mots/soleil-04.mp4', 'données/datas_mots/soleil-05.mp4', 'données/datas_mots/soleil-06.mp4', 'données/datas_mots/soleil-07.mp4', 'données/datas_mots/soleil-08.mp4', 'données/datas_mots/soleil-09.mp4', 'données/datas_mots/soleil-10.mp4', 'données/datas_mots/soleil-11.mp4', 'données/datas_mots/soleil-12.mp4', 'données/datas_mots/soleil-13.mp4', 'données/datas_mots/soleil-14.mp4', 'données/datas_mots/soleil-15.mp4', 'données/datas_mots/soleil-16.mp4', 'données/datas_mots/soleil-17.mp4', 'données/datas_mots/soleil-18.mp4', 'données/datas_mots/soleil-19.mp4'], ['données/datas_mots/surprendre_surprise-00.mp4', 'données/datas_mots/surprendre_surprise-01.mp4', 'données/datas_mots/surprendre_surprise-02.mp4', 'données/datas_mots/surprendre_surprise-03.mp4', 'données/datas_mots/surprendre_surprise-04.mp4', 'données/datas_mots/surprendre_surprise-05.mp4', 'données/datas_mots/surprendre_surprise-06.mp4', 'données/datas_mots/surprendre_surprise-07.mp4', 'données/datas_mots/surprendre_surprise-08.mp4', 'données/datas_mots/surprendre_surprise-09.mp4', 'données/datas_mots/surprendre_surprise-10.mp4', 'données/datas_mots/surprendre_surprise-11.mp4', 'données/datas_mots/surprendre_surprise-12.mp4', 'données/datas_mots/surprendre_surprise-13.mp4', 'données/datas_mots/surprendre_surprise-14.mp4', 'données/datas_mots/surprendre_surprise-15.mp4', 'données/datas_mots/surprendre_surprise-16.mp4', 'données/datas_mots/surprendre_surprise-17.mp4', 'données/datas_mots/surprendre_surprise-18.mp4', 'données/datas_mots/surprendre_surprise-19.mp4'], ['données/datas_mots/temps-00.mp4', 'données/datas_mots/temps-01.mp4', 'données/datas_mots/temps-02.mp4', 'données/datas_mots/temps-03.mp4', 'données/datas_mots/temps-04.mp4', 'données/datas_mots/temps-05.mp4', 'données/datas_mots/temps-06.mp4', 'données/datas_mots/temps-07.mp4', 'données/datas_mots/temps-08.mp4', 'données/datas_mots/temps-09.mp4', 'données/datas_mots/temps-10.mp4', 'données/datas_mots/temps-11.mp4', 'données/datas_mots/temps-12.mp4', 'données/datas_mots/temps-13.mp4', 'données/datas_mots/temps-14.mp4', 'données/datas_mots/temps-15.mp4', 'données/datas_mots/temps-16.mp4', 'données/datas_mots/temps-17.mp4', 'données/datas_mots/temps-18.mp4', 'données/datas_mots/temps-19.mp4'], ['données/datas_mots/toujours-00.mp4', 'données/datas_mots/toujours-01.mp4', 'données/datas_mots/toujours-02.mp4', 'données/datas_mots/toujours-03.mp4', 'données/datas_mots/toujours-04.mp4', 'données/datas_mots/toujours-05.mp4', 'données/datas_mots/toujours-06.mp4', 'données/datas_mots/toujours-07.mp4', 'données/datas_mots/toujours-08.mp4', 'données/datas_mots/toujours-09.mp4', 'données/datas_mots/toujours-10.mp4', 'données/datas_mots/toujours-11.mp4', 'données/datas_mots/toujours-12.mp4', 'données/datas_mots/toujours-13.mp4', 'données/datas_mots/toujours-14.mp4', 'données/datas_mots/toujours-15.mp4', 'données/datas_mots/toujours-16.mp4', 'données/datas_mots/toujours-17.mp4', 'données/datas_mots/toujours-18.mp4', 'données/datas_mots/toujours-19.mp4'], ['données/datas_mots/travail-00.mp4', 'données/datas_mots/travail-01.mp4', 'données/datas_mots/travail-02.mp4', 'données/datas_mots/travail-03.mp4', 'données/datas_mots/travail-04.mp4', 'données/datas_mots/travail-05.mp4', 'données/datas_mots/travail-06.mp4', 'données/datas_mots/travail-07.mp4', 'données/datas_mots/travail-08.mp4', 'données/datas_mots/travail-09.mp4', 'données/datas_mots/travail-10.mp4', 'données/datas_mots/travail-11.mp4', 'données/datas_mots/travail-12.mp4', 'données/datas_mots/travail-13.mp4', 'données/datas_mots/travail-14.mp4', 'données/datas_mots/travail-15.mp4', 'données/datas_mots/travail-16.mp4', 'données/datas_mots/travail-17.mp4', 'données/datas_mots/travail-18.mp4', 'données/datas_mots/travail-19.mp4'], ['données/datas_mots/trop-00.mp4', 'données/datas_mots/trop-01.mp4', 'données/datas_mots/trop-02.mp4', 'données/datas_mots/trop-03.mp4', 'données/datas_mots/trop-04.mp4', 'données/datas_mots/trop-05.mp4', 'données/datas_mots/trop-06.mp4', 'données/datas_mots/trop-07.mp4', 'données/datas_mots/trop-08.mp4', 'données/datas_mots/trop-09.mp4', 'données/datas_mots/trop-10.mp4', 'données/datas_mots/trop-11.mp4', 'données/datas_mots/trop-12.mp4', 'données/datas_mots/trop-13.mp4', 'données/datas_mots/trop-14.mp4', 'données/datas_mots/trop-15.mp4', 'données/datas_mots/trop-16.mp4', 'données/datas_mots/trop-17.mp4', 'données/datas_mots/trop-18.mp4', 'données/datas_mots/trop-19.mp4'], ['données/datas_mots/trouver-00.mp4', 'données/datas_mots/trouver-01.mp4', 'données/datas_mots/trouver-02.mp4', 'données/datas_mots/trouver-03.mp4', 'données/datas_mots/trouver-04.mp4', 'données/datas_mots/trouver-05.mp4', 'données/datas_mots/trouver-06.mp4', 'données/datas_mots/trouver-07.mp4', 'données/datas_mots/trouver-08.mp4', 'données/datas_mots/trouver-09.mp4', 'données/datas_mots/trouver-10.mp4', 'données/datas_mots/trouver-11.mp4', 'données/datas_mots/trouver-12.mp4', 'données/datas_mots/trouver-13.mp4', 'données/datas_mots/trouver-14.mp4', 'données/datas_mots/trouver-15.mp4', 'données/datas_mots/trouver-16.mp4', 'données/datas_mots/trouver-17.mp4', 'données/datas_mots/trouver-18.mp4', 'données/datas_mots/trouver-19.mp4']]\n"
     ]
    }
   ],
   "source": [
    "print(fichier)"
   ]
  },
  {
   "cell_type": "markdown",
   "metadata": {},
   "source": [
    "Pour avoir les paramètres dans le csv"
   ]
  },
  {
   "cell_type": "code",
   "execution_count": 24,
   "metadata": {},
   "outputs": [],
   "source": [
    "num_coords = 75 # nombre de points du corps + main gauche + main droite\n",
    "# for landmark in results.right_hand_landmarks.landmark:\n",
    "#     print(landmark, landmark.value)\n",
    "landmarks = ['class']\n",
    "for i in range (1,21): \n",
    "    for val in range(1, num_coords+1):\n",
    "        landmarks += ['x' + str (val) + '_' + str(i), 'y' + str (val) + '_' + str(i),\n",
    "                    'z' + str (val) + '_' + str(i), 'v' + str (val) + '_' + str(i)]\n",
    "with open('output/coords.csv', mode='w', newline='') as f:\n",
    "    csv_writer = csv.writer(\n",
    "        f, delimiter=',', quotechar='\"', quoting=csv.QUOTE_MINIMAL)\n",
    "    csv_writer.writerow(landmarks)"
   ]
  },
  {
   "cell_type": "markdown",
   "metadata": {},
   "source": [
    "Création des dossiers pour stocker les images"
   ]
  },
  {
   "cell_type": "code",
   "execution_count": 25,
   "metadata": {},
   "outputs": [],
   "source": [
    "for mot in mots: \n",
    "    for vid in range(nb_videos):\n",
    "        try: \n",
    "            os.makedirs(os.path.join(data_path, mot, str(vid)))\n",
    "        except:\n",
    "            pass"
   ]
  },
  {
   "cell_type": "markdown",
   "metadata": {},
   "source": [
    "# 3. Code"
   ]
  },
  {
   "cell_type": "markdown",
   "metadata": {},
   "source": [
    "Fonction intermédiaire pour plus tard calculer le framerate nécessaire à l'obtention du bon nombre de frames"
   ]
  },
  {
   "cell_type": "code",
   "execution_count": 26,
   "metadata": {},
   "outputs": [],
   "source": [
    "def duree_et_longueurCV(video):\n",
    "\n",
    "    duree = video.get(cv2.CAP_PROP_POS_MSEC)\n",
    "    longueur = video.get(cv2.CAP_PROP_FRAME_COUNT)\n",
    "\n",
    "    return duree, longueur\n",
    "    \n",
    "def dureeMPY(file):\n",
    "    clip = VideoFileClip(file)\n",
    "    return clip.duration"
   ]
  },
  {
   "cell_type": "markdown",
   "metadata": {},
   "source": [
    "Fonction pour stocker une image"
   ]
  },
  {
   "cell_type": "code",
   "execution_count": 27,
   "metadata": {},
   "outputs": [],
   "source": [
    "def getFrame(vidcap,sec,rang_video,count):\n",
    "            vidcap.set(cv2.CAP_PROP_POS_MSEC,sec*1000)\n",
    "            hasFrames,image = vidcap.read()\n",
    "            if hasFrames:\n",
    "                if count<10:\n",
    "                    numero = '0' + str(count)\n",
    "                else :\n",
    "                    numero = str(count)\n",
    "                cv2.imwrite(data_path+'/' + mot+'/'+str(rang_video)+'/image'+numero+\".jpg\", image)     # save frame as JPG file\n",
    "            return hasFrames"
   ]
  },
  {
   "cell_type": "markdown",
   "metadata": {},
   "source": [
    "Fonction pour trouver le bon framerate afin d'extraire le bon nombre d'images"
   ]
  },
  {
   "cell_type": "code",
   "execution_count": 28,
   "metadata": {},
   "outputs": [],
   "source": [
    "def load_video_and_find_framerate(fichier,nb_frame):\n",
    "    video = cv2.VideoCapture(f)\n",
    "    duree = dureeMPY(fichier)\n",
    "    fr=video.get(cv2.CAP_PROP_FPS)\n",
    "    if fr!=25:\n",
    "        video.set(cv2.CAP_PROP_FPS, 25)\n",
    "        duree = (25*duree)/fr\n",
    "        fr=25\n",
    "    framerate = (duree/fr)*(fr/nb_frame)\n",
    "    #print(fr,duree,framerate)\n",
    "    return video, framerate"
   ]
  },
  {
   "cell_type": "markdown",
   "metadata": {},
   "source": [
    "Code pour stocker automatiquement toutes les images des mots nous intéressants"
   ]
  },
  {
   "cell_type": "code",
   "execution_count": 29,
   "metadata": {},
   "outputs": [
    {
     "ename": "OSError",
     "evalue": "MoviePy error: failed to read the duration of file données/datas_mots/rester-16.mp4.\nHere are the file infos returned by ffmpeg:\n\nffmpeg version 4.2.2 Copyright (c) 2000-2019 the FFmpeg developers\r\n  built with gcc 9.2.1 (GCC) 20200122\r\n  configuration: --enable-gpl --enable-version3 --enable-sdl2 --enable-fontconfig --enable-gnutls --enable-iconv --enable-libass --enable-libdav1d --enable-libbluray --enable-libfreetype --enable-libmp3lame --enable-libopencore-amrnb --enable-libopencore-amrwb --enable-libopenjpeg --enable-libopus --enable-libshine --enable-libsnappy --enable-libsoxr --enable-libtheora --enable-libtwolame --enable-libvpx --enable-libwavpack --enable-libwebp --enable-libx264 --enable-libx265 --enable-libxml2 --enable-libzimg --enable-lzma --enable-zlib --enable-gmp --enable-libvidstab --enable-libvorbis --enable-libvo-amrwbenc --enable-libmysofa --enable-libspeex --enable-libxvid --enable-libaom --enable-libmfx --enable-amf --enable-ffnvcodec --enable-cuvid --enable-d3d11va --enable-nvenc --enable-nvdec --enable-dxva2 --enable-avisynth --enable-libopenmpt\r\n  libavutil      56. 31.100 / 56. 31.100\r\n  libavcodec     58. 54.100 / 58. 54.100\r\n  libavformat    58. 29.100 / 58. 29.100\r\n  libavdevice    58.  8.100 / 58.  8.100\r\n  libavfilter     7. 57.100 /  7. 57.100\r\n  libswscale      5.  5.100 /  5.  5.100\r\n  libswresample   3.  5.100 /  3.  5.100\r\n  libpostproc    55.  5.100 / 55.  5.100\r\n[mov,mp4,m4a,3gp,3g2,mj2 @ 000001a135659580] moov atom not found\r\ndonnées/datas_mots/rester-16.mp4: Invalid data found when processing input\r\n",
     "output_type": "error",
     "traceback": [
      "\u001b[1;31m---------------------------------------------------------------------------\u001b[0m",
      "\u001b[1;31mIndexError\u001b[0m                                Traceback (most recent call last)",
      "\u001b[1;32mc:\\PythonNn375\\Python37\\lib\\site-packages\\moviepy\\video\\io\\ffmpeg_reader.py\u001b[0m in \u001b[0;36mffmpeg_parse_infos\u001b[1;34m(filename, print_infos, check_duration, fps_source)\u001b[0m\n\u001b[0;32m    284\u001b[0m             \u001b[0mindex\u001b[0m \u001b[1;33m=\u001b[0m \u001b[1;33m-\u001b[0m\u001b[1;36m1\u001b[0m \u001b[1;32mif\u001b[0m \u001b[0mis_GIF\u001b[0m \u001b[1;32melse\u001b[0m \u001b[1;36m0\u001b[0m\u001b[1;33m\u001b[0m\u001b[1;33m\u001b[0m\u001b[0m\n\u001b[1;32m--> 285\u001b[1;33m             \u001b[0mline\u001b[0m \u001b[1;33m=\u001b[0m \u001b[1;33m[\u001b[0m\u001b[0ml\u001b[0m \u001b[1;32mfor\u001b[0m \u001b[0ml\u001b[0m \u001b[1;32min\u001b[0m \u001b[0mlines\u001b[0m \u001b[1;32mif\u001b[0m \u001b[0mkeyword\u001b[0m \u001b[1;32min\u001b[0m \u001b[0ml\u001b[0m\u001b[1;33m]\u001b[0m\u001b[1;33m[\u001b[0m\u001b[0mindex\u001b[0m\u001b[1;33m]\u001b[0m\u001b[1;33m\u001b[0m\u001b[1;33m\u001b[0m\u001b[0m\n\u001b[0m\u001b[0;32m    286\u001b[0m             \u001b[0mmatch\u001b[0m \u001b[1;33m=\u001b[0m \u001b[0mre\u001b[0m\u001b[1;33m.\u001b[0m\u001b[0mfindall\u001b[0m\u001b[1;33m(\u001b[0m\u001b[1;34m\"([0-9][0-9]:[0-9][0-9]:[0-9][0-9].[0-9][0-9])\"\u001b[0m\u001b[1;33m,\u001b[0m \u001b[0mline\u001b[0m\u001b[1;33m)\u001b[0m\u001b[1;33m[\u001b[0m\u001b[1;36m0\u001b[0m\u001b[1;33m]\u001b[0m\u001b[1;33m\u001b[0m\u001b[1;33m\u001b[0m\u001b[0m\n",
      "\u001b[1;31mIndexError\u001b[0m: list index out of range",
      "\nDuring handling of the above exception, another exception occurred:\n",
      "\u001b[1;31mOSError\u001b[0m                                   Traceback (most recent call last)",
      "\u001b[1;32m~\\AppData\\Local\\Temp/ipykernel_20472/728181224.py\u001b[0m in \u001b[0;36m<module>\u001b[1;34m\u001b[0m\n\u001b[0;32m      7\u001b[0m         \u001b[0msec\u001b[0m \u001b[1;33m=\u001b[0m \u001b[1;36m0\u001b[0m\u001b[1;33m\u001b[0m\u001b[1;33m\u001b[0m\u001b[0m\n\u001b[0;32m      8\u001b[0m         \u001b[0mcount\u001b[0m\u001b[1;33m=\u001b[0m\u001b[1;36m1\u001b[0m\u001b[1;33m\u001b[0m\u001b[1;33m\u001b[0m\u001b[0m\n\u001b[1;32m----> 9\u001b[1;33m         \u001b[0mvidcap\u001b[0m\u001b[1;33m,\u001b[0m \u001b[0mframerate\u001b[0m \u001b[1;33m=\u001b[0m \u001b[0mload_video_and_find_framerate\u001b[0m\u001b[1;33m(\u001b[0m\u001b[0mf\u001b[0m\u001b[1;33m,\u001b[0m\u001b[0mnb_frame\u001b[0m\u001b[1;33m)\u001b[0m\u001b[1;33m\u001b[0m\u001b[1;33m\u001b[0m\u001b[0m\n\u001b[0m\u001b[0;32m     10\u001b[0m         \u001b[0msuccess\u001b[0m \u001b[1;33m=\u001b[0m \u001b[0mgetFrame\u001b[0m\u001b[1;33m(\u001b[0m\u001b[0mvidcap\u001b[0m\u001b[1;33m,\u001b[0m\u001b[0msec\u001b[0m\u001b[1;33m,\u001b[0m\u001b[0mrang_video\u001b[0m\u001b[1;33m,\u001b[0m\u001b[0mcount\u001b[0m\u001b[1;33m)\u001b[0m\u001b[1;33m\u001b[0m\u001b[1;33m\u001b[0m\u001b[0m\n\u001b[0;32m     11\u001b[0m         \u001b[1;32mwhile\u001b[0m \u001b[0msuccess\u001b[0m\u001b[1;33m:\u001b[0m\u001b[1;33m\u001b[0m\u001b[1;33m\u001b[0m\u001b[0m\n",
      "\u001b[1;32m~\\AppData\\Local\\Temp/ipykernel_20472/47365190.py\u001b[0m in \u001b[0;36mload_video_and_find_framerate\u001b[1;34m(fichier, nb_frame)\u001b[0m\n\u001b[0;32m      1\u001b[0m \u001b[1;32mdef\u001b[0m \u001b[0mload_video_and_find_framerate\u001b[0m\u001b[1;33m(\u001b[0m\u001b[0mfichier\u001b[0m\u001b[1;33m,\u001b[0m\u001b[0mnb_frame\u001b[0m\u001b[1;33m)\u001b[0m\u001b[1;33m:\u001b[0m\u001b[1;33m\u001b[0m\u001b[1;33m\u001b[0m\u001b[0m\n\u001b[0;32m      2\u001b[0m     \u001b[0mvideo\u001b[0m \u001b[1;33m=\u001b[0m \u001b[0mcv2\u001b[0m\u001b[1;33m.\u001b[0m\u001b[0mVideoCapture\u001b[0m\u001b[1;33m(\u001b[0m\u001b[0mf\u001b[0m\u001b[1;33m)\u001b[0m\u001b[1;33m\u001b[0m\u001b[1;33m\u001b[0m\u001b[0m\n\u001b[1;32m----> 3\u001b[1;33m     \u001b[0mduree\u001b[0m \u001b[1;33m=\u001b[0m \u001b[0mdureeMPY\u001b[0m\u001b[1;33m(\u001b[0m\u001b[0mfichier\u001b[0m\u001b[1;33m)\u001b[0m\u001b[1;33m\u001b[0m\u001b[1;33m\u001b[0m\u001b[0m\n\u001b[0m\u001b[0;32m      4\u001b[0m     \u001b[0mfr\u001b[0m\u001b[1;33m=\u001b[0m\u001b[0mvideo\u001b[0m\u001b[1;33m.\u001b[0m\u001b[0mget\u001b[0m\u001b[1;33m(\u001b[0m\u001b[0mcv2\u001b[0m\u001b[1;33m.\u001b[0m\u001b[0mCAP_PROP_FPS\u001b[0m\u001b[1;33m)\u001b[0m\u001b[1;33m\u001b[0m\u001b[1;33m\u001b[0m\u001b[0m\n\u001b[0;32m      5\u001b[0m     \u001b[1;32mif\u001b[0m \u001b[0mfr\u001b[0m\u001b[1;33m!=\u001b[0m\u001b[1;36m25\u001b[0m\u001b[1;33m:\u001b[0m\u001b[1;33m\u001b[0m\u001b[1;33m\u001b[0m\u001b[0m\n",
      "\u001b[1;32m~\\AppData\\Local\\Temp/ipykernel_20472/3700401545.py\u001b[0m in \u001b[0;36mdureeMPY\u001b[1;34m(file)\u001b[0m\n\u001b[0;32m      7\u001b[0m \u001b[1;33m\u001b[0m\u001b[0m\n\u001b[0;32m      8\u001b[0m \u001b[1;32mdef\u001b[0m \u001b[0mdureeMPY\u001b[0m\u001b[1;33m(\u001b[0m\u001b[0mfile\u001b[0m\u001b[1;33m)\u001b[0m\u001b[1;33m:\u001b[0m\u001b[1;33m\u001b[0m\u001b[1;33m\u001b[0m\u001b[0m\n\u001b[1;32m----> 9\u001b[1;33m     \u001b[0mclip\u001b[0m \u001b[1;33m=\u001b[0m \u001b[0mVideoFileClip\u001b[0m\u001b[1;33m(\u001b[0m\u001b[0mfile\u001b[0m\u001b[1;33m)\u001b[0m\u001b[1;33m\u001b[0m\u001b[1;33m\u001b[0m\u001b[0m\n\u001b[0m\u001b[0;32m     10\u001b[0m     \u001b[1;32mreturn\u001b[0m \u001b[0mclip\u001b[0m\u001b[1;33m.\u001b[0m\u001b[0mduration\u001b[0m\u001b[1;33m\u001b[0m\u001b[1;33m\u001b[0m\u001b[0m\n",
      "\u001b[1;32mc:\\PythonNn375\\Python37\\lib\\site-packages\\moviepy\\video\\io\\VideoFileClip.py\u001b[0m in \u001b[0;36m__init__\u001b[1;34m(self, filename, has_mask, audio, audio_buffersize, target_resolution, resize_algorithm, audio_fps, audio_nbytes, verbose, fps_source)\u001b[0m\n\u001b[0;32m     89\u001b[0m                                          \u001b[0mtarget_resolution\u001b[0m\u001b[1;33m=\u001b[0m\u001b[0mtarget_resolution\u001b[0m\u001b[1;33m,\u001b[0m\u001b[1;33m\u001b[0m\u001b[1;33m\u001b[0m\u001b[0m\n\u001b[0;32m     90\u001b[0m                                          \u001b[0mresize_algo\u001b[0m\u001b[1;33m=\u001b[0m\u001b[0mresize_algorithm\u001b[0m\u001b[1;33m,\u001b[0m\u001b[1;33m\u001b[0m\u001b[1;33m\u001b[0m\u001b[0m\n\u001b[1;32m---> 91\u001b[1;33m                                          fps_source=fps_source)\n\u001b[0m\u001b[0;32m     92\u001b[0m \u001b[1;33m\u001b[0m\u001b[0m\n\u001b[0;32m     93\u001b[0m         \u001b[1;31m# Make some of the reader's attributes accessible from the clip\u001b[0m\u001b[1;33m\u001b[0m\u001b[1;33m\u001b[0m\u001b[1;33m\u001b[0m\u001b[0m\n",
      "\u001b[1;32mc:\\PythonNn375\\Python37\\lib\\site-packages\\moviepy\\video\\io\\ffmpeg_reader.py\u001b[0m in \u001b[0;36m__init__\u001b[1;34m(self, filename, print_infos, bufsize, pix_fmt, check_duration, target_resolution, resize_algo, fps_source)\u001b[0m\n\u001b[0;32m     34\u001b[0m         \u001b[0mself\u001b[0m\u001b[1;33m.\u001b[0m\u001b[0mproc\u001b[0m \u001b[1;33m=\u001b[0m \u001b[1;32mNone\u001b[0m\u001b[1;33m\u001b[0m\u001b[1;33m\u001b[0m\u001b[0m\n\u001b[0;32m     35\u001b[0m         infos = ffmpeg_parse_infos(filename, print_infos, check_duration,\n\u001b[1;32m---> 36\u001b[1;33m                                    fps_source)\n\u001b[0m\u001b[0;32m     37\u001b[0m         \u001b[0mself\u001b[0m\u001b[1;33m.\u001b[0m\u001b[0mfps\u001b[0m \u001b[1;33m=\u001b[0m \u001b[0minfos\u001b[0m\u001b[1;33m[\u001b[0m\u001b[1;34m'video_fps'\u001b[0m\u001b[1;33m]\u001b[0m\u001b[1;33m\u001b[0m\u001b[1;33m\u001b[0m\u001b[0m\n\u001b[0;32m     38\u001b[0m         \u001b[0mself\u001b[0m\u001b[1;33m.\u001b[0m\u001b[0msize\u001b[0m \u001b[1;33m=\u001b[0m \u001b[0minfos\u001b[0m\u001b[1;33m[\u001b[0m\u001b[1;34m'video_size'\u001b[0m\u001b[1;33m]\u001b[0m\u001b[1;33m\u001b[0m\u001b[1;33m\u001b[0m\u001b[0m\n",
      "\u001b[1;32mc:\\PythonNn375\\Python37\\lib\\site-packages\\moviepy\\video\\io\\ffmpeg_reader.py\u001b[0m in \u001b[0;36mffmpeg_parse_infos\u001b[1;34m(filename, print_infos, check_duration, fps_source)\u001b[0m\n\u001b[0;32m    289\u001b[0m             raise IOError((\"MoviePy error: failed to read the duration of file %s.\\n\"\n\u001b[0;32m    290\u001b[0m                            \u001b[1;34m\"Here are the file infos returned by ffmpeg:\\n\\n%s\"\u001b[0m\u001b[1;33m)\u001b[0m\u001b[1;33m%\u001b[0m\u001b[1;33m(\u001b[0m\u001b[1;33m\u001b[0m\u001b[1;33m\u001b[0m\u001b[0m\n\u001b[1;32m--> 291\u001b[1;33m                               filename, infos))\n\u001b[0m\u001b[0;32m    292\u001b[0m \u001b[1;33m\u001b[0m\u001b[0m\n\u001b[0;32m    293\u001b[0m     \u001b[1;31m# get the output line that speaks about video\u001b[0m\u001b[1;33m\u001b[0m\u001b[1;33m\u001b[0m\u001b[1;33m\u001b[0m\u001b[0m\n",
      "\u001b[1;31mOSError\u001b[0m: MoviePy error: failed to read the duration of file données/datas_mots/rester-16.mp4.\nHere are the file infos returned by ffmpeg:\n\nffmpeg version 4.2.2 Copyright (c) 2000-2019 the FFmpeg developers\r\n  built with gcc 9.2.1 (GCC) 20200122\r\n  configuration: --enable-gpl --enable-version3 --enable-sdl2 --enable-fontconfig --enable-gnutls --enable-iconv --enable-libass --enable-libdav1d --enable-libbluray --enable-libfreetype --enable-libmp3lame --enable-libopencore-amrnb --enable-libopencore-amrwb --enable-libopenjpeg --enable-libopus --enable-libshine --enable-libsnappy --enable-libsoxr --enable-libtheora --enable-libtwolame --enable-libvpx --enable-libwavpack --enable-libwebp --enable-libx264 --enable-libx265 --enable-libxml2 --enable-libzimg --enable-lzma --enable-zlib --enable-gmp --enable-libvidstab --enable-libvorbis --enable-libvo-amrwbenc --enable-libmysofa --enable-libspeex --enable-libxvid --enable-libaom --enable-libmfx --enable-amf --enable-ffnvcodec --enable-cuvid --enable-d3d11va --enable-nvenc --enable-nvdec --enable-dxva2 --enable-avisynth --enable-libopenmpt\r\n  libavutil      56. 31.100 / 56. 31.100\r\n  libavcodec     58. 54.100 / 58. 54.100\r\n  libavformat    58. 29.100 / 58. 29.100\r\n  libavdevice    58.  8.100 / 58.  8.100\r\n  libavfilter     7. 57.100 /  7. 57.100\r\n  libswscale      5.  5.100 /  5.  5.100\r\n  libswresample   3.  5.100 /  3.  5.100\r\n  libpostproc    55.  5.100 / 55.  5.100\r\n[mov,mp4,m4a,3gp,3g2,mj2 @ 000001a135659580] moov atom not found\r\ndonnées/datas_mots/rester-16.mp4: Invalid data found when processing input\r\n"
     ]
    }
   ],
   "source": [
    "rang_mot=0\n",
    "for mot in mots:\n",
    "    #print(mot)\n",
    "    rang_video=0\n",
    "    for f in fichier[rang_mot]:\n",
    "        #print(f)\n",
    "        sec = 0\n",
    "        count=1\n",
    "        vidcap, framerate = load_video_and_find_framerate(f,nb_frame)\n",
    "        success = getFrame(vidcap,sec,rang_video,count)\n",
    "        while success:\n",
    "            count = count + 1\n",
    "            sec = sec + framerate\n",
    "            success = getFrame(vidcap,sec,rang_video,count)\n",
    "        #print(len(os.listdir(data_path+mot+'/'+str(rang_video)+'/')))\n",
    "        rang_video+=1\n",
    "    rang_mot+=1"
   ]
  },
  {
   "cell_type": "markdown",
   "metadata": {},
   "source": [
    "# Analyser les images"
   ]
  },
  {
   "cell_type": "markdown",
   "metadata": {},
   "source": [
    "### Préliminaires (mêmes fonctions que dans export_coord_v2)"
   ]
  },
  {
   "cell_type": "code",
   "execution_count": null,
   "metadata": {},
   "outputs": [],
   "source": [
    "def mediapipe_detection(image, model): #Fonction pour que mediapipe puisse détecter (car il ne travaille pas dans le même système de couleur que OpenCV)\n",
    "    image = cv2.cvtColor(image, cv2.COLOR_BGR2RGB) \n",
    "    image.flags.writeable = False                  \n",
    "    results = model.process(image)                 \n",
    "    image.flags.writeable = True                   \n",
    "    image = cv2.cvtColor(image, cv2.COLOR_RGB2BGR) \n",
    "    return image, results\n",
    "\n",
    "def draw_landmarks(image, results):\n",
    "    mp_drawing.draw_landmarks(image, results.face_landmarks, mp_holistic.FACEMESH_TESSELATION) # Draw face connections\n",
    "    mp_drawing.draw_landmarks(image, results.pose_landmarks, mp_holistic.POSE_CONNECTIONS) # Draw pose connections\n",
    "    mp_drawing.draw_landmarks(image, results.left_hand_landmarks, mp_holistic.HAND_CONNECTIONS) # Draw left hand connections\n",
    "    mp_drawing.draw_landmarks(image, results.right_hand_landmarks, mp_holistic.HAND_CONNECTIONS) # Draw right hand connections\n",
    "\n",
    "def draw_styled_landmarks(image, results):\n",
    "    # Draw face connections\n",
    "    mp_drawing.draw_landmarks(image, results.face_landmarks, mp_holistic.FACEMESH_TESSELATION, \n",
    "                             mp_drawing.DrawingSpec(color=(80,110,10), thickness=1, circle_radius=1), \n",
    "                             mp_drawing.DrawingSpec(color=(80,256,121), thickness=1, circle_radius=1)\n",
    "                             ) \n",
    "    # Draw pose connections\n",
    "    mp_drawing.draw_landmarks(image, results.pose_landmarks, mp_holistic.POSE_CONNECTIONS,\n",
    "                             mp_drawing.DrawingSpec(color=(80,22,10), thickness=2, circle_radius=4), \n",
    "                             mp_drawing.DrawingSpec(color=(80,44,121), thickness=2, circle_radius=2)\n",
    "                             ) \n",
    "    # Draw left hand connections\n",
    "    mp_drawing.draw_landmarks(image, results.left_hand_landmarks, mp_holistic.HAND_CONNECTIONS, \n",
    "                             mp_drawing.DrawingSpec(color=(121,22,76), thickness=2, circle_radius=4), \n",
    "                             mp_drawing.DrawingSpec(color=(121,44,250), thickness=2, circle_radius=2)\n",
    "                             ) \n",
    "    # Draw right hand connections  \n",
    "    mp_drawing.draw_landmarks(image, results.right_hand_landmarks, mp_holistic.HAND_CONNECTIONS, \n",
    "                             mp_drawing.DrawingSpec(color=(245,117,66), thickness=2, circle_radius=4), \n",
    "                             mp_drawing.DrawingSpec(color=(245,66,230), thickness=2, circle_radius=2)\n",
    "                             )\n",
    "                            \n",
    "def extract_keypoints(results):\n",
    "    pose = list(np.array([[res.x, res.y, res.z, res.visibility] for res in results.pose_landmarks.landmark]).flatten() if results.pose_landmarks else np.zeros(33*4))\n",
    "    #face = np.array([[res.x, res.y, res.z] for res in results.face_landmarks.landmark]).flatten() if results.face_landmarks else np.zeros(468*3)\n",
    "    lh = list(np.array([[res.x, res.y, res.z] for res in results.left_hand_landmarks.landmark]).flatten() if results.left_hand_landmarks else np.zeros(21*3))\n",
    "    rh = list(np.array([[res.x, res.y, res.z] for res in results.right_hand_landmarks.landmark]).flatten() if results.right_hand_landmarks else np.zeros(21*3))\n",
    "    #return np.concatenate([pose, face, lh, rh])\n",
    "    return (pose + lh + rh)\n",
    "\n",
    "def Image_normaliser(img):\n",
    "    mp_holistic = mp.solutions.holistic\n",
    "    with mp_holistic.Holistic(static_image_mode=True) as holistic:\n",
    "        results = holistic.process(img)\n",
    "        Right_hand_mark = np.array([[res.x, res.y, res.z]for res in results.right_hand_landmarks.landmark])if results.right_hand_landmarks else np.zeros((21,3))\n",
    "        Left_hand_mark = np.array([[res.x, res.y, res.z]for res in results.left_hand_landmarks.landmark]) if results.left_hand_landmarks else np.zeros((21,3))\n",
    "        pose = np.array([[res.x,res.y,res.z]for res in results.pose_landmarks.landmark]) if results.pose_landmarks else np.zeros((33,3))\n",
    "    \n",
    "        #on fait les calcule pour avoir les valeur des distance dans le monde pixel\n",
    "    \n",
    "        depx =  abs(pose[11][0] - pose[12][0]) #distance epaule \n",
    "        epaule1 = np.array(pose[12][0:3])\n",
    "        epaule2 = np.array(pose[11][0:3])\n",
    "        origine=(epaule1+epaule2)/2\n",
    "        dornose=abs(pose[0][1]-origine[1])\n",
    "        dz=depx  #comme on sait pas encore comment est estimé la valeur z on prend meme valeur que x\n",
    "        dnormaliser=np.array([depx,dornose,dz])\n",
    "        normaliser=np.array([40,20,40])\n",
    "    \n",
    "        shifted_hand_marks_coordr=Right_hand_mark-origine #right\n",
    "        shifted_hand_marks_coordl=Left_hand_mark-origine  #left\n",
    "        shifted_pose_marks_coord=pose-origine             #pose \n",
    "    \n",
    "        hand_marks_coord_normalizedr = shifted_hand_marks_coordr*normaliser/dnormaliser  #right hand\n",
    "        hand_marks_coord_normalizedl = shifted_hand_marks_coordl*normaliser/dnormaliser  #left hand\n",
    "        pose_marks_coord_normalized = shifted_pose_marks_coord*normaliser/dnormaliser    #pose\n",
    "   #     print(hand_marks_coord_normalizedr)\n",
    "        #les valeurs retournées ne sont pas sous forme de vecteur utilise methode .flatten() pour vecteur.\n",
    "        return list(np.concatenate(( (hand_marks_coord_normalizedr/np.linalg.norm(hand_marks_coord_normalizedr[...,:-1],axis=1).reshape(21,1)).flatten(), (hand_marks_coord_normalizedl/np.linalg.norm(hand_marks_coord_normalizedl[...,:-1],axis=1).reshape(21,1)).flatten(), (pose_marks_coord_normalized/np.linalg.norm(pose_marks_coord_normalized[...,:-1],axis=1).reshape(33,1)).flatten() ), axis=None))"
   ]
  },
  {
   "cell_type": "markdown",
   "metadata": {},
   "source": [
    "Vérification"
   ]
  },
  {
   "cell_type": "code",
   "execution_count": null,
   "metadata": {},
   "outputs": [
    {
     "name": "stdout",
     "output_type": "stream",
     "text": [
      "20 22\n"
     ]
    }
   ],
   "source": [
    "print(nb_videos,nb_frame)"
   ]
  },
  {
   "cell_type": "markdown",
   "metadata": {},
   "source": [
    "### Code"
   ]
  },
  {
   "cell_type": "markdown",
   "metadata": {},
   "source": [
    "Fonction retournant la liste des fichiers d'un dossier"
   ]
  },
  {
   "cell_type": "code",
   "execution_count": null,
   "metadata": {},
   "outputs": [],
   "source": [
    "def listfichier(path):\n",
    "    L = os.listdir(path)\n",
    "    L1 = L\n",
    "    i=0\n",
    "    for j in L:\n",
    "        L1[i]  = path + '/' + L[i]\n",
    "        i+=1\n",
    "    #print(L1)\n",
    "    return L1"
   ]
  },
  {
   "cell_type": "code",
   "execution_count": null,
   "metadata": {},
   "outputs": [
    {
     "name": "stdout",
     "output_type": "stream",
     "text": [
      "22\n",
      "22\n",
      "22\n",
      "22\n",
      "22\n",
      "22\n",
      "22\n",
      "22\n",
      "22\n",
      "22\n",
      "22\n",
      "22\n",
      "22\n",
      "22\n",
      "22\n",
      "22\n",
      "22\n",
      "22\n",
      "22\n",
      "22\n"
     ]
    }
   ],
   "source": [
    "rang_mot = 0\n",
    "rang_video = 0\n",
    "rang_frame=0\n",
    "# Set mediapipe model \n",
    "with mp_holistic.Holistic(min_detection_confidence=0.5, min_tracking_confidence=0.5) as holistic:\n",
    "    données = listfichier(data_path)\n",
    "    for mot in données:\n",
    "        dossiers=listfichier(mot + '/')\n",
    "        for d in dossiers:\n",
    "            fichiers=listfichier(d + '/')\n",
    "            print(len(fichiers))\n",
    "            row = []\n",
    "            for f in fichiers:\n",
    "                cap = cv2.VideoCapture(f)\n",
    "                ret, frame = cap.read()\n",
    "                if ret :\n",
    "                    image, results = mediapipe_detection(frame, holistic)\n",
    "\n",
    "                    draw_styled_landmarks(image, results)\n",
    "\n",
    "                    row += Image_normaliser(frame)\n",
    "                    \n",
    "                    rang_frame+=1\n",
    "                    if cv2.waitKey(10) & 0xFF == ord('q'):\n",
    "                        break\n",
    "                cap.release()\n",
    "                cv2.destroyAllWindows()\n",
    "            row.insert(0, mots[rang_mot] )\n",
    "            with open('output/coords.csv', mode='a', newline='') as f:\n",
    "                csv_writer = csv.writer(f, delimiter=',', quotechar='\"', quoting=csv.QUOTE_MINIMAL)\n",
    "                csv_writer.writerow(row) \n",
    "            rang_frame=0\n",
    "            rang_video+=1\n",
    "        rang_video=0\n",
    "        rang_mot+=1"
   ]
  },
  {
   "cell_type": "code",
   "execution_count": null,
   "metadata": {},
   "outputs": [
    {
     "name": "stdout",
     "output_type": "stream",
     "text": [
      "['output/coords_csv/nous_on']\n"
     ]
    }
   ],
   "source": [
    "print(données)"
   ]
  },
  {
   "cell_type": "code",
   "execution_count": null,
   "metadata": {},
   "outputs": [],
   "source": []
  },
  {
   "cell_type": "markdown",
   "metadata": {},
   "source": [
    "Supprimer les images intermédiaires"
   ]
  },
  {
   "cell_type": "code",
   "execution_count": null,
   "metadata": {},
   "outputs": [],
   "source": [
    "\n",
    "for mot in données:\n",
    "        dossiers=listfichier(mot + '/')\n",
    "        for d in dossiers:\n",
    "            fichiers=listfichier(d + '/')\n",
    "            for f in fichiers:\n",
    "                if f[-1]=='g':\n",
    "                    os.remove(f) #supprimer l'image\n",
    "            os.rmdir(d)\n",
    "        os.rmdir(mot)\n",
    "os.rmdir(data_path)\n"
   ]
  }
 ],
 "metadata": {
  "kernelspec": {
   "display_name": "Python 3",
   "language": "python",
   "name": "python3"
  },
  "language_info": {
   "codemirror_mode": {
    "name": "ipython",
    "version": 3
   },
   "file_extension": ".py",
   "mimetype": "text/x-python",
   "name": "python",
   "nbconvert_exporter": "python",
   "pygments_lexer": "ipython3",
   "version": "3.7.5 (tags/v3.7.5:5c02a39a0b, Oct 15 2019, 00:11:34) [MSC v.1916 64 bit (AMD64)]"
  },
  "orig_nbformat": 4,
  "vscode": {
   "interpreter": {
    "hash": "ed87c18c9f643f613133f3a3c2fc7061cf9249115a10c7de41427f5b109d6213"
   }
  }
 },
 "nbformat": 4,
 "nbformat_minor": 2
}
