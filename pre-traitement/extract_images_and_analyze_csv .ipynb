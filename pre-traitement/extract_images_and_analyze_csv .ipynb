{
 "cells": [
  {
   "cell_type": "markdown",
   "metadata": {},
   "source": [
    "# Code pour reformater les vidéos au même nombre de frames pour faciliter l'extraction et le traitement"
   ]
  },
  {
   "cell_type": "markdown",
   "metadata": {},
   "source": [
    "# 1. Imports"
   ]
  },
  {
   "cell_type": "code",
   "execution_count": 1,
   "metadata": {},
   "outputs": [],
   "source": [
    "import cv2\n",
    "import os\n",
    "import numpy as np\n",
    "from os.path import isfile, join\n",
    "from moviepy.editor import VideoFileClip\n",
    "import csv\n",
    "import mediapipe as mp \n",
    "mp_drawing = mp.solutions.drawing_utils  # Drawing helpers\n",
    "mp_holistic = mp.solutions.holistic  # Mediapipe Solutions"
   ]
  },
  {
   "cell_type": "markdown",
   "metadata": {},
   "source": [
    "# 2. Paramétrer les dossiers"
   ]
  },
  {
   "cell_type": "markdown",
   "metadata": {},
   "source": [
    "Paramètres de bases"
   ]
  },
  {
   "cell_type": "code",
   "execution_count": 2,
   "metadata": {},
   "outputs": [],
   "source": [
    "path = 'données/datas_mots/' #path vers le dossier des mots\n",
    "data_path = 'output/coords_csv'\n",
    "mots=np.array(['rester']) #choix des mots\n",
    "nb_videos=20 #nb de vidéos par mot\n",
    "\n",
    "#'adresse','affaire','aller','ami_amie','autre','beaucoup','bonjour','chocolat','comprendre','demander','dieu','donc','dormir','enceinte','faire','famille','finir','gens','heure','ils_elles','interdire','jamais','jour','laisser','lentement','marcher_marche','merci','mourir_mort','nous_on','nuit','ou','payer','penser','personne','peu','pleuvoir_pluie','portugal','pour','prendre','question','quoi','raison_connaissance','rencontrer_rencontre','rester','rien','rue_route','sac','soeur_nonne','soleil','surprendre_surprise','temps','toujours','travail','trop','trouver','turquie','vache','vivre_vie','voir','vouloir'"
   ]
  },
  {
   "cell_type": "code",
   "execution_count": 3,
   "metadata": {},
   "outputs": [
    {
     "data": {
      "text/plain": [
       "1"
      ]
     },
     "execution_count": 3,
     "metadata": {},
     "output_type": "execute_result"
    }
   ],
   "source": [
    "len(mots)"
   ]
  },
  {
   "cell_type": "markdown",
   "metadata": {},
   "source": [
    "Calculer le nombre d'images moyen par vidéo pour avoir la référence"
   ]
  },
  {
   "cell_type": "code",
   "execution_count": 4,
   "metadata": {},
   "outputs": [
    {
     "name": "stdout",
     "output_type": "stream",
     "text": [
      "17\n"
     ]
    },
    {
     "name": "stderr",
     "output_type": "stream",
     "text": [
      "[mov,mp4,m4a,3gp,3g2,mj2 @ 0x40484c0] moov atom not found\n",
      "[mov,mp4,m4a,3gp,3g2,mj2 @ 0x4082f00] moov atom not found\n",
      "[mov,mp4,m4a,3gp,3g2,mj2 @ 0x41ca6c0] moov atom not found\n",
      "[mov,mp4,m4a,3gp,3g2,mj2 @ 0x3ff4b80] moov atom not found\n"
     ]
    }
   ],
   "source": [
    "count=0\n",
    "fichier =list([])\n",
    "for mot in mots:\n",
    "    fichier1=[]\n",
    "    i=0\n",
    "    for f in os.listdir(path):\n",
    "        if i<nb_videos:\n",
    "            file_name, file_ext = os.path.splitext(f)\n",
    "            testmot = file_name.split('-')\n",
    "            if (testmot[0]==mot):\n",
    "                fichier1 += [path + file_name + file_ext]\n",
    "                i+=1\n",
    "    fichier.append(fichier1)\n",
    "rang_mot=0\n",
    "for mot in mots:\n",
    "    for f in fichier[rang_mot]:\n",
    "        cap = cv2.VideoCapture(f)\n",
    "        length = int(cap.get(cv2.CAP_PROP_FRAME_COUNT))\n",
    "        count=count+length\n",
    "    rang_mot+=1\n",
    "moy=count/(len(fichier)*nb_videos)\n",
    "nb_frame=int(moy)#nombre d'images par vidéos\n",
    "print(nb_frame)"
   ]
  },
  {
   "cell_type": "code",
   "execution_count": 5,
   "metadata": {},
   "outputs": [
    {
     "name": "stdout",
     "output_type": "stream",
     "text": [
      "[['données/datas_mots/rester-15.mp4', 'données/datas_mots/rester-11.mp4', 'données/datas_mots/rester-03.mp4', 'données/datas_mots/rester-09.mp4', 'données/datas_mots/rester-04.mp4', 'données/datas_mots/rester-14.mp4', 'données/datas_mots/rester-05.mp4', 'données/datas_mots/rester-13.mp4', 'données/datas_mots/rester-16.mp4', 'données/datas_mots/rester-01.mp4', 'données/datas_mots/rester-00.mp4', 'données/datas_mots/rester-06.mp4', 'données/datas_mots/rester-02.mp4', 'données/datas_mots/rester-10.mp4', 'données/datas_mots/rester-07.mp4', 'données/datas_mots/rester-19.mp4', 'données/datas_mots/rester-12.mp4', 'données/datas_mots/rester-17.mp4', 'données/datas_mots/rester-18.mp4', 'données/datas_mots/rester-08.mp4']]\n"
     ]
    }
   ],
   "source": [
    "print(fichier)"
   ]
  },
  {
   "cell_type": "markdown",
   "metadata": {},
   "source": [
    "Pour avoir les paramètres dans le csv"
   ]
  },
  {
   "cell_type": "code",
   "execution_count": 6,
   "metadata": {},
   "outputs": [],
   "source": [
    "num_coords = 75 # nombre de points du corps + main gauche + main droite\n",
    "# for landmark in results.right_hand_landmarks.landmark:\n",
    "#     print(landmark, landmark.value)\n",
    "landmarks = ['class']\n",
    "for i in range (1,21): \n",
    "    for val in range(1, num_coords+1):\n",
    "        landmarks += ['x' + str (val) + '_' + str(i), 'y' + str (val) + '_' + str(i),\n",
    "                    'z' + str (val) + '_' + str(i), 'v' + str (val) + '_' + str(i)]\n",
    "with open('output/coords.csv', mode='w', newline='') as f:\n",
    "    csv_writer = csv.writer(\n",
    "        f, delimiter=',', quotechar='\"', quoting=csv.QUOTE_MINIMAL)\n",
    "    csv_writer.writerow(landmarks)"
   ]
  },
  {
   "cell_type": "markdown",
   "metadata": {},
   "source": [
    "Création des dossiers pour stocker les images"
   ]
  },
  {
   "cell_type": "code",
   "execution_count": 7,
   "metadata": {},
   "outputs": [],
   "source": [
    "for mot in mots: \n",
    "    for vid in range(nb_videos):\n",
    "        try: \n",
    "            os.makedirs(os.path.join(data_path, mot, str(vid)))\n",
    "        except:\n",
    "            pass"
   ]
  },
  {
   "cell_type": "markdown",
   "metadata": {},
   "source": [
    "# 3. Code"
   ]
  },
  {
   "cell_type": "markdown",
   "metadata": {},
   "source": [
    "Fonction intermédiaire pour plus tard calculer le framerate nécessaire à l'obtention du bon nombre de frames"
   ]
  },
  {
   "cell_type": "code",
   "execution_count": 8,
   "metadata": {},
   "outputs": [],
   "source": [
    "def duree_et_longueurCV(video):\n",
    "\n",
    "    duree = video.get(cv2.CAP_PROP_POS_MSEC)\n",
    "    longueur = video.get(cv2.CAP_PROP_FRAME_COUNT)\n",
    "\n",
    "    return duree, longueur\n",
    "    \n",
    "def dureeMPY(file):\n",
    "    clip = VideoFileClip(file)\n",
    "    return clip.duration"
   ]
  },
  {
   "cell_type": "markdown",
   "metadata": {},
   "source": [
    "Fonction pour stocker une image"
   ]
  },
  {
   "cell_type": "code",
   "execution_count": 9,
   "metadata": {},
   "outputs": [],
   "source": [
    "def getFrame(vidcap,sec,rang_video,count):\n",
    "            vidcap.set(cv2.CAP_PROP_POS_MSEC,sec*1000)\n",
    "            hasFrames,image = vidcap.read()\n",
    "            if hasFrames:\n",
    "                if count<10:\n",
    "                    numero = '0' + str(count)\n",
    "                else :\n",
    "                    numero = str(count)\n",
    "                cv2.imwrite(data_path+'/' + mot+'/'+str(rang_video)+'/image'+numero+\".jpg\", image)     # save frame as JPG file\n",
    "            return hasFrames"
   ]
  },
  {
   "cell_type": "markdown",
   "metadata": {},
   "source": [
    "Fonction pour trouver le bon framerate afin d'extraire le bon nombre d'images"
   ]
  },
  {
   "cell_type": "code",
   "execution_count": 10,
   "metadata": {},
   "outputs": [],
   "source": [
    "def load_video_and_find_framerate(fichier,nb_frame):\n",
    "    video = cv2.VideoCapture(f)\n",
    "    duree = dureeMPY(fichier)\n",
    "    fr=video.get(cv2.CAP_PROP_FPS)\n",
    "    if fr!=25:\n",
    "        video.set(cv2.CAP_PROP_FPS, 25)\n",
    "        duree = (25*duree)/fr\n",
    "        fr=25\n",
    "    framerate = (duree/fr)*(fr/nb_frame)\n",
    "    #print(fr,duree,framerate)\n",
    "    return video, framerate"
   ]
  },
  {
   "cell_type": "markdown",
   "metadata": {},
   "source": [
    "Code pour stocker automatiquement toutes les images des mots nous intéressants"
   ]
  },
  {
   "cell_type": "code",
   "execution_count": 11,
   "metadata": {},
   "outputs": [
    {
     "name": "stderr",
     "output_type": "stream",
     "text": [
      "[mov,mp4,m4a,3gp,3g2,mj2 @ 0x43d0e00] moov atom not found\n"
     ]
    },
    {
     "ename": "OSError",
     "evalue": "MoviePy error: failed to read the duration of file données/datas_mots/rester-16.mp4.\nHere are the file infos returned by ffmpeg:\n\nffmpeg version 4.2.2-static https://johnvansickle.com/ffmpeg/  Copyright (c) 2000-2019 the FFmpeg developers\n  built with gcc 8 (Debian 8.3.0-6)\n  configuration: --enable-gpl --enable-version3 --enable-static --disable-debug --disable-ffplay --disable-indev=sndio --disable-outdev=sndio --cc=gcc --enable-fontconfig --enable-frei0r --enable-gnutls --enable-gmp --enable-libgme --enable-gray --enable-libaom --enable-libfribidi --enable-libass --enable-libvmaf --enable-libfreetype --enable-libmp3lame --enable-libopencore-amrnb --enable-libopencore-amrwb --enable-libopenjpeg --enable-librubberband --enable-libsoxr --enable-libspeex --enable-libsrt --enable-libvorbis --enable-libopus --enable-libtheora --enable-libvidstab --enable-libvo-amrwbenc --enable-libvpx --enable-libwebp --enable-libx264 --enable-libx265 --enable-libxml2 --enable-libdav1d --enable-libxvid --enable-libzvbi --enable-libzimg\n  libavutil      56. 31.100 / 56. 31.100\n  libavcodec     58. 54.100 / 58. 54.100\n  libavformat    58. 29.100 / 58. 29.100\n  libavdevice    58.  8.100 / 58.  8.100\n  libavfilter     7. 57.100 /  7. 57.100\n  libswscale      5.  5.100 /  5.  5.100\n  libswresample   3.  5.100 /  3.  5.100\n  libpostproc    55.  5.100 / 55.  5.100\n[mov,mp4,m4a,3gp,3g2,mj2 @ 0x5598500] moov atom not found\ndonnées/datas_mots/rester-16.mp4: Invalid data found when processing input\n",
     "output_type": "error",
     "traceback": [
      "\u001b[0;31m---------------------------------------------------------------------------\u001b[0m",
      "\u001b[0;31mIndexError\u001b[0m                                Traceback (most recent call last)",
      "File \u001b[0;32m~/.local/lib/python3.8/site-packages/moviepy/video/io/ffmpeg_reader.py:285\u001b[0m, in \u001b[0;36mffmpeg_parse_infos\u001b[0;34m(filename, print_infos, check_duration, fps_source)\u001b[0m\n\u001b[1;32m    284\u001b[0m index \u001b[39m=\u001b[39m \u001b[39m-\u001b[39m\u001b[39m1\u001b[39m \u001b[39mif\u001b[39;00m is_GIF \u001b[39melse\u001b[39;00m \u001b[39m0\u001b[39m\n\u001b[0;32m--> 285\u001b[0m line \u001b[39m=\u001b[39m [l \u001b[39mfor\u001b[39;49;00m l \u001b[39min\u001b[39;49;00m lines \u001b[39mif\u001b[39;49;00m keyword \u001b[39min\u001b[39;49;00m l][index]\n\u001b[1;32m    286\u001b[0m match \u001b[39m=\u001b[39m re\u001b[39m.\u001b[39mfindall(\u001b[39m\"\u001b[39m\u001b[39m([0-9][0-9]:[0-9][0-9]:[0-9][0-9].[0-9][0-9])\u001b[39m\u001b[39m\"\u001b[39m, line)[\u001b[39m0\u001b[39m]\n",
      "\u001b[0;31mIndexError\u001b[0m: list index out of range",
      "\nDuring handling of the above exception, another exception occurred:\n",
      "\u001b[0;31mOSError\u001b[0m                                   Traceback (most recent call last)",
      "Cell \u001b[0;32mIn [11], line 9\u001b[0m\n\u001b[1;32m      7\u001b[0m sec \u001b[39m=\u001b[39m \u001b[39m0\u001b[39m\n\u001b[1;32m      8\u001b[0m count\u001b[39m=\u001b[39m\u001b[39m1\u001b[39m\n\u001b[0;32m----> 9\u001b[0m vidcap, framerate \u001b[39m=\u001b[39m load_video_and_find_framerate(f,nb_frame)\n\u001b[1;32m     10\u001b[0m success \u001b[39m=\u001b[39m getFrame(vidcap,sec,rang_video,count)\n\u001b[1;32m     11\u001b[0m \u001b[39mwhile\u001b[39;00m success:\n",
      "Cell \u001b[0;32mIn [10], line 3\u001b[0m, in \u001b[0;36mload_video_and_find_framerate\u001b[0;34m(fichier, nb_frame)\u001b[0m\n\u001b[1;32m      1\u001b[0m \u001b[39mdef\u001b[39;00m \u001b[39mload_video_and_find_framerate\u001b[39m(fichier,nb_frame):\n\u001b[1;32m      2\u001b[0m     video \u001b[39m=\u001b[39m cv2\u001b[39m.\u001b[39mVideoCapture(f)\n\u001b[0;32m----> 3\u001b[0m     duree \u001b[39m=\u001b[39m dureeMPY(fichier)\n\u001b[1;32m      4\u001b[0m     fr\u001b[39m=\u001b[39mvideo\u001b[39m.\u001b[39mget(cv2\u001b[39m.\u001b[39mCAP_PROP_FPS)\n\u001b[1;32m      5\u001b[0m     \u001b[39mif\u001b[39;00m fr\u001b[39m!=\u001b[39m\u001b[39m25\u001b[39m:\n",
      "Cell \u001b[0;32mIn [8], line 9\u001b[0m, in \u001b[0;36mdureeMPY\u001b[0;34m(file)\u001b[0m\n\u001b[1;32m      8\u001b[0m \u001b[39mdef\u001b[39;00m \u001b[39mdureeMPY\u001b[39m(file):\n\u001b[0;32m----> 9\u001b[0m     clip \u001b[39m=\u001b[39m VideoFileClip(file)\n\u001b[1;32m     10\u001b[0m     \u001b[39mreturn\u001b[39;00m clip\u001b[39m.\u001b[39mduration\n",
      "File \u001b[0;32m~/.local/lib/python3.8/site-packages/moviepy/video/io/VideoFileClip.py:88\u001b[0m, in \u001b[0;36mVideoFileClip.__init__\u001b[0;34m(self, filename, has_mask, audio, audio_buffersize, target_resolution, resize_algorithm, audio_fps, audio_nbytes, verbose, fps_source)\u001b[0m\n\u001b[1;32m     86\u001b[0m \u001b[39m# Make a reader\u001b[39;00m\n\u001b[1;32m     87\u001b[0m pix_fmt \u001b[39m=\u001b[39m \u001b[39m\"\u001b[39m\u001b[39mrgba\u001b[39m\u001b[39m\"\u001b[39m \u001b[39mif\u001b[39;00m has_mask \u001b[39melse\u001b[39;00m \u001b[39m\"\u001b[39m\u001b[39mrgb24\u001b[39m\u001b[39m\"\u001b[39m\n\u001b[0;32m---> 88\u001b[0m \u001b[39mself\u001b[39m\u001b[39m.\u001b[39mreader \u001b[39m=\u001b[39m FFMPEG_VideoReader(filename, pix_fmt\u001b[39m=\u001b[39;49mpix_fmt,\n\u001b[1;32m     89\u001b[0m                                  target_resolution\u001b[39m=\u001b[39;49mtarget_resolution,\n\u001b[1;32m     90\u001b[0m                                  resize_algo\u001b[39m=\u001b[39;49mresize_algorithm,\n\u001b[1;32m     91\u001b[0m                                  fps_source\u001b[39m=\u001b[39;49mfps_source)\n\u001b[1;32m     93\u001b[0m \u001b[39m# Make some of the reader's attributes accessible from the clip\u001b[39;00m\n\u001b[1;32m     94\u001b[0m \u001b[39mself\u001b[39m\u001b[39m.\u001b[39mduration \u001b[39m=\u001b[39m \u001b[39mself\u001b[39m\u001b[39m.\u001b[39mreader\u001b[39m.\u001b[39mduration\n",
      "File \u001b[0;32m~/.local/lib/python3.8/site-packages/moviepy/video/io/ffmpeg_reader.py:35\u001b[0m, in \u001b[0;36mFFMPEG_VideoReader.__init__\u001b[0;34m(self, filename, print_infos, bufsize, pix_fmt, check_duration, target_resolution, resize_algo, fps_source)\u001b[0m\n\u001b[1;32m     33\u001b[0m \u001b[39mself\u001b[39m\u001b[39m.\u001b[39mfilename \u001b[39m=\u001b[39m filename\n\u001b[1;32m     34\u001b[0m \u001b[39mself\u001b[39m\u001b[39m.\u001b[39mproc \u001b[39m=\u001b[39m \u001b[39mNone\u001b[39;00m\n\u001b[0;32m---> 35\u001b[0m infos \u001b[39m=\u001b[39m ffmpeg_parse_infos(filename, print_infos, check_duration,\n\u001b[1;32m     36\u001b[0m                            fps_source)\n\u001b[1;32m     37\u001b[0m \u001b[39mself\u001b[39m\u001b[39m.\u001b[39mfps \u001b[39m=\u001b[39m infos[\u001b[39m'\u001b[39m\u001b[39mvideo_fps\u001b[39m\u001b[39m'\u001b[39m]\n\u001b[1;32m     38\u001b[0m \u001b[39mself\u001b[39m\u001b[39m.\u001b[39msize \u001b[39m=\u001b[39m infos[\u001b[39m'\u001b[39m\u001b[39mvideo_size\u001b[39m\u001b[39m'\u001b[39m]\n",
      "File \u001b[0;32m~/.local/lib/python3.8/site-packages/moviepy/video/io/ffmpeg_reader.py:289\u001b[0m, in \u001b[0;36mffmpeg_parse_infos\u001b[0;34m(filename, print_infos, check_duration, fps_source)\u001b[0m\n\u001b[1;32m    287\u001b[0m         result[\u001b[39m'\u001b[39m\u001b[39mduration\u001b[39m\u001b[39m'\u001b[39m] \u001b[39m=\u001b[39m cvsecs(match)\n\u001b[1;32m    288\u001b[0m     \u001b[39mexcept\u001b[39;00m:\n\u001b[0;32m--> 289\u001b[0m         \u001b[39mraise\u001b[39;00m \u001b[39mIOError\u001b[39;00m((\u001b[39m\"\u001b[39m\u001b[39mMoviePy error: failed to read the duration of file \u001b[39m\u001b[39m%s\u001b[39;00m\u001b[39m.\u001b[39m\u001b[39m\\n\u001b[39;00m\u001b[39m\"\u001b[39m\n\u001b[1;32m    290\u001b[0m                        \u001b[39m\"\u001b[39m\u001b[39mHere are the file infos returned by ffmpeg:\u001b[39m\u001b[39m\\n\u001b[39;00m\u001b[39m\\n\u001b[39;00m\u001b[39m%s\u001b[39;00m\u001b[39m\"\u001b[39m)\u001b[39m%\u001b[39m(\n\u001b[1;32m    291\u001b[0m                           filename, infos))\n\u001b[1;32m    293\u001b[0m \u001b[39m# get the output line that speaks about video\u001b[39;00m\n\u001b[1;32m    294\u001b[0m lines_video \u001b[39m=\u001b[39m [l \u001b[39mfor\u001b[39;00m l \u001b[39min\u001b[39;00m lines \u001b[39mif\u001b[39;00m \u001b[39m'\u001b[39m\u001b[39m Video: \u001b[39m\u001b[39m'\u001b[39m \u001b[39min\u001b[39;00m l \u001b[39mand\u001b[39;00m re\u001b[39m.\u001b[39msearch(\u001b[39m'\u001b[39m\u001b[39m\\\u001b[39m\u001b[39md+x\u001b[39m\u001b[39m\\\u001b[39m\u001b[39md+\u001b[39m\u001b[39m'\u001b[39m, l)]\n",
      "\u001b[0;31mOSError\u001b[0m: MoviePy error: failed to read the duration of file données/datas_mots/rester-16.mp4.\nHere are the file infos returned by ffmpeg:\n\nffmpeg version 4.2.2-static https://johnvansickle.com/ffmpeg/  Copyright (c) 2000-2019 the FFmpeg developers\n  built with gcc 8 (Debian 8.3.0-6)\n  configuration: --enable-gpl --enable-version3 --enable-static --disable-debug --disable-ffplay --disable-indev=sndio --disable-outdev=sndio --cc=gcc --enable-fontconfig --enable-frei0r --enable-gnutls --enable-gmp --enable-libgme --enable-gray --enable-libaom --enable-libfribidi --enable-libass --enable-libvmaf --enable-libfreetype --enable-libmp3lame --enable-libopencore-amrnb --enable-libopencore-amrwb --enable-libopenjpeg --enable-librubberband --enable-libsoxr --enable-libspeex --enable-libsrt --enable-libvorbis --enable-libopus --enable-libtheora --enable-libvidstab --enable-libvo-amrwbenc --enable-libvpx --enable-libwebp --enable-libx264 --enable-libx265 --enable-libxml2 --enable-libdav1d --enable-libxvid --enable-libzvbi --enable-libzimg\n  libavutil      56. 31.100 / 56. 31.100\n  libavcodec     58. 54.100 / 58. 54.100\n  libavformat    58. 29.100 / 58. 29.100\n  libavdevice    58.  8.100 / 58.  8.100\n  libavfilter     7. 57.100 /  7. 57.100\n  libswscale      5.  5.100 /  5.  5.100\n  libswresample   3.  5.100 /  3.  5.100\n  libpostproc    55.  5.100 / 55.  5.100\n[mov,mp4,m4a,3gp,3g2,mj2 @ 0x5598500] moov atom not found\ndonnées/datas_mots/rester-16.mp4: Invalid data found when processing input\n"
     ]
    }
   ],
   "source": [
    "rang_mot=0\n",
    "for mot in mots:\n",
    "    #print(mot)\n",
    "    rang_video=0\n",
    "    for f in fichier[rang_mot]:\n",
    "        #print(f)\n",
    "        sec = 0\n",
    "        count=1\n",
    "        vidcap, framerate = load_video_and_find_framerate(f,nb_frame)\n",
    "        success = getFrame(vidcap,sec,rang_video,count)\n",
    "        while success:\n",
    "            count = count + 1\n",
    "            sec = sec + framerate\n",
    "            success = getFrame(vidcap,sec,rang_video,count)\n",
    "        #print(len(os.listdir(data_path+mot+'/'+str(rang_video)+'/')))\n",
    "        rang_video+=1\n",
    "    rang_mot+=1"
   ]
  },
  {
   "cell_type": "markdown",
   "metadata": {},
   "source": [
    "# Analyser les images"
   ]
  },
  {
   "cell_type": "markdown",
   "metadata": {},
   "source": [
    "### Préliminaires (mêmes fonctions que dans export_coord_v2)"
   ]
  },
  {
   "cell_type": "code",
   "execution_count": null,
   "metadata": {},
   "outputs": [],
   "source": [
    "def mediapipe_detection(image, model): #Fonction pour que mediapipe puisse détecter (car il ne travaille pas dans le même système de couleur que OpenCV)\n",
    "    image = cv2.cvtColor(image, cv2.COLOR_BGR2RGB) \n",
    "    image.flags.writeable = False                  \n",
    "    results = model.process(image)                 \n",
    "    image.flags.writeable = True                   \n",
    "    image = cv2.cvtColor(image, cv2.COLOR_RGB2BGR) \n",
    "    return image, results\n",
    "\n",
    "def draw_landmarks(image, results):\n",
    "    mp_drawing.draw_landmarks(image, results.face_landmarks, mp_holistic.FACEMESH_TESSELATION) # Draw face connections\n",
    "    mp_drawing.draw_landmarks(image, results.pose_landmarks, mp_holistic.POSE_CONNECTIONS) # Draw pose connections\n",
    "    mp_drawing.draw_landmarks(image, results.left_hand_landmarks, mp_holistic.HAND_CONNECTIONS) # Draw left hand connections\n",
    "    mp_drawing.draw_landmarks(image, results.right_hand_landmarks, mp_holistic.HAND_CONNECTIONS) # Draw right hand connections\n",
    "\n",
    "def draw_styled_landmarks(image, results):\n",
    "    # Draw face connections\n",
    "    mp_drawing.draw_landmarks(image, results.face_landmarks, mp_holistic.FACEMESH_TESSELATION, \n",
    "                             mp_drawing.DrawingSpec(color=(80,110,10), thickness=1, circle_radius=1), \n",
    "                             mp_drawing.DrawingSpec(color=(80,256,121), thickness=1, circle_radius=1)\n",
    "                             ) \n",
    "    # Draw pose connections\n",
    "    mp_drawing.draw_landmarks(image, results.pose_landmarks, mp_holistic.POSE_CONNECTIONS,\n",
    "                             mp_drawing.DrawingSpec(color=(80,22,10), thickness=2, circle_radius=4), \n",
    "                             mp_drawing.DrawingSpec(color=(80,44,121), thickness=2, circle_radius=2)\n",
    "                             ) \n",
    "    # Draw left hand connections\n",
    "    mp_drawing.draw_landmarks(image, results.left_hand_landmarks, mp_holistic.HAND_CONNECTIONS, \n",
    "                             mp_drawing.DrawingSpec(color=(121,22,76), thickness=2, circle_radius=4), \n",
    "                             mp_drawing.DrawingSpec(color=(121,44,250), thickness=2, circle_radius=2)\n",
    "                             ) \n",
    "    # Draw right hand connections  \n",
    "    mp_drawing.draw_landmarks(image, results.right_hand_landmarks, mp_holistic.HAND_CONNECTIONS, \n",
    "                             mp_drawing.DrawingSpec(color=(245,117,66), thickness=2, circle_radius=4), \n",
    "                             mp_drawing.DrawingSpec(color=(245,66,230), thickness=2, circle_radius=2)\n",
    "                             )\n",
    "                            \n",
    "def extract_keypoints(results):\n",
    "    pose = list(np.array([[res.x, res.y, res.z, res.visibility] for res in results.pose_landmarks.landmark]).flatten() if results.pose_landmarks else np.zeros(33*4))\n",
    "    #face = np.array([[res.x, res.y, res.z] for res in results.face_landmarks.landmark]).flatten() if results.face_landmarks else np.zeros(468*3)\n",
    "    lh = list(np.array([[res.x, res.y, res.z] for res in results.left_hand_landmarks.landmark]).flatten() if results.left_hand_landmarks else np.zeros(21*3))\n",
    "    rh = list(np.array([[res.x, res.y, res.z] for res in results.right_hand_landmarks.landmark]).flatten() if results.right_hand_landmarks else np.zeros(21*3))\n",
    "    #return np.concatenate([pose, face, lh, rh])\n",
    "    return (pose + lh + rh)"
   ]
  },
  {
   "cell_type": "markdown",
   "metadata": {},
   "source": [
    "Vérification"
   ]
  },
  {
   "cell_type": "code",
   "execution_count": null,
   "metadata": {},
   "outputs": [
    {
     "name": "stdout",
     "output_type": "stream",
     "text": [
      "20 22\n"
     ]
    }
   ],
   "source": [
    "print(nb_videos,nb_frame)"
   ]
  },
  {
   "cell_type": "markdown",
   "metadata": {},
   "source": [
    "### Code"
   ]
  },
  {
   "cell_type": "markdown",
   "metadata": {},
   "source": [
    "Fonction retournant la liste des fichiers d'un dossier"
   ]
  },
  {
   "cell_type": "code",
   "execution_count": null,
   "metadata": {},
   "outputs": [],
   "source": [
    "def listfichier(path):\n",
    "    L = os.listdir(path)\n",
    "    L1 = L\n",
    "    i=0\n",
    "    for j in L:\n",
    "        L1[i]  = path + '/' + L[i]\n",
    "        i+=1\n",
    "    #print(L1)\n",
    "    return L1"
   ]
  },
  {
   "cell_type": "code",
   "execution_count": null,
   "metadata": {},
   "outputs": [
    {
     "name": "stdout",
     "output_type": "stream",
     "text": [
      "22\n",
      "22\n",
      "22\n",
      "22\n",
      "22\n",
      "22\n",
      "22\n",
      "22\n",
      "22\n",
      "22\n",
      "22\n",
      "22\n",
      "22\n",
      "22\n",
      "22\n",
      "22\n",
      "22\n",
      "22\n",
      "22\n",
      "22\n"
     ]
    }
   ],
   "source": [
    "rang_mot = 0\n",
    "rang_video = 0\n",
    "rang_frame=0\n",
    "# Set mediapipe model \n",
    "with mp_holistic.Holistic(min_detection_confidence=0.5, min_tracking_confidence=0.5) as holistic:\n",
    "    données = listfichier(data_path)\n",
    "    for mot in données:\n",
    "        dossiers=listfichier(mot + '/')\n",
    "        for d in dossiers:\n",
    "            fichiers=listfichier(d + '/')\n",
    "            print(len(fichiers))\n",
    "            row = []\n",
    "            for f in fichiers:\n",
    "                cap = cv2.VideoCapture(f)\n",
    "                ret, frame = cap.read()\n",
    "                if ret :\n",
    "                    image, results = mediapipe_detection(frame, holistic)\n",
    "\n",
    "                    draw_styled_landmarks(image, results)\n",
    "\n",
    "                    row += extract_keypoints(results)\n",
    "                    rang_frame+=1\n",
    "                    if cv2.waitKey(10) & 0xFF == ord('q'):\n",
    "                        break\n",
    "                cap.release()\n",
    "                cv2.destroyAllWindows()\n",
    "            row.insert(0, mots[rang_mot] )\n",
    "            with open('output/coords.csv', mode='a', newline='') as f:\n",
    "                csv_writer = csv.writer(f, delimiter=',', quotechar='\"', quoting=csv.QUOTE_MINIMAL)\n",
    "                csv_writer.writerow(row) \n",
    "            rang_frame=0\n",
    "            rang_video+=1\n",
    "        rang_video=0\n",
    "        rang_mot+=1"
   ]
  },
  {
   "cell_type": "code",
   "execution_count": null,
   "metadata": {},
   "outputs": [
    {
     "name": "stdout",
     "output_type": "stream",
     "text": [
      "['output/coords_csv/nous_on']\n"
     ]
    }
   ],
   "source": [
    "print(données)"
   ]
  },
  {
   "cell_type": "code",
   "execution_count": null,
   "metadata": {},
   "outputs": [],
   "source": []
  },
  {
   "cell_type": "markdown",
   "metadata": {},
   "source": [
    "Supprimer les images intermédiaires"
   ]
  },
  {
   "cell_type": "code",
   "execution_count": null,
   "metadata": {},
   "outputs": [],
   "source": [
    "\n",
    "for mot in données:\n",
    "        dossiers=listfichier(mot + '/')\n",
    "        for d in dossiers:\n",
    "            fichiers=listfichier(d + '/')\n",
    "            for f in fichiers:\n",
    "                if f[-1]=='g':\n",
    "                    os.remove(f) #supprimer l'image\n",
    "            os.rmdir(d)\n",
    "        os.rmdir(mot)\n",
    "os.rmdir(data_path)\n"
   ]
  }
 ],
 "metadata": {
  "kernelspec": {
   "display_name": "Python 3.8.10 64-bit",
   "language": "python",
   "name": "python3"
  },
  "language_info": {
   "codemirror_mode": {
    "name": "ipython",
    "version": 3
   },
   "file_extension": ".py",
   "mimetype": "text/x-python",
   "name": "python",
   "nbconvert_exporter": "python",
   "pygments_lexer": "ipython3",
   "version": "3.8.10 (default, Nov 14 2022, 12:59:47) \n[GCC 9.4.0]"
  },
  "orig_nbformat": 4,
  "vscode": {
   "interpreter": {
    "hash": "31f2aee4e71d21fbe5cf8b01ff0e069b9275f58929596ceb00d14d90e3e16cd6"
   }
  }
 },
 "nbformat": 4,
 "nbformat_minor": 2
}
