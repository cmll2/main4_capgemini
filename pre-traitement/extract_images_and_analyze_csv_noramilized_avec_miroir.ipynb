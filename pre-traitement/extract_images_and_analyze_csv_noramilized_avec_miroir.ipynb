{
 "cells": [
  {
   "cell_type": "markdown",
   "metadata": {},
   "source": [
    "# Code pour reformater les vidéos au même nombre de frames pour faciliter l'extraction et le traitement"
   ]
  },
  {
   "cell_type": "markdown",
   "metadata": {},
   "source": [
    "# 1. Imports"
   ]
  },
  {
   "cell_type": "code",
   "execution_count": 20,
   "metadata": {},
   "outputs": [],
   "source": [
    "import cv2\n",
    "import os\n",
    "import numpy as np\n",
    "from os.path import isfile, join\n",
    "from moviepy.editor import VideoFileClip\n",
    "import csv\n",
    "import mediapipe as mp \n",
    "\n",
    "mp_drawing = mp.solutions.drawing_utils  # Drawing helpers\n",
    "mp_holistic = mp.solutions.holistic  # Mediapipe Solutions"
   ]
  },
  {
   "cell_type": "markdown",
   "metadata": {},
   "source": [
    "# 2. Paramétrer les dossiers"
   ]
  },
  {
   "cell_type": "markdown",
   "metadata": {},
   "source": [
    "Paramètres de bases"
   ]
  },
  {
   "cell_type": "code",
   "execution_count": 21,
   "metadata": {},
   "outputs": [],
   "source": [
    "path = 'données/datas_mots/' #path vers le dossier des mots\n",
    "data_path = 'output/coords_csv'\n",
    "mots=np.array(['adresse']) #choix des mots\n",
    "nb_videos=20 #nb de vidéos par mot\n",
    "\n",
    "#'adresse','affaire','aller','ami_amie','autre','beaucoup','bonjour','chocolat','comprendre','demander','dieu','donc','dormir','enceinte','faire','famille','finir','gens','heure','ils_elles','interdire','jamais','jour','laisser','lentement','marcher_marche','merci','mourir_mort','nous_on','nuit','ou','payer','penser','personne','peu','pleuvoir_pluie','portugal','pour','prendre','question','quoi','raison_connaissance','rencontrer_rencontre','rester','rien','rue_route','sac','soeur_nonne','soleil','surprendre_surprise','temps','toujours','travail','trop','trouver','turquie','vache','vivre_vie','voir','vouloir'"
   ]
  },
  {
   "cell_type": "code",
   "execution_count": 22,
   "metadata": {},
   "outputs": [
    {
     "data": {
      "text/plain": [
       "1"
      ]
     },
     "execution_count": 22,
     "metadata": {},
     "output_type": "execute_result"
    }
   ],
   "source": [
    "len(mots)"
   ]
  },
  {
   "cell_type": "markdown",
   "metadata": {},
   "source": [
    "Calculer le nombre d'images moyen par vidéo pour avoir la référence"
   ]
  },
  {
   "cell_type": "code",
   "execution_count": 23,
   "metadata": {},
   "outputs": [
    {
     "name": "stdout",
     "output_type": "stream",
     "text": [
      "23\n"
     ]
    }
   ],
   "source": [
    "count=0\n",
    "fichier =list([])\n",
    "for mot in mots:\n",
    "    fichier1=[]\n",
    "    i=0\n",
    "    for f in os.listdir(path):\n",
    "        if i<nb_videos:\n",
    "            file_name, file_ext = os.path.splitext(f)\n",
    "            testmot = file_name.split('-')\n",
    "            if (testmot[0]==mot):\n",
    "                fichier1 += [path + file_name + file_ext]\n",
    "                i+=1\n",
    "    fichier.append(fichier1)\n",
    "rang_mot=0\n",
    "for mot in mots:\n",
    "    for f in fichier[rang_mot]:\n",
    "        cap = cv2.VideoCapture(f)\n",
    "        length = int(cap.get(cv2.CAP_PROP_FRAME_COUNT))\n",
    "        count=count+length\n",
    "    rang_mot+=1\n",
    "moy=count/(len(fichier)*nb_videos)\n",
    "nb_frame=int(moy)#nombre d'images par vidéos\n",
    "print(nb_frame)"
   ]
  },
  {
   "cell_type": "code",
   "execution_count": 6,
   "metadata": {},
   "outputs": [
    {
     "name": "stdout",
     "output_type": "stream",
     "text": [
      "[['données/datas_mots/adresse-06.mp4', 'données/datas_mots/adresse-12.mp4', 'données/datas_mots/adresse-19.mp4', 'données/datas_mots/adresse-11.mp4', 'données/datas_mots/adresse-00.mp4', 'données/datas_mots/adresse-18.mp4', 'données/datas_mots/adresse-08.mp4', 'données/datas_mots/adresse-14.mp4', 'données/datas_mots/adresse-09.mp4', 'données/datas_mots/adresse-17.mp4', 'données/datas_mots/adresse-07.mp4', 'données/datas_mots/adresse-16.mp4', 'données/datas_mots/adresse-03.mp4', 'données/datas_mots/adresse-04.mp4', 'données/datas_mots/adresse-15.mp4', 'données/datas_mots/adresse-01.mp4', 'données/datas_mots/adresse-02.mp4', 'données/datas_mots/adresse-13.mp4', 'données/datas_mots/adresse-05.mp4', 'données/datas_mots/adresse-10.mp4']]\n"
     ]
    }
   ],
   "source": [
    "print(fichier)"
   ]
  },
  {
   "cell_type": "markdown",
   "metadata": {},
   "source": [
    "Pour avoir les paramètres dans le csv"
   ]
  },
  {
   "cell_type": "code",
   "execution_count": 24,
   "metadata": {},
   "outputs": [],
   "source": [
    "num_coords = 75 # nombre de points du corps + main gauche + main droite\n",
    "# for landmark in results.right_hand_landmarks.landmark:\n",
    "#     print(landmark, landmark.value)\n",
    "landmarks = ['class']+['indice']\n",
    "for i in range (1,21): \n",
    "    for val in range(1, num_coords+1):\n",
    "        landmarks += ['x' + str (val) + '_' + str(i), 'y' + str (val) + '_' + str(i),\n",
    "                    'z' + str (val) + '_' + str(i), 'v' + str (val) + '_' + str(i)]\n",
    "with open('output/coords.csv', mode='w', newline='') as f:\n",
    "    csv_writer = csv.writer(\n",
    "        f, delimiter=',', quotechar='\"', quoting=csv.QUOTE_MINIMAL)\n",
    "    csv_writer.writerow(landmarks)"
   ]
  },
  {
   "cell_type": "markdown",
   "metadata": {},
   "source": [
    "Création des dossiers pour stocker les images"
   ]
  },
  {
   "cell_type": "code",
   "execution_count": 25,
   "metadata": {},
   "outputs": [],
   "source": [
    "for mot in mots: \n",
    "    for vid in range(nb_videos):\n",
    "        try: \n",
    "            os.makedirs(os.path.join(data_path, mot, str(vid)))\n",
    "        except:\n",
    "            pass"
   ]
  },
  {
   "cell_type": "markdown",
   "metadata": {},
   "source": [
    "# 3. Code"
   ]
  },
  {
   "cell_type": "markdown",
   "metadata": {},
   "source": [
    "Fonction intermédiaire pour plus tard calculer le framerate nécessaire à l'obtention du bon nombre de frames"
   ]
  },
  {
   "cell_type": "code",
   "execution_count": 26,
   "metadata": {},
   "outputs": [],
   "source": [
    "def duree_et_longueurCV(video):\n",
    "\n",
    "    duree = video.get(cv2.CAP_PROP_POS_MSEC)\n",
    "    longueur = video.get(cv2.CAP_PROP_FRAME_COUNT)\n",
    "\n",
    "    return duree, longueur\n",
    "    \n",
    "def dureeMPY(file):\n",
    "    clip = VideoFileClip(file)\n",
    "    return clip.duration"
   ]
  },
  {
   "cell_type": "markdown",
   "metadata": {},
   "source": [
    "Fonction pour stocker une image"
   ]
  },
  {
   "cell_type": "code",
   "execution_count": 27,
   "metadata": {},
   "outputs": [],
   "source": [
    "def getFrame(vidcap,sec,rang_video,count):\n",
    "            vidcap.set(cv2.CAP_PROP_POS_MSEC,sec*1000)\n",
    "            hasFrames,image = vidcap.read()\n",
    "            if hasFrames:\n",
    "                if count<10:\n",
    "                    numero = '0' + str(count)\n",
    "                else :\n",
    "                    numero = str(count)\n",
    "                cv2.imwrite(data_path+'/' + mot+'/'+str(rang_video)+'/image'+numero+\".jpg\", image)     # save frame as JPG file\n",
    "            return hasFrames"
   ]
  },
  {
   "cell_type": "markdown",
   "metadata": {},
   "source": [
    "Fonction pour trouver le bon framerate afin d'extraire le bon nombre d'images"
   ]
  },
  {
   "cell_type": "code",
   "execution_count": 28,
   "metadata": {},
   "outputs": [],
   "source": [
    "def load_video_and_find_framerate(fichier,nb_frame):\n",
    "    video = cv2.VideoCapture(f)\n",
    "    duree = dureeMPY(fichier)\n",
    "    fr=video.get(cv2.CAP_PROP_FPS)\n",
    "    if fr!=25:\n",
    "        video.set(cv2.CAP_PROP_FPS, 25)\n",
    "        duree = (25*duree)/fr\n",
    "        fr=25\n",
    "    framerate = (duree/fr)*(fr/nb_frame)\n",
    "    #print(fr,duree,framerate)\n",
    "    return video, framerate"
   ]
  },
  {
   "cell_type": "markdown",
   "metadata": {},
   "source": [
    "Code pour stocker automatiquement toutes les images des mots nous intéressants"
   ]
  },
  {
   "cell_type": "code",
   "execution_count": 29,
   "metadata": {},
   "outputs": [],
   "source": [
    "rang_mot=0\n",
    "for mot in mots:\n",
    "    #print(mot)\n",
    "    rang_video=0\n",
    "    for f in fichier[rang_mot]:\n",
    "        #print(f)\n",
    "        sec = 0\n",
    "        count=1\n",
    "        vidcap, framerate = load_video_and_find_framerate(f,nb_frame)\n",
    "        success = getFrame(vidcap,sec,rang_video,count)\n",
    "        while success:\n",
    "            count = count + 1\n",
    "            sec = sec + framerate\n",
    "            success = getFrame(vidcap,sec,rang_video,count)\n",
    "        #print(len(os.listdir(data_path+mot+'/'+str(rang_video)+'/')))\n",
    "        rang_video+=1\n",
    "    rang_mot+=1"
   ]
  },
  {
   "cell_type": "markdown",
   "metadata": {},
   "source": [
    "# Analyser les images"
   ]
  },
  {
   "cell_type": "markdown",
   "metadata": {},
   "source": [
    "### Préliminaires (mêmes fonctions que dans export_coord_v2)"
   ]
  },
  {
   "cell_type": "code",
   "execution_count": 30,
   "metadata": {},
   "outputs": [],
   "source": [
    "def mediapipe_detection(image, model): #Fonction pour que mediapipe puisse détecter (car il ne travaille pas dans le même système de couleur que OpenCV)\n",
    "    image = cv2.cvtColor(image, cv2.COLOR_BGR2RGB) \n",
    "    image.flags.writeable = False                  \n",
    "    results = model.process(image)                 \n",
    "    image.flags.writeable = True                   \n",
    "    image = cv2.cvtColor(image, cv2.COLOR_RGB2BGR) \n",
    "    return image, results\n",
    "\n",
    "def draw_landmarks(image, results):\n",
    "    mp_drawing.draw_landmarks(image, results.face_landmarks, mp_holistic.FACEMESH_TESSELATION) # Draw face connections\n",
    "    mp_drawing.draw_landmarks(image, results.pose_landmarks, mp_holistic.POSE_CONNECTIONS) # Draw pose connections\n",
    "    mp_drawing.draw_landmarks(image, results.left_hand_landmarks, mp_holistic.HAND_CONNECTIONS) # Draw left hand connections\n",
    "    mp_drawing.draw_landmarks(image, results.right_hand_landmarks, mp_holistic.HAND_CONNECTIONS) # Draw right hand connections\n",
    "\n",
    "def draw_styled_landmarks(image, results):\n",
    "    # Draw face connections\n",
    "    mp_drawing.draw_landmarks(image, results.face_landmarks, mp_holistic.FACEMESH_TESSELATION, \n",
    "                             mp_drawing.DrawingSpec(color=(80,110,10), thickness=1, circle_radius=1), \n",
    "                             mp_drawing.DrawingSpec(color=(80,256,121), thickness=1, circle_radius=1)\n",
    "                             ) \n",
    "    # Draw pose connections\n",
    "    mp_drawing.draw_landmarks(image, results.pose_landmarks, mp_holistic.POSE_CONNECTIONS,\n",
    "                             mp_drawing.DrawingSpec(color=(80,22,10), thickness=2, circle_radius=4), \n",
    "                             mp_drawing.DrawingSpec(color=(80,44,121), thickness=2, circle_radius=2)\n",
    "                             ) \n",
    "    # Draw left hand connections\n",
    "    mp_drawing.draw_landmarks(image, results.left_hand_landmarks, mp_holistic.HAND_CONNECTIONS, \n",
    "                             mp_drawing.DrawingSpec(color=(121,22,76), thickness=2, circle_radius=4), \n",
    "                             mp_drawing.DrawingSpec(color=(121,44,250), thickness=2, circle_radius=2)\n",
    "                             ) \n",
    "    # Draw right hand connections  \n",
    "    mp_drawing.draw_landmarks(image, results.right_hand_landmarks, mp_holistic.HAND_CONNECTIONS, \n",
    "                             mp_drawing.DrawingSpec(color=(245,117,66), thickness=2, circle_radius=4), \n",
    "                             mp_drawing.DrawingSpec(color=(245,66,230), thickness=2, circle_radius=2)\n",
    "                             )\n",
    "                            \n",
    "def extract_keypoints(results):\n",
    "    pose = list(np.array([[res.x, res.y, res.z, res.visibility] for res in results.pose_landmarks.landmark]).flatten() if results.pose_landmarks else np.zeros(33*4))\n",
    "    #face = np.array([[res.x, res.y, res.z] for res in results.face_landmarks.landmark]).flatten() if results.face_landmarks else np.zeros(468*3)\n",
    "    lh = list(np.array([[res.x, res.y, res.z] for res in results.left_hand_landmarks.landmark]).flatten() if results.left_hand_landmarks else np.zeros(21*3))\n",
    "    rh = list(np.array([[res.x, res.y, res.z] for res in results.right_hand_landmarks.landmark]).flatten() if results.right_hand_landmarks else np.zeros(21*3))\n",
    "    #return np.concatenate([pose, face, lh, rh])\n",
    "    return (pose + lh + rh)\n",
    "\n",
    "def Image_normaliser(img):\n",
    "    mp_holistic = mp.solutions.holistic\n",
    "    with mp_holistic.Holistic(static_image_mode=True) as holistic:\n",
    "        results = holistic.process(img)\n",
    "        Right_hand_mark = np.array([[res.x, res.y, res.z]for res in results.right_hand_landmarks.landmark])if results.right_hand_landmarks else np.zeros((21,3))\n",
    "        Left_hand_mark = np.array([[res.x, res.y, res.z]for res in results.left_hand_landmarks.landmark]) if results.left_hand_landmarks else np.zeros((21,3))\n",
    "        pose = np.array([[res.x,res.y,res.z]for res in results.pose_landmarks.landmark]) if results.pose_landmarks else np.zeros((33,3))\n",
    "    \n",
    "        #on fait les calcule pour avoir les valeur des distance dans le monde pixel\n",
    "    \n",
    "        depx =  abs(pose[11][0] - pose[12][0]) #distance epaule \n",
    "        epaule1 = np.array(pose[12][0:3])\n",
    "        epaule2 = np.array(pose[11][0:3])\n",
    "        origine=(epaule1+epaule2)/2\n",
    "        dornose=abs(pose[0][1]-origine[1])\n",
    "        dz=depx  #comme on sait pas encore comment est estimé la valeur z on prend meme valeur que x\n",
    "        dnormaliser=np.array([depx,dornose,dz])\n",
    "        normaliser=np.array([40,20,40])\n",
    "    \n",
    "        shifted_hand_marks_coordr=Right_hand_mark-origine #right\n",
    "        shifted_hand_marks_coordl=Left_hand_mark-origine  #left\n",
    "        shifted_pose_marks_coord=pose-origine             #pose \n",
    "    \n",
    "        hand_marks_coord_normalizedr = shifted_hand_marks_coordr*normaliser/dnormaliser  #right hand\n",
    "        hand_marks_coord_normalizedl = shifted_hand_marks_coordl*normaliser/dnormaliser  #left hand\n",
    "        pose_marks_coord_normalized = shifted_pose_marks_coord*normaliser/dnormaliser    #pose\n",
    "   #     print(hand_marks_coord_normalizedr)\n",
    "        #les valeurs retournées ne sont pas sous forme de vecteur utilise methode .flatten() pour vecteur.\n",
    "        return list(np.concatenate(( (hand_marks_coord_normalizedr/np.linalg.norm(hand_marks_coord_normalizedr[...,:-1],axis=1).reshape(21,1)).flatten(), (hand_marks_coord_normalizedl/np.linalg.norm(hand_marks_coord_normalizedl[...,:-1],axis=1).reshape(21,1)).flatten(), (pose_marks_coord_normalized/np.linalg.norm(pose_marks_coord_normalized[...,:-1],axis=1).reshape(33,1)).flatten() ), axis=None))"
   ]
  },
  {
   "cell_type": "markdown",
   "metadata": {},
   "source": [
    "Vérification"
   ]
  },
  {
   "cell_type": "code",
   "execution_count": 31,
   "metadata": {},
   "outputs": [
    {
     "name": "stdout",
     "output_type": "stream",
     "text": [
      "20 23\n"
     ]
    }
   ],
   "source": [
    "print(nb_videos,nb_frame)"
   ]
  },
  {
   "cell_type": "markdown",
   "metadata": {},
   "source": [
    "### Code"
   ]
  },
  {
   "cell_type": "markdown",
   "metadata": {},
   "source": [
    "Fonction retournant la liste des fichiers d'un dossier"
   ]
  },
  {
   "cell_type": "code",
   "execution_count": 32,
   "metadata": {},
   "outputs": [],
   "source": [
    "def listfichier(path):\n",
    "    L = os.listdir(path)\n",
    "    L1 = L\n",
    "    i=0\n",
    "    for j in L:\n",
    "        L1[i]  = path + '/' + L[i]\n",
    "        i+=1\n",
    "    #print(L1)\n",
    "    return L1"
   ]
  },
  {
   "cell_type": "code",
   "execution_count": 33,
   "metadata": {},
   "outputs": [
    {
     "name": "stdout",
     "output_type": "stream",
     "text": [
      "23\n",
      "23\n",
      "23\n",
      "23\n",
      "23\n",
      "23\n",
      "23\n",
      "23\n",
      "23\n",
      "23\n",
      "23\n",
      "23\n",
      "23\n",
      "23\n",
      "23\n",
      "23\n",
      "23\n",
      "23\n",
      "23\n",
      "23\n"
     ]
    }
   ],
   "source": [
    "rang_mot = 0\n",
    "rang_video = 0\n",
    "rang_frame=0\n",
    "# Set mediapipe model \n",
    "with mp_holistic.Holistic(min_detection_confidence=0.5, min_tracking_confidence=0.5) as holistic:\n",
    "    données = listfichier(data_path)\n",
    "    for mot in données:\n",
    "        dossiers=listfichier(mot + '/')\n",
    "        cmpt=0\n",
    "        for d in dossiers:\n",
    "            fichiers=listfichier(d + '/')\n",
    "            print(len(fichiers))\n",
    "            row = []\n",
    "            row2= []\n",
    "            cmpt=cmpt\n",
    "            for f in fichiers:\n",
    "                cap = cv2.VideoCapture(f)\n",
    "                ret, frame = cap.read()\n",
    "                if ret :\n",
    "                    \n",
    "                    image, results = mediapipe_detection(frame, holistic)\n",
    "\n",
    "                    draw_styled_landmarks(image, results)\n",
    "                    frame2=cv2.flip(frame,1)\n",
    "                    row += Image_normaliser(frame)\n",
    "                    row2 +=Image_normaliser(frame2)\n",
    "                    \n",
    "                    rang_frame+=1\n",
    "                    if cv2.waitKey(10) & 0xFF == ord('q'):\n",
    "                        break\n",
    "                cap.release()\n",
    "                cv2.destroyAllWindows()\n",
    "            row.insert(0, cmpt )\n",
    "            row.insert(0, mots[rang_mot] )\n",
    "            row2.insert(0,cmpt)\n",
    "            row2.insert(0,mots[rang_mot])\n",
    "            with open('output/coords.csv', mode='a', newline='') as f:\n",
    "                csv_writer = csv.writer(f, delimiter=',', quotechar='\"', quoting=csv.QUOTE_MINIMAL)\n",
    "                csv_writer.writerow(row) \n",
    "                csv_writer.writerow(row2)\n",
    "            rang_frame=0\n",
    "            rang_video+=1\n",
    "            cmpt+=1\n",
    "        rang_video=0\n",
    "        rang_mot+=1"
   ]
  },
  {
   "cell_type": "code",
   "execution_count": 32,
   "metadata": {},
   "outputs": [
    {
     "name": "stdout",
     "output_type": "stream",
     "text": [
      "['output/coords_csv/adresse']\n"
     ]
    }
   ],
   "source": [
    "print(données)"
   ]
  },
  {
   "cell_type": "code",
   "execution_count": null,
   "metadata": {},
   "outputs": [],
   "source": []
  },
  {
   "cell_type": "markdown",
   "metadata": {},
   "source": [
    "Supprimer les images intermédiaires"
   ]
  },
  {
   "cell_type": "code",
   "execution_count": 18,
   "metadata": {},
   "outputs": [
    {
     "ename": "NameError",
     "evalue": "name 'données' is not defined",
     "output_type": "error",
     "traceback": [
      "\u001b[0;31m---------------------------------------------------------------------------\u001b[0m",
      "\u001b[0;31mNameError\u001b[0m                                 Traceback (most recent call last)",
      "Cell \u001b[0;32mIn [18], line 1\u001b[0m\n\u001b[0;32m----> 1\u001b[0m \u001b[39mfor\u001b[39;00m mot \u001b[39min\u001b[39;00m données:\n\u001b[1;32m      2\u001b[0m         dossiers\u001b[39m=\u001b[39mlistfichier(mot \u001b[39m+\u001b[39m \u001b[39m'\u001b[39m\u001b[39m/\u001b[39m\u001b[39m'\u001b[39m)\n\u001b[1;32m      3\u001b[0m         \u001b[39mfor\u001b[39;00m d \u001b[39min\u001b[39;00m dossiers:\n",
      "\u001b[0;31mNameError\u001b[0m: name 'données' is not defined"
     ]
    }
   ],
   "source": [
    "\n",
    "for mot in données:\n",
    "        dossiers=listfichier(mot + '/')\n",
    "        for d in dossiers:\n",
    "            fichiers=listfichier(d + '/')\n",
    "            for f in fichiers:\n",
    "                if f[-1]=='g':\n",
    "                    os.remove(f) #supprimer l'image\n",
    "            os.rmdir(d)\n",
    "        os.rmdir(mot)\n",
    "os.rmdir(data_path)\n"
   ]
  }
 ],
 "metadata": {
  "kernelspec": {
   "display_name": "Python 3",
   "language": "python",
   "name": "python3"
  },
  "language_info": {
   "codemirror_mode": {
    "name": "ipython",
    "version": 3
   },
   "file_extension": ".py",
   "mimetype": "text/x-python",
   "name": "python",
   "nbconvert_exporter": "python",
   "pygments_lexer": "ipython3",
   "version": "3.8.10"
  },
  "orig_nbformat": 4,
  "vscode": {
   "interpreter": {
    "hash": "31f2aee4e71d21fbe5cf8b01ff0e069b9275f58929596ceb00d14d90e3e16cd6"
   }
  }
 },
 "nbformat": 4,
 "nbformat_minor": 2
}
