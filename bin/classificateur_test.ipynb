{
 "cells": [
  {
   "cell_type": "code",
   "execution_count": 2,
   "metadata": {},
   "outputs": [],
   "source": [
    "import cv2\n",
    "import os\n",
    "import numpy as np\n",
    "import sklearn \n",
    "from sklearn import tree\n",
    "from sklearn.linear_model import SGDClassifier\n",
    "from sklearn import svm\n",
    "from sklearn.neural_network import MLPClassifier\n",
    "from os.path import isfile, join\n",
    "from moviepy.editor import VideoFileClip\n",
    "import csv\n",
    "import mediapipe as mp \n",
    "import pandas as pd\n",
    "import matplotlib.pyplot as plt\n",
    "from matplotlib.colors import ListedColormap\n",
    "from sklearn.model_selection import train_test_split\n",
    "from sklearn.neighbors import KNeighborsClassifier\n",
    "from sklearn.tree import DecisionTreeClassifier\n",
    "from sklearn.metrics import precision_score, recall_score, f1_score, roc_auc_score\n"
   ]
  },
  {
   "cell_type": "markdown",
   "metadata": {},
   "source": [
    "\n",
    "## Split des données "
   ]
  },
  {
   "cell_type": "code",
   "execution_count": 3,
   "metadata": {},
   "outputs": [],
   "source": [
    "df = pd.read_csv('/Users/paulinetournier/Desktop/main4/codeprojet2/main4_capgemini/pre-traitement/données/stockage_csv/64_adresse_vouloir.csv')\n",
    "nb_mots = 35"
   ]
  },
  {
   "cell_type": "code",
   "execution_count": 4,
   "metadata": {},
   "outputs": [],
   "source": [
    "#remplace nan with O\n",
    "df =df.fillna(0)\n",
    "\n",
    "#print(df.isnull().sum())\n",
    "\n",
    "#on split les données en train et test\n",
    "Y = df[['class']]\n",
    "X = df.iloc[:, 1:6001]\n",
    "X_train, X_test, y_train, y_test = train_test_split(X, Y, test_size=0.2, random_state=27, stratify=Y)\n",
    "\n"
   ]
  },
  {
   "cell_type": "markdown",
   "metadata": {},
   "source": [
    "## KNN - K plus proches voisins"
   ]
  },
  {
   "cell_type": "code",
   "execution_count": 11,
   "metadata": {},
   "outputs": [
    {
     "name": "stdout",
     "output_type": "stream",
     "text": [
      "0.4357142857142857 0.4357142857142857 0.4357142857142857\n"
     ]
    }
   ],
   "source": [
    "#on utilise le classificateur KNN\n",
    "knn = KNeighborsClassifier(n_neighbors=nb_mots, leaf_size=100)\n",
    "\n",
    "#Train the model on the training data\n",
    "knn.fit(X_train, y_train)\n",
    "\n",
    "#Make predictions on the test data\n",
    "y_pred = knn.predict(X_test)\n",
    "sklearn.metrics.accuracy_score(y_test, y_pred)\n",
    "\n",
    "#1 donc tout est bon !\n",
    "\n",
    "\n",
    "# Calcul de la précision\n",
    "precision = precision_score(y_test, y_pred, average='micro')\n",
    "\n",
    "# Calcul du rappel\n",
    "recall = recall_score(y_test, y_pred, average='micro')\n",
    "\n",
    "# Calcul de l'F1-score\n",
    "f1 = f1_score(y_test, y_pred, average='micro')\n",
    "\n",
    "# Calcul de l'AUC\n",
    "#auc = roc_auc_score(y_test, y_pred, average='micro')\n",
    "\n",
    "print(precision,recall,f1)\n",
    "\n"
   ]
  },
  {
   "cell_type": "code",
   "execution_count": 9,
   "metadata": {},
   "outputs": [
    {
     "name": "stdout",
     "output_type": "stream",
     "text": [
      "0.7870370370370371 0.7870370370370371 0.7870370370370371\n"
     ]
    }
   ],
   "source": [
    "\n",
    "# Calcul de la précision\n",
    "precision = precision_score(y_test, y_pred, average='micro')\n",
    "\n",
    "# Calcul du rappel\n",
    "recall = recall_score(y_test, y_pred, average='micro')\n",
    "\n",
    "# Calcul de l'F1-score\n",
    "f1 = f1_score(y_test, y_pred, average='micro')\n",
    "\n",
    "# Calcul de l'AUC\n",
    "#auc = roc_auc_score(y_test, y_pred, average='micro')\n",
    "\n",
    "print(precision,recall,f1)"
   ]
  },
  {
   "cell_type": "markdown",
   "metadata": {},
   "source": [
    "## arbres de décisions\n"
   ]
  },
  {
   "cell_type": "code",
   "execution_count": 10,
   "metadata": {},
   "outputs": [
    {
     "name": "stdout",
     "output_type": "stream",
     "text": [
      "0.8148148148148148 0.8148148148148148 0.8148148148148148\n"
     ]
    }
   ],
   "source": [
    "model_tree = tree.DecisionTreeClassifier()\n",
    "model_tree = model_tree.fit(X_train, y_train)\n",
    "\n",
    "\n",
    "# print(model_tree.predict(X_test))\n",
    "# print(y_test)\n",
    "\n",
    "sklearn.metrics.accuracy_score(y_test, model_tree.predict(X_test))\n",
    "\n",
    "y_pred = model_tree.predict(X_test)\n",
    "\n",
    "# Calcul de la précision\n",
    "precision = precision_score(y_test, y_pred, average='micro')\n",
    "\n",
    "# Calcul du rappel\n",
    "recall = recall_score(y_test, y_pred, average='micro')\n",
    "\n",
    "# Calcul de l'F1-score\n",
    "f1 = f1_score(y_test, y_pred, average='micro')\n",
    "\n",
    "# Calcul de l'AUC\n",
    "#auc = roc_auc_score(y_test, y_pred, average='micro')\n",
    "\n",
    "print(precision,recall,f1)\n"
   ]
  },
  {
   "cell_type": "markdown",
   "metadata": {},
   "source": [
    "YOUHOU premiers résultats superbes\n"
   ]
  },
  {
   "cell_type": "markdown",
   "metadata": {},
   "source": [
    "## Stochastic Gradient Descent\n",
    " "
   ]
  },
  {
   "cell_type": "code",
   "execution_count": 11,
   "metadata": {},
   "outputs": [
    {
     "data": {
      "text/plain": [
       "0.2222222222222222"
      ]
     },
     "execution_count": 11,
     "metadata": {},
     "output_type": "execute_result"
    }
   ],
   "source": [
    "clf_SGD = SGDClassifier(loss=\"hinge\", penalty=\"l2\", max_iter=5)\n",
    "\n",
    "clf_SGD.fit(X_train, y_train)\n",
    "\n",
    "SGDClassifier(max_iter=5)\n",
    "\n",
    "\n",
    "# print(y_test)\n",
    "\n",
    "sklearn.metrics.accuracy_score(y_test, clf_SGD.predict(X_test))"
   ]
  },
  {
   "cell_type": "markdown",
   "metadata": {},
   "source": [
    "## Support vector machines\n"
   ]
  },
  {
   "cell_type": "code",
   "execution_count": 12,
   "metadata": {},
   "outputs": [
    {
     "name": "stdout",
     "output_type": "stream",
     "text": [
      "0.4166666666666667 0.4166666666666667 0.4166666666666667\n"
     ]
    }
   ],
   "source": [
    "clf_SVM = svm.SVC()\n",
    "clf_SVM.fit(X_train, y_train)\n",
    "\n",
    "\n",
    "sklearn.metrics.accuracy_score(y_test, clf_SVM.predict(X_test))\n",
    "y_pred = clf_SVM.predict(X_test)\n",
    "\n",
    "# Calcul de la précision\n",
    "precision = precision_score(y_test, y_pred, average='micro')\n",
    "\n",
    "# Calcul du rappel\n",
    "recall = recall_score(y_test, y_pred, average='micro')\n",
    "\n",
    "# Calcul de l'F1-score\n",
    "f1 = f1_score(y_test, y_pred, average='micro')\n",
    "\n",
    "# Calcul de l'AUC\n",
    "#auc = roc_auc_score(y_test, y_pred, average='micro')\n",
    "\n",
    "print(precision,recall,f1)"
   ]
  },
  {
   "attachments": {},
   "cell_type": "markdown",
   "metadata": {},
   "source": [
    "## MPL\n"
   ]
  },
  {
   "cell_type": "code",
   "execution_count": 13,
   "metadata": {},
   "outputs": [
    {
     "data": {
      "text/plain": [
       "0.7222222222222222"
      ]
     },
     "execution_count": 13,
     "metadata": {},
     "output_type": "execute_result"
    }
   ],
   "source": [
    "clf_neural = MLPClassifier(solver='lbfgs', alpha = 1e-5, hidden_layer_sizes=(15,), random_state=1)\n",
    "clf_neural.fit(X_train, y_train)\n",
    "sklearn.metrics.accuracy_score(y_test, clf_neural.predict(X_test))\n",
    "\n",
    "\n"
   ]
  },
  {
   "cell_type": "code",
   "execution_count": 5,
   "metadata": {},
   "outputs": [],
   "source": [
    "from sklearn.neural_network import MLPClassifier\n",
    "from sklearn.model_selection import GridSearchCV\n",
    "\n",
    "# Définition des paramètres à tester\n",
    "parameters = {\n",
    "    'hidden_layer_sizes': [(10,), (20,)],\n",
    "    'alpha': [0.001, 0.01],\n",
    "    'max_iter': [100, 200]\n",
    "}\n",
    "\n",
    "# Initialisation de l'objet GridSearchCV\n",
    "mlp = MLPClassifier()\n",
    "clf = GridSearchCV(mlp, parameters, scoring='accuracy', cv=5)\n",
    "\n",
    "# Entrainement du classificateur\n",
    "clf.fit(X_train, y_train)\n",
    "\n",
    "# Affichage des meilleurs paramètres\n",
    "print(\"Les meilleurs paramètres sont:\", clf.best_params_)\n",
    "print(\"La meilleure précision est:\", clf.best_score_)"
   ]
  },
  {
   "cell_type": "markdown",
   "metadata": {},
   "source": [
    "On voit que ça marche moins bien, voir si les paramètres sont bien réglés"
   ]
  }
 ],
 "metadata": {
  "kernelspec": {
   "display_name": "Python 3.8.10 64-bit",
   "language": "python",
   "name": "python3"
  },
  "language_info": {
   "codemirror_mode": {
    "name": "ipython",
    "version": 3
   },
   "file_extension": ".py",
   "mimetype": "text/x-python",
   "name": "python",
   "nbconvert_exporter": "python",
   "pygments_lexer": "ipython3",
   "version": "3.8.10 (default, Nov 14 2022, 12:59:47) \n[GCC 9.4.0]"
  },
  "orig_nbformat": 4,
  "vscode": {
   "interpreter": {
    "hash": "31f2aee4e71d21fbe5cf8b01ff0e069b9275f58929596ceb00d14d90e3e16cd6"
   }
  }
 },
 "nbformat": 4,
 "nbformat_minor": 2
}
